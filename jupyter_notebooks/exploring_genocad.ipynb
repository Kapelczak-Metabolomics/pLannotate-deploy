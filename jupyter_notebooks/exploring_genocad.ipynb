{
 "metadata": {
  "language_info": {
   "codemirror_mode": {
    "name": "ipython",
    "version": 3
   },
   "file_extension": ".py",
   "mimetype": "text/x-python",
   "name": "python",
   "nbconvert_exporter": "python",
   "pygments_lexer": "ipython3",
   "version": "3.7.4-final"
  },
  "orig_nbformat": 2,
  "kernelspec": {
   "name": "Python 3.7.4 64-bit",
   "display_name": "Python 3.7.4 64-bit",
   "metadata": {
    "interpreter": {
     "hash": "aee8b7b246df8f9039afb4144a1f6fd8d2ca17a180786b69acc140d282b71a49"
    }
   }
  }
 },
 "nbformat": 4,
 "nbformat_minor": 2,
 "cells": [
  {
   "cell_type": "code",
   "execution_count": 45,
   "metadata": {},
   "outputs": [],
   "source": [
    "import re\n",
    "import pandas as pd\n",
    "\n",
    "with open(\"../data/databases/genocad/suggested_minimal.txt\") as fh:\n",
    "    txt=fh.readlines()\n",
    "formatted=[ele.strip() for ele in txt if ele.strip()]\n",
    "newList=[]\n",
    "delimiters = \" (\", \") \"\n",
    "regexPattern = '|'.join(map(re.escape, delimiters))\n",
    "for ele in formatted[2:]:\n",
    "    if ele[0]==\">\":\n",
    "        eleSplit=re.split(regexPattern, ele[1:])\n",
    "        seqLine=eleSplit.pop().split(maxsplit=2)\n",
    "        try:\n",
    "            seq=seqLine[2].replace(\" \",\"\")\n",
    "        except IndexError:\n",
    "            seq=\"\"\n",
    "        eleSplit.append(seq)\n",
    "        newList.append(eleSplit)\n",
    "    else:\n",
    "        newList[-1].append(newList[-1].pop()+ele.replace(\" \",\"\"))\n",
    "sugg_min=pd.DataFrame(newList,columns=['name','desc','seq'])\n",
    "#sugg_min.to_csv(\"../data/databases/genocad/suggested_minimal.csv\",index=None)"
   ]
  },
  {
   "cell_type": "code",
   "execution_count": 2,
   "metadata": {},
   "outputs": [
    {
     "output_type": "execute_result",
     "data": {
      "text/plain": [
       "                       name           desc  \\\n",
       "0             AmpR_promoter   variant -004   \n",
       "1              cat_promoter   variant -004   \n",
       "2        NeoR/KanR_promoter  consensus seq   \n",
       "3  KanR-aph(3’)-Ia_promoter  consensus seq   \n",
       "4      KanR-aphA-3_promoter  consensus seq   \n",
       "\n",
       "                                                 seq  \n",
       "0  CATTCAAATATGTATCCGCTCATGAGACAATAACCCTGATAAATGC...  \n",
       "1  TGATCGGCACGTAAGAGGTTCCAACTTTCACCATAATGAAATAAGA...  \n",
       "2  TCTGGTAAGGTTGGGAAGCCCTGCAAAGTAAACTGGATGGCTTTCT...  \n",
       "3  GTGTCTCAAAATCTCTGATGTTACATTGCACAAGATAAAAATATAT...  \n",
       "4  GGTTTCAAAATCGGCTCCGTCGATACTATGTTATACGCCAACTTTG...  "
      ],
      "text/html": "<div>\n<style scoped>\n    .dataframe tbody tr th:only-of-type {\n        vertical-align: middle;\n    }\n\n    .dataframe tbody tr th {\n        vertical-align: top;\n    }\n\n    .dataframe thead th {\n        text-align: right;\n    }\n</style>\n<table border=\"1\" class=\"dataframe\">\n  <thead>\n    <tr style=\"text-align: right;\">\n      <th></th>\n      <th>name</th>\n      <th>desc</th>\n      <th>seq</th>\n    </tr>\n  </thead>\n  <tbody>\n    <tr>\n      <th>0</th>\n      <td>AmpR_promoter</td>\n      <td>variant -004</td>\n      <td>CATTCAAATATGTATCCGCTCATGAGACAATAACCCTGATAAATGC...</td>\n    </tr>\n    <tr>\n      <th>1</th>\n      <td>cat_promoter</td>\n      <td>variant -004</td>\n      <td>TGATCGGCACGTAAGAGGTTCCAACTTTCACCATAATGAAATAAGA...</td>\n    </tr>\n    <tr>\n      <th>2</th>\n      <td>NeoR/KanR_promoter</td>\n      <td>consensus seq</td>\n      <td>TCTGGTAAGGTTGGGAAGCCCTGCAAAGTAAACTGGATGGCTTTCT...</td>\n    </tr>\n    <tr>\n      <th>3</th>\n      <td>KanR-aph(3’)-Ia_promoter</td>\n      <td>consensus seq</td>\n      <td>GTGTCTCAAAATCTCTGATGTTACATTGCACAAGATAAAAATATAT...</td>\n    </tr>\n    <tr>\n      <th>4</th>\n      <td>KanR-aphA-3_promoter</td>\n      <td>consensus seq</td>\n      <td>GGTTTCAAAATCGGCTCCGTCGATACTATGTTATACGCCAACTTTG...</td>\n    </tr>\n  </tbody>\n</table>\n</div>"
     },
     "metadata": {},
     "execution_count": 2
    }
   ],
   "source": [
    "import pandas as pd\n",
    "sugg_min=pd.read_csv(\"../data/databases/genocad/suggested_minimal.csv\")\n",
    "sugg_min.head()"
   ]
  },
  {
   "cell_type": "code",
   "execution_count": 3,
   "metadata": {
    "tags": []
   },
   "outputs": [],
   "source": [
    "import xmltodict\n",
    "with open(\"../data/databases/genocad/labhost_All.xml\") as fh:\n",
    "    xml=fh.readlines()\n",
    "\n",
    "t=xmltodict.parse(\"\".join(xml))"
   ]
  },
  {
   "cell_type": "code",
   "execution_count": 4,
   "metadata": {},
   "outputs": [
    {
     "output_type": "execute_result",
     "data": {
      "text/plain": [
       "odict_keys(['@xmlns', '@xmlns:ns2', 'Collection'])"
      ]
     },
     "metadata": {},
     "execution_count": 4
    }
   ],
   "source": [
    "t['ns2:RDF'].keys()"
   ]
  },
  {
   "cell_type": "code",
   "execution_count": 81,
   "metadata": {},
   "outputs": [
    {
     "output_type": "execute_result",
     "data": {
      "text/plain": [
       "13"
      ]
     },
     "metadata": {},
     "execution_count": 81
    }
   ],
   "source": [
    "len(t['ns2:RDF']['Collection'])"
   ]
  },
  {
   "cell_type": "code",
   "execution_count": 86,
   "metadata": {},
   "outputs": [
    {
     "output_type": "execute_result",
     "data": {
      "text/plain": [
       "odict_keys(['@ns2:about', 'displayId', 'name', 'description', 'component'])"
      ]
     },
     "metadata": {},
     "execution_count": 86
    }
   ],
   "source": [
    "t['ns2:RDF']['Collection'][-1].keys()"
   ]
  },
  {
   "cell_type": "code",
   "execution_count": 113,
   "metadata": {},
   "outputs": [
    {
     "output_type": "stream",
     "name": "stdout",
     "text": [
      "0: Collection of Aspergillus nidulans features\n1: Collection of Bacillus subtilis features\n2: Collection of Drosophila melanogaster features\n3: Collection of Escherichia Coli features\n4: Collection of Gram-negative bacteria features\n5: Collection of Insect Cells features\n6: Collection of Kluyveromyces lactis features\n7: Collection of Mammalian Cells features\n8: Collection of Pichia pastoris features\n9: Collection of Plant Cells features\n10: Collection of Saccharomyces cerevisiae features\n11: Collection of Schizosaccharomyces pombe features\n12: Collection of Unspecified labhost features\n"
     ]
    }
   ],
   "source": [
    "for num in list(range(13)):\n",
    "    print(num, end=\": \")\n",
    "    print(t['ns2:RDF']['Collection'][num]['name'])"
   ]
  },
  {
   "cell_type": "code",
   "execution_count": 12,
   "metadata": {},
   "outputs": [
    {
     "output_type": "execute_result",
     "data": {
      "text/plain": [
       "odict_keys(['@ns2:about', 'ns2:type', 'displayId', 'name', 'description', 'dnaSequence'])"
      ]
     },
     "metadata": {},
     "execution_count": 12
    }
   ],
   "source": [
    "collectionNum=0\n",
    "compNum=0\n",
    "t['ns2:RDF']['Collection'][collectionNum]['component'][compNum]['DnaComponent'].keys()"
   ]
  },
  {
   "cell_type": "code",
   "execution_count": 20,
   "metadata": {},
   "outputs": [
    {
     "output_type": "execute_result",
     "data": {
      "text/plain": [
       "OrderedDict([('DnaSequence',\n",
       "              OrderedDict([('@ns2:about',\n",
       "                            'http://genocad.org/SBOL/doi:10.6084/m9.figshare.1159038/Part:AmpR_promoter-009#seq'),\n",
       "                           ('nucleotides',\n",
       "                            'cgcggaacccctatttgtttatttttctaaatacattcaaatatgtatccgctcatgagacaataaccctgataaatgcttcaataatattgaaaaaggaagagt')]))])"
      ]
     },
     "metadata": {},
     "execution_count": 20
    }
   ],
   "source": [
    "t['ns2:RDF']['Collection'][collectionNum]['component'][compNum]['DnaComponent']['dnaSequence']"
   ]
  },
  {
   "cell_type": "code",
   "execution_count": null,
   "metadata": {},
   "outputs": [],
   "source": []
  },
  {
   "cell_type": "code",
   "execution_count": 109,
   "metadata": {},
   "outputs": [
    {
     "output_type": "execute_result",
     "data": {
      "text/plain": [
       "            name          desc  \\\n",
       "0  AmpR_promoter  variant -004   \n",
       "\n",
       "                                                 seq  \n",
       "0  CATTCAAATATGTATCCGCTCATGAGACAATAACCCTGATAAATGC...  "
      ],
      "text/html": "<div>\n<style scoped>\n    .dataframe tbody tr th:only-of-type {\n        vertical-align: middle;\n    }\n\n    .dataframe tbody tr th {\n        vertical-align: top;\n    }\n\n    .dataframe thead th {\n        text-align: right;\n    }\n</style>\n<table border=\"1\" class=\"dataframe\">\n  <thead>\n    <tr style=\"text-align: right;\">\n      <th></th>\n      <th>name</th>\n      <th>desc</th>\n      <th>seq</th>\n    </tr>\n  </thead>\n  <tbody>\n    <tr>\n      <th>0</th>\n      <td>AmpR_promoter</td>\n      <td>variant -004</td>\n      <td>CATTCAAATATGTATCCGCTCATGAGACAATAACCCTGATAAATGC...</td>\n    </tr>\n  </tbody>\n</table>\n</div>"
     },
     "metadata": {},
     "execution_count": 109
    }
   ],
   "source": [
    "sugg_min[sugg_min['seq'].str.contains(\"atgtatccgctcatg\".upper())]"
   ]
  },
  {
   "cell_type": "code",
   "execution_count": 110,
   "metadata": {},
   "outputs": [
    {
     "output_type": "execute_result",
     "data": {
      "text/plain": [
       "0     CATTCAAATATGTATCCGCTCATGAGACAATAACCCTGATAAATGC...\n",
       "1     TGATCGGCACGTAAGAGGTTCCAACTTTCACCATAATGAAATAAGA...\n",
       "2     TCTGGTAAGGTTGGGAAGCCCTGCAAAGTAAACTGGATGGCTTTCT...\n",
       "3     GTGTCTCAAAATCTCTGATGTTACATTGCACAAGATAAAAATATAT...\n",
       "4     GGTTTCAAAATCGGCTCCGTCGATACTATGTTATACGCCAACTTTG...\n",
       "5     ACCCAGTTGACATAAGCCTGTTCGGTTCGTAAACTGTAATGCAAGT...\n",
       "6     ACCCAGTGGACATAAGCCTCGTTCGGTTCGTAAGCTGTAATGCAAG...\n",
       "7     ACCCAGTGGACATAAGCCTCGTTCGGTTCGTAAGCTGTAATGCAAG...\n",
       "8     GGCTTACTAAAAGCCAGATAACAGTATGCGTATTTGCGCGCTGATT...\n",
       "9     CGTTACATAACTTACGGTAAATGGCCCGCCTGGCTGACCGCCCAAC...\n",
       "10    TGATGCGGTTTTGGCAGTACATCAATGGGCGTGGATAGCGGTTTGA...\n",
       "11    ATCCCGCCCCTAACTCCGCCCAGTTCCGCCCATTCTCCGCCCCATG...\n",
       "12    TGCATCTCAATTAGTCAGCAACCATAGTCCCGCCCCTAACTCCGCC...\n",
       "13    GGTGTGGAAAGTCCCCAGGCTCCCCAGCAGGCAGAAGTATGCAAAG...\n",
       "14    ACGCGCCCTGTAGCGGCGCATTAAGCGCGGCGGGTGTGGTGGTTAC...\n",
       "15    ACGCGCCCTGTAGCGGCGCATTAAGCGCGGCGGGTGTGGTGGTTAC...\n",
       "16    TTGAGATCCTTTTTTTCTGCGCGTAATCTGCTGCTTGCAAACAAAA...\n",
       "17    TTGAGATCCTTTTTTTCTGCGCGTAATCTGCTGCTTGCAAACAAAA...\n",
       "18    CCCCTCTCCCTCCCCCCCCCCTAACGTTACTGGCCGAAGCCGCTTG...\n",
       "19    CCCCTCTCCCTCCCCCCCCCCTAACGTTACTGGCCGAAGCCGCTTG...\n",
       "20    GAGGGCCCGGAAACCTGGCCCTGTCTTCTTGACGAGCATTCCTAGG...\n",
       "21    ATGAGTATTCAACATTTCCGTGTCGCCCTTATTCCCTTTTTTGCGG...\n",
       "22    ATGGACCCAGAAACGCTGGTGAAAGTAAAAGATGCTGAAGATCAGT...\n",
       "23    ATGGCCAAGTTGACCAGTGCCGTTCCGGTGCTCACCGCGCGCGACG...\n",
       "24    ATGAGCCCAGAACGACGCCCGGCCGACATCCGCCGTGCCACCGAGG...\n",
       "25    ATGGCGGCGGTCTGCGACATCGTCAATCACTACATCGAGACGAGCA...\n",
       "26    ATGGCCAAGCCTTTGTCTCAAGAAGAATCCACCCTCATTGAAAGAG...\n",
       "27    ATGCAGTTTAAGGTTTACACCTATAAAAGAGAGAGCCGTTATCGTC...\n",
       "28    ATGGAGAAAAAAATCACTGGATATACCACCGTTGATATATCCCAAT...\n",
       "29    GGAGTGCAGGTGGAAACCATCTCCCCAGGAGACGGGCGCACCTTCC...\n",
       "30    GGAGTGCAGGTGGAGACTATCTCCCCAGGAGACGGGCGCACCTTCC...\n",
       "31    ATCCTCTGGCATGAGATGTGGCATGAAGGCCTGGAAGAGGCATCTC...\n",
       "32    ATCCTCTGGCATGAGATGTGGCATGAAGGCCTGGAAGAGGCATCTC...\n",
       "33    GGAGTGCAGGTGGAGACTATCTCCCCAGGAGACGGGCGCACCTTCC...\n",
       "34    ATGGGAGTGCAGGTGGAAACCATCTCCCCAGGAGACGGGCGCACCT...\n",
       "35    GGAGTGCAGGTGGAAACCATCTCCCCAGGAGACGGGCGCACCTTCC...\n",
       "36    ATGTTACGCAGCAGCAACGATGTTACGCAGCAGGGCAGTCGCCCTA...\n",
       "37    ATGAAAAAGCCTGAACTCACCGCGACGTCTGTCGAGAAGTTTCTGA...\n",
       "38    ATGAGCCATATTCAACGGGAAACGTCTTGCTCGAGGCCGCGATTAA...\n",
       "39    ATGGCTAAAATGAGAATATCACCGGAATTGAAAAAACTGATCGAAA...\n",
       "40    GTGAAACCAGTAACGTTATACGATGTCGCAGAGTATGCCGGTGTCT...\n",
       "41    ATGGAAGACGCCAAAAACATAAAGAAAGGCCCGGCGCCATTCTATC...\n",
       "42    ATGGAAGACGCCAAAAACATAAAGAAAGGCCCGGCGCCATTCTATC...\n",
       "43    ATGGAAGATGCCAAAAACATTAAGAAGGGCCCAGCGCCATTCTACC...\n",
       "44    ATGAAAATCGAAGAAGGTAAACTGGTAATCTGGATTAACGGCGATA...\n",
       "45    ATGGCAATTACCTTATCCGCAACTTCTTTACCTATTTCCGCCCGGA...\n",
       "46    ATGATTGAACAAGATGGATTGCACGCAGGTTCTCCGGCCGCTTGGG...\n",
       "47    ATGACCGAGTACAAGCCCACGGTGCGCCTCGCCACCCGCGACGACG...\n",
       "48    ATGAATAGTTCGACAAAGATCGCATTGGTAATTACGTTACTCGATG...\n",
       "49    ATGAAACCCAACATACCCCTGATCGTAATTCTGAGCACTGTCGCGC...\n",
       "50    ATGAAATCTAACAATGCGCTCATCGTCATCCTCGGCACCGTCACCC...\n",
       "51    GTGAATACATCCTATTCACAATCGAATTTACGACACAACCAAATTT...\n",
       "52    ATGACAAAGTTGCAGCCGAATACAGTGATCCGTGCCGCCCTGGACC...\n",
       "53    ATGTCTAGATTAGATAAAAGTAAAGTGATTAACAGCGCATTAGAGC...\n",
       "Name: seq, dtype: object"
      ]
     },
     "metadata": {},
     "execution_count": 110
    }
   ],
   "source": []
  },
  {
   "cell_type": "code",
   "execution_count": null,
   "metadata": {},
   "outputs": [],
   "source": []
  }
 ]
}