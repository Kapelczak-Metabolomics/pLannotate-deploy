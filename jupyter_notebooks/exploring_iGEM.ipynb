{
 "metadata": {
  "language_info": {
   "codemirror_mode": {
    "name": "ipython",
    "version": 3
   },
   "file_extension": ".py",
   "mimetype": "text/x-python",
   "name": "python",
   "nbconvert_exporter": "python",
   "pygments_lexer": "ipython3",
   "version": "3.7.4-final"
  },
  "orig_nbformat": 2,
  "kernelspec": {
   "name": "Python 3.7.4 64-bit",
   "display_name": "Python 3.7.4 64-bit",
   "metadata": {
    "interpreter": {
     "hash": "aee8b7b246df8f9039afb4144a1f6fd8d2ca17a180786b69acc140d282b71a49"
    }
   }
  }
 },
 "nbformat": 4,
 "nbformat_minor": 2,
 "cells": [
  {
   "cell_type": "code",
   "execution_count": 1,
   "metadata": {},
   "outputs": [],
   "source": [
    "import pandas as pd\n",
    "df=pd.read_csv(\"../data/databases/xml_parts.csv\").dropna()\n",
    "df['start_pos'] = df['start_pos'].astype(int)\n",
    "df['end_pos']   = df['end_pos'].astype(int)\n",
    "df[\"part_len\"]=df[\"end_pos\"]-df['start_pos']+1\n",
    "df['seq_len']=df['sequence'].astype(str).apply(len)\n",
    "biobrick=df[df['feature_type']==\"BioBrick\"]"
   ]
  },
  {
   "cell_type": "code",
   "execution_count": 106,
   "metadata": {},
   "outputs": [],
   "source": [
    "from collections import Counter\n",
    "num_dups=Counter([ele[1] for ele in Counter(biobrick[\"part_name\"]).most_common()]).most_common()\n",
    "num_dups=pd.DataFrame(num_dups,columns=[\"# dup part_name\",\"count\"])"
   ]
  },
  {
   "cell_type": "code",
   "execution_count": 107,
   "metadata": {},
   "outputs": [
    {
     "output_type": "display_data",
     "data": {
      "application/vnd.plotly.v1+json": {
       "config": {
        "plotlyServerURL": "https://plot.ly"
       },
       "data": [
        {
         "alignmentgroup": "True",
         "hovertemplate": "# dup part_name=%{x}<br>count=%{y}<extra></extra>",
         "legendgroup": "",
         "marker": {
          "color": "#636efa"
         },
         "name": "",
         "offsetgroup": "",
         "orientation": "v",
         "showlegend": false,
         "textposition": "auto",
         "type": "bar",
         "x": [
          2,
          3,
          5,
          6,
          4,
          7,
          1,
          8,
          9,
          10,
          12,
          13,
          11,
          14,
          15,
          16,
          18,
          21,
          19,
          20,
          17,
          22,
          28,
          26,
          23,
          24,
          25,
          44,
          29,
          27,
          45,
          32,
          30,
          41,
          36,
          46,
          51,
          40,
          43,
          31,
          38,
          37,
          33,
          48,
          34,
          100,
          39,
          35,
          73,
          47,
          64,
          61,
          55,
          53,
          52,
          42,
          98,
          74,
          71,
          70,
          63,
          60,
          59,
          50
         ],
         "xaxis": "x",
         "y": [
          4198,
          2995,
          2885,
          2610,
          2571,
          1376,
          1232,
          1126,
          861,
          675,
          491,
          490,
          417,
          379,
          280,
          232,
          163,
          149,
          142,
          140,
          99,
          76,
          70,
          68,
          50,
          43,
          37,
          34,
          34,
          30,
          19,
          16,
          16,
          14,
          14,
          12,
          10,
          10,
          9,
          9,
          8,
          7,
          7,
          6,
          6,
          5,
          5,
          5,
          4,
          4,
          3,
          2,
          2,
          2,
          2,
          2,
          1,
          1,
          1,
          1,
          1,
          1,
          1,
          1
         ],
         "yaxis": "y"
        }
       ],
       "layout": {
        "barmode": "relative",
        "legend": {
         "tracegroupgap": 0
        },
        "template": {
         "data": {
          "bar": [
           {
            "error_x": {
             "color": "#2a3f5f"
            },
            "error_y": {
             "color": "#2a3f5f"
            },
            "marker": {
             "line": {
              "color": "#E5ECF6",
              "width": 0.5
             }
            },
            "type": "bar"
           }
          ],
          "barpolar": [
           {
            "marker": {
             "line": {
              "color": "#E5ECF6",
              "width": 0.5
             }
            },
            "type": "barpolar"
           }
          ],
          "carpet": [
           {
            "aaxis": {
             "endlinecolor": "#2a3f5f",
             "gridcolor": "white",
             "linecolor": "white",
             "minorgridcolor": "white",
             "startlinecolor": "#2a3f5f"
            },
            "baxis": {
             "endlinecolor": "#2a3f5f",
             "gridcolor": "white",
             "linecolor": "white",
             "minorgridcolor": "white",
             "startlinecolor": "#2a3f5f"
            },
            "type": "carpet"
           }
          ],
          "choropleth": [
           {
            "colorbar": {
             "outlinewidth": 0,
             "ticks": ""
            },
            "type": "choropleth"
           }
          ],
          "contour": [
           {
            "colorbar": {
             "outlinewidth": 0,
             "ticks": ""
            },
            "colorscale": [
             [
              0,
              "#0d0887"
             ],
             [
              0.1111111111111111,
              "#46039f"
             ],
             [
              0.2222222222222222,
              "#7201a8"
             ],
             [
              0.3333333333333333,
              "#9c179e"
             ],
             [
              0.4444444444444444,
              "#bd3786"
             ],
             [
              0.5555555555555556,
              "#d8576b"
             ],
             [
              0.6666666666666666,
              "#ed7953"
             ],
             [
              0.7777777777777778,
              "#fb9f3a"
             ],
             [
              0.8888888888888888,
              "#fdca26"
             ],
             [
              1,
              "#f0f921"
             ]
            ],
            "type": "contour"
           }
          ],
          "contourcarpet": [
           {
            "colorbar": {
             "outlinewidth": 0,
             "ticks": ""
            },
            "type": "contourcarpet"
           }
          ],
          "heatmap": [
           {
            "colorbar": {
             "outlinewidth": 0,
             "ticks": ""
            },
            "colorscale": [
             [
              0,
              "#0d0887"
             ],
             [
              0.1111111111111111,
              "#46039f"
             ],
             [
              0.2222222222222222,
              "#7201a8"
             ],
             [
              0.3333333333333333,
              "#9c179e"
             ],
             [
              0.4444444444444444,
              "#bd3786"
             ],
             [
              0.5555555555555556,
              "#d8576b"
             ],
             [
              0.6666666666666666,
              "#ed7953"
             ],
             [
              0.7777777777777778,
              "#fb9f3a"
             ],
             [
              0.8888888888888888,
              "#fdca26"
             ],
             [
              1,
              "#f0f921"
             ]
            ],
            "type": "heatmap"
           }
          ],
          "heatmapgl": [
           {
            "colorbar": {
             "outlinewidth": 0,
             "ticks": ""
            },
            "colorscale": [
             [
              0,
              "#0d0887"
             ],
             [
              0.1111111111111111,
              "#46039f"
             ],
             [
              0.2222222222222222,
              "#7201a8"
             ],
             [
              0.3333333333333333,
              "#9c179e"
             ],
             [
              0.4444444444444444,
              "#bd3786"
             ],
             [
              0.5555555555555556,
              "#d8576b"
             ],
             [
              0.6666666666666666,
              "#ed7953"
             ],
             [
              0.7777777777777778,
              "#fb9f3a"
             ],
             [
              0.8888888888888888,
              "#fdca26"
             ],
             [
              1,
              "#f0f921"
             ]
            ],
            "type": "heatmapgl"
           }
          ],
          "histogram": [
           {
            "marker": {
             "colorbar": {
              "outlinewidth": 0,
              "ticks": ""
             }
            },
            "type": "histogram"
           }
          ],
          "histogram2d": [
           {
            "colorbar": {
             "outlinewidth": 0,
             "ticks": ""
            },
            "colorscale": [
             [
              0,
              "#0d0887"
             ],
             [
              0.1111111111111111,
              "#46039f"
             ],
             [
              0.2222222222222222,
              "#7201a8"
             ],
             [
              0.3333333333333333,
              "#9c179e"
             ],
             [
              0.4444444444444444,
              "#bd3786"
             ],
             [
              0.5555555555555556,
              "#d8576b"
             ],
             [
              0.6666666666666666,
              "#ed7953"
             ],
             [
              0.7777777777777778,
              "#fb9f3a"
             ],
             [
              0.8888888888888888,
              "#fdca26"
             ],
             [
              1,
              "#f0f921"
             ]
            ],
            "type": "histogram2d"
           }
          ],
          "histogram2dcontour": [
           {
            "colorbar": {
             "outlinewidth": 0,
             "ticks": ""
            },
            "colorscale": [
             [
              0,
              "#0d0887"
             ],
             [
              0.1111111111111111,
              "#46039f"
             ],
             [
              0.2222222222222222,
              "#7201a8"
             ],
             [
              0.3333333333333333,
              "#9c179e"
             ],
             [
              0.4444444444444444,
              "#bd3786"
             ],
             [
              0.5555555555555556,
              "#d8576b"
             ],
             [
              0.6666666666666666,
              "#ed7953"
             ],
             [
              0.7777777777777778,
              "#fb9f3a"
             ],
             [
              0.8888888888888888,
              "#fdca26"
             ],
             [
              1,
              "#f0f921"
             ]
            ],
            "type": "histogram2dcontour"
           }
          ],
          "mesh3d": [
           {
            "colorbar": {
             "outlinewidth": 0,
             "ticks": ""
            },
            "type": "mesh3d"
           }
          ],
          "parcoords": [
           {
            "line": {
             "colorbar": {
              "outlinewidth": 0,
              "ticks": ""
             }
            },
            "type": "parcoords"
           }
          ],
          "pie": [
           {
            "automargin": true,
            "type": "pie"
           }
          ],
          "scatter": [
           {
            "marker": {
             "colorbar": {
              "outlinewidth": 0,
              "ticks": ""
             }
            },
            "type": "scatter"
           }
          ],
          "scatter3d": [
           {
            "line": {
             "colorbar": {
              "outlinewidth": 0,
              "ticks": ""
             }
            },
            "marker": {
             "colorbar": {
              "outlinewidth": 0,
              "ticks": ""
             }
            },
            "type": "scatter3d"
           }
          ],
          "scattercarpet": [
           {
            "marker": {
             "colorbar": {
              "outlinewidth": 0,
              "ticks": ""
             }
            },
            "type": "scattercarpet"
           }
          ],
          "scattergeo": [
           {
            "marker": {
             "colorbar": {
              "outlinewidth": 0,
              "ticks": ""
             }
            },
            "type": "scattergeo"
           }
          ],
          "scattergl": [
           {
            "marker": {
             "colorbar": {
              "outlinewidth": 0,
              "ticks": ""
             }
            },
            "type": "scattergl"
           }
          ],
          "scattermapbox": [
           {
            "marker": {
             "colorbar": {
              "outlinewidth": 0,
              "ticks": ""
             }
            },
            "type": "scattermapbox"
           }
          ],
          "scatterpolar": [
           {
            "marker": {
             "colorbar": {
              "outlinewidth": 0,
              "ticks": ""
             }
            },
            "type": "scatterpolar"
           }
          ],
          "scatterpolargl": [
           {
            "marker": {
             "colorbar": {
              "outlinewidth": 0,
              "ticks": ""
             }
            },
            "type": "scatterpolargl"
           }
          ],
          "scatterternary": [
           {
            "marker": {
             "colorbar": {
              "outlinewidth": 0,
              "ticks": ""
             }
            },
            "type": "scatterternary"
           }
          ],
          "surface": [
           {
            "colorbar": {
             "outlinewidth": 0,
             "ticks": ""
            },
            "colorscale": [
             [
              0,
              "#0d0887"
             ],
             [
              0.1111111111111111,
              "#46039f"
             ],
             [
              0.2222222222222222,
              "#7201a8"
             ],
             [
              0.3333333333333333,
              "#9c179e"
             ],
             [
              0.4444444444444444,
              "#bd3786"
             ],
             [
              0.5555555555555556,
              "#d8576b"
             ],
             [
              0.6666666666666666,
              "#ed7953"
             ],
             [
              0.7777777777777778,
              "#fb9f3a"
             ],
             [
              0.8888888888888888,
              "#fdca26"
             ],
             [
              1,
              "#f0f921"
             ]
            ],
            "type": "surface"
           }
          ],
          "table": [
           {
            "cells": {
             "fill": {
              "color": "#EBF0F8"
             },
             "line": {
              "color": "white"
             }
            },
            "header": {
             "fill": {
              "color": "#C8D4E3"
             },
             "line": {
              "color": "white"
             }
            },
            "type": "table"
           }
          ]
         },
         "layout": {
          "annotationdefaults": {
           "arrowcolor": "#2a3f5f",
           "arrowhead": 0,
           "arrowwidth": 1
          },
          "coloraxis": {
           "colorbar": {
            "outlinewidth": 0,
            "ticks": ""
           }
          },
          "colorscale": {
           "diverging": [
            [
             0,
             "#8e0152"
            ],
            [
             0.1,
             "#c51b7d"
            ],
            [
             0.2,
             "#de77ae"
            ],
            [
             0.3,
             "#f1b6da"
            ],
            [
             0.4,
             "#fde0ef"
            ],
            [
             0.5,
             "#f7f7f7"
            ],
            [
             0.6,
             "#e6f5d0"
            ],
            [
             0.7,
             "#b8e186"
            ],
            [
             0.8,
             "#7fbc41"
            ],
            [
             0.9,
             "#4d9221"
            ],
            [
             1,
             "#276419"
            ]
           ],
           "sequential": [
            [
             0,
             "#0d0887"
            ],
            [
             0.1111111111111111,
             "#46039f"
            ],
            [
             0.2222222222222222,
             "#7201a8"
            ],
            [
             0.3333333333333333,
             "#9c179e"
            ],
            [
             0.4444444444444444,
             "#bd3786"
            ],
            [
             0.5555555555555556,
             "#d8576b"
            ],
            [
             0.6666666666666666,
             "#ed7953"
            ],
            [
             0.7777777777777778,
             "#fb9f3a"
            ],
            [
             0.8888888888888888,
             "#fdca26"
            ],
            [
             1,
             "#f0f921"
            ]
           ],
           "sequentialminus": [
            [
             0,
             "#0d0887"
            ],
            [
             0.1111111111111111,
             "#46039f"
            ],
            [
             0.2222222222222222,
             "#7201a8"
            ],
            [
             0.3333333333333333,
             "#9c179e"
            ],
            [
             0.4444444444444444,
             "#bd3786"
            ],
            [
             0.5555555555555556,
             "#d8576b"
            ],
            [
             0.6666666666666666,
             "#ed7953"
            ],
            [
             0.7777777777777778,
             "#fb9f3a"
            ],
            [
             0.8888888888888888,
             "#fdca26"
            ],
            [
             1,
             "#f0f921"
            ]
           ]
          },
          "colorway": [
           "#636efa",
           "#EF553B",
           "#00cc96",
           "#ab63fa",
           "#FFA15A",
           "#19d3f3",
           "#FF6692",
           "#B6E880",
           "#FF97FF",
           "#FECB52"
          ],
          "font": {
           "color": "#2a3f5f"
          },
          "geo": {
           "bgcolor": "white",
           "lakecolor": "white",
           "landcolor": "#E5ECF6",
           "showlakes": true,
           "showland": true,
           "subunitcolor": "white"
          },
          "hoverlabel": {
           "align": "left"
          },
          "hovermode": "closest",
          "mapbox": {
           "style": "light"
          },
          "paper_bgcolor": "white",
          "plot_bgcolor": "#E5ECF6",
          "polar": {
           "angularaxis": {
            "gridcolor": "white",
            "linecolor": "white",
            "ticks": ""
           },
           "bgcolor": "#E5ECF6",
           "radialaxis": {
            "gridcolor": "white",
            "linecolor": "white",
            "ticks": ""
           }
          },
          "scene": {
           "xaxis": {
            "backgroundcolor": "#E5ECF6",
            "gridcolor": "white",
            "gridwidth": 2,
            "linecolor": "white",
            "showbackground": true,
            "ticks": "",
            "zerolinecolor": "white"
           },
           "yaxis": {
            "backgroundcolor": "#E5ECF6",
            "gridcolor": "white",
            "gridwidth": 2,
            "linecolor": "white",
            "showbackground": true,
            "ticks": "",
            "zerolinecolor": "white"
           },
           "zaxis": {
            "backgroundcolor": "#E5ECF6",
            "gridcolor": "white",
            "gridwidth": 2,
            "linecolor": "white",
            "showbackground": true,
            "ticks": "",
            "zerolinecolor": "white"
           }
          },
          "shapedefaults": {
           "line": {
            "color": "#2a3f5f"
           }
          },
          "ternary": {
           "aaxis": {
            "gridcolor": "white",
            "linecolor": "white",
            "ticks": ""
           },
           "baxis": {
            "gridcolor": "white",
            "linecolor": "white",
            "ticks": ""
           },
           "bgcolor": "#E5ECF6",
           "caxis": {
            "gridcolor": "white",
            "linecolor": "white",
            "ticks": ""
           }
          },
          "title": {
           "x": 0.05
          },
          "xaxis": {
           "automargin": true,
           "gridcolor": "white",
           "linecolor": "white",
           "ticks": "",
           "title": {
            "standoff": 15
           },
           "zerolinecolor": "white",
           "zerolinewidth": 2
          },
          "yaxis": {
           "automargin": true,
           "gridcolor": "white",
           "linecolor": "white",
           "ticks": "",
           "title": {
            "standoff": 15
           },
           "zerolinecolor": "white",
           "zerolinewidth": 2
          }
         }
        },
        "title": {
         "text": "Distribution of duplicate BioBrick names (histogram)"
        },
        "xaxis": {
         "anchor": "y",
         "domain": [
          0,
          1
         ],
         "title": {
          "text": "# dup part_name"
         }
        },
        "yaxis": {
         "anchor": "x",
         "domain": [
          0,
          1
         ],
         "title": {
          "text": "count"
         },
         "type": "log"
        }
       }
      }
     },
     "metadata": {}
    }
   ],
   "source": [
    "import plotly.express as px\n",
    "px.bar(num_dups,x=\"# dup part_name\",y=\"count\",log_y=True,title=\"Distribution of duplicate BioBrick names (histogram)\")"
   ]
  },
  {
   "cell_type": "code",
   "execution_count": 117,
   "metadata": {},
   "outputs": [
    {
     "output_type": "execute_result",
     "data": {
      "text/plain": [
       "        part_id     part_name  \\\n",
       "5         183.0     BBa_I1063   \n",
       "9         184.0     BBa_I1070   \n",
       "17        186.0     BBa_R0011   \n",
       "27        188.0     BBa_R0050   \n",
       "32      57122.0  BBa_K3285007   \n",
       "...         ...           ...   \n",
       "354300  59525.0  BBa_K3059771   \n",
       "354301  59525.0  BBa_K3059771   \n",
       "354304  59525.0  BBa_K3059771   \n",
       "354475  57406.0  BBa_K3014006   \n",
       "354482  58128.0  BBa_K3151025   \n",
       "\n",
       "                                               short_desc feature_id  \\\n",
       "5                                        CI(2) IS10 asRNA       7061   \n",
       "9                                   XOR test/debug module       7062   \n",
       "17            Promoter (lacI regulated, lambda pL hybrid)       7064   \n",
       "27                          Promoter (HK022 cI regulated)       7066   \n",
       "32      Constitutive expression of mrfp using the pLam...       7067   \n",
       "...                                                   ...        ...   \n",
       "354300                  Turing Patterns Inhibitor Circuit    2709269   \n",
       "354301                  Turing Patterns Inhibitor Circuit    2709267   \n",
       "354304                  Turing Patterns Inhibitor Circuit    2709264   \n",
       "354475                                     ptRNA_backbone    2709658   \n",
       "354482  Hydrogenase Large + Small + Maturation Proteas...    2709668   \n",
       "\n",
       "       feature_type            label  start_pos  end_pos  reverse  \\\n",
       "5          BioBrick        BBa_I1063          1      169      0.0   \n",
       "9          BioBrick        BBa_I1070          1      756      0.0   \n",
       "17         BioBrick        BBa_R0011          1       54      0.0   \n",
       "27         BioBrick        BBa_R0050          1       55      0.0   \n",
       "32         BioBrick        BBa_R0051          1       49      0.0   \n",
       "...             ...              ...        ...      ...      ...   \n",
       "354300     BioBrick     BBa_K2680508       2005     2015      1.0   \n",
       "354301     BioBrick     BBa_K2680510       1999     2004      1.0   \n",
       "354304     BioBrick     BBa_K2680500       1959     1998      1.0   \n",
       "354475     BioBrick  Biobrick Prefix       2140     2161      0.0   \n",
       "354482     BioBrick        BBa_B0010       3245     3324      0.0   \n",
       "\n",
       "                                                 sequence  part_len  seq_len  \n",
       "5       tccctatcagtgatagagattgacatccctatcagtgatagagata...       169      169  \n",
       "9       atggtgagcaagggcgaggagctgttcaccggggtggtgcccatcc...       756      756  \n",
       "17      aattgtgagcggataacaattgacattgtgagcggataacaagata...        54       54  \n",
       "27      ttaggtattgactgtactatcagttccgtcataatatgaaccataa...        55       55  \n",
       "32      taacaccgtgcgtgttgactattttacctctggcggtgataatggttgc        49       49  \n",
       "...                                                   ...       ...      ...  \n",
       "354300                                        accttgagacc        11       11  \n",
       "354301                                             cactag         6        6  \n",
       "354304           cggagtagtgtcttattatctgagccagcaaccgaactgc        40       40  \n",
       "354475                             gaattcgcggccgcttctagag        22       22  \n",
       "354482  ccaggcatcaaataaaacgaaaggctcagtcgaaagactgggcctt...        80       80  \n",
       "\n",
       "[156183 rows x 12 columns]"
      ],
      "text/html": "<div>\n<style scoped>\n    .dataframe tbody tr th:only-of-type {\n        vertical-align: middle;\n    }\n\n    .dataframe tbody tr th {\n        vertical-align: top;\n    }\n\n    .dataframe thead th {\n        text-align: right;\n    }\n</style>\n<table border=\"1\" class=\"dataframe\">\n  <thead>\n    <tr style=\"text-align: right;\">\n      <th></th>\n      <th>part_id</th>\n      <th>part_name</th>\n      <th>short_desc</th>\n      <th>feature_id</th>\n      <th>feature_type</th>\n      <th>label</th>\n      <th>start_pos</th>\n      <th>end_pos</th>\n      <th>reverse</th>\n      <th>sequence</th>\n      <th>part_len</th>\n      <th>seq_len</th>\n    </tr>\n  </thead>\n  <tbody>\n    <tr>\n      <th>5</th>\n      <td>183.0</td>\n      <td>BBa_I1063</td>\n      <td>CI(2) IS10 asRNA</td>\n      <td>7061</td>\n      <td>BioBrick</td>\n      <td>BBa_I1063</td>\n      <td>1</td>\n      <td>169</td>\n      <td>0.0</td>\n      <td>tccctatcagtgatagagattgacatccctatcagtgatagagata...</td>\n      <td>169</td>\n      <td>169</td>\n    </tr>\n    <tr>\n      <th>9</th>\n      <td>184.0</td>\n      <td>BBa_I1070</td>\n      <td>XOR test/debug module</td>\n      <td>7062</td>\n      <td>BioBrick</td>\n      <td>BBa_I1070</td>\n      <td>1</td>\n      <td>756</td>\n      <td>0.0</td>\n      <td>atggtgagcaagggcgaggagctgttcaccggggtggtgcccatcc...</td>\n      <td>756</td>\n      <td>756</td>\n    </tr>\n    <tr>\n      <th>17</th>\n      <td>186.0</td>\n      <td>BBa_R0011</td>\n      <td>Promoter (lacI regulated, lambda pL hybrid)</td>\n      <td>7064</td>\n      <td>BioBrick</td>\n      <td>BBa_R0011</td>\n      <td>1</td>\n      <td>54</td>\n      <td>0.0</td>\n      <td>aattgtgagcggataacaattgacattgtgagcggataacaagata...</td>\n      <td>54</td>\n      <td>54</td>\n    </tr>\n    <tr>\n      <th>27</th>\n      <td>188.0</td>\n      <td>BBa_R0050</td>\n      <td>Promoter (HK022 cI regulated)</td>\n      <td>7066</td>\n      <td>BioBrick</td>\n      <td>BBa_R0050</td>\n      <td>1</td>\n      <td>55</td>\n      <td>0.0</td>\n      <td>ttaggtattgactgtactatcagttccgtcataatatgaaccataa...</td>\n      <td>55</td>\n      <td>55</td>\n    </tr>\n    <tr>\n      <th>32</th>\n      <td>57122.0</td>\n      <td>BBa_K3285007</td>\n      <td>Constitutive expression of mrfp using the pLam...</td>\n      <td>7067</td>\n      <td>BioBrick</td>\n      <td>BBa_R0051</td>\n      <td>1</td>\n      <td>49</td>\n      <td>0.0</td>\n      <td>taacaccgtgcgtgttgactattttacctctggcggtgataatggttgc</td>\n      <td>49</td>\n      <td>49</td>\n    </tr>\n    <tr>\n      <th>...</th>\n      <td>...</td>\n      <td>...</td>\n      <td>...</td>\n      <td>...</td>\n      <td>...</td>\n      <td>...</td>\n      <td>...</td>\n      <td>...</td>\n      <td>...</td>\n      <td>...</td>\n      <td>...</td>\n      <td>...</td>\n    </tr>\n    <tr>\n      <th>354300</th>\n      <td>59525.0</td>\n      <td>BBa_K3059771</td>\n      <td>Turing Patterns Inhibitor Circuit</td>\n      <td>2709269</td>\n      <td>BioBrick</td>\n      <td>BBa_K2680508</td>\n      <td>2005</td>\n      <td>2015</td>\n      <td>1.0</td>\n      <td>accttgagacc</td>\n      <td>11</td>\n      <td>11</td>\n    </tr>\n    <tr>\n      <th>354301</th>\n      <td>59525.0</td>\n      <td>BBa_K3059771</td>\n      <td>Turing Patterns Inhibitor Circuit</td>\n      <td>2709267</td>\n      <td>BioBrick</td>\n      <td>BBa_K2680510</td>\n      <td>1999</td>\n      <td>2004</td>\n      <td>1.0</td>\n      <td>cactag</td>\n      <td>6</td>\n      <td>6</td>\n    </tr>\n    <tr>\n      <th>354304</th>\n      <td>59525.0</td>\n      <td>BBa_K3059771</td>\n      <td>Turing Patterns Inhibitor Circuit</td>\n      <td>2709264</td>\n      <td>BioBrick</td>\n      <td>BBa_K2680500</td>\n      <td>1959</td>\n      <td>1998</td>\n      <td>1.0</td>\n      <td>cggagtagtgtcttattatctgagccagcaaccgaactgc</td>\n      <td>40</td>\n      <td>40</td>\n    </tr>\n    <tr>\n      <th>354475</th>\n      <td>57406.0</td>\n      <td>BBa_K3014006</td>\n      <td>ptRNA_backbone</td>\n      <td>2709658</td>\n      <td>BioBrick</td>\n      <td>Biobrick Prefix</td>\n      <td>2140</td>\n      <td>2161</td>\n      <td>0.0</td>\n      <td>gaattcgcggccgcttctagag</td>\n      <td>22</td>\n      <td>22</td>\n    </tr>\n    <tr>\n      <th>354482</th>\n      <td>58128.0</td>\n      <td>BBa_K3151025</td>\n      <td>Hydrogenase Large + Small + Maturation Proteas...</td>\n      <td>2709668</td>\n      <td>BioBrick</td>\n      <td>BBa_B0010</td>\n      <td>3245</td>\n      <td>3324</td>\n      <td>0.0</td>\n      <td>ccaggcatcaaataaaacgaaaggctcagtcgaaagactgggcctt...</td>\n      <td>80</td>\n      <td>80</td>\n    </tr>\n  </tbody>\n</table>\n<p>156183 rows × 12 columns</p>\n</div>"
     },
     "metadata": {},
     "execution_count": 117
    }
   ],
   "source": [
    "biobrick"
   ]
  },
  {
   "cell_type": "code",
   "execution_count": 81,
   "metadata": {},
   "outputs": [
    {
     "output_type": "execute_result",
     "data": {
      "text/plain": [
       "     part_id  part_name        short_desc feature_id feature_type  \\\n",
       "0      183.0  BBa_I1063  CI(2) IS10 asRNA       1974         misc   \n",
       "1      183.0  BBa_I1063  CI(2) IS10 asRNA       1975         misc   \n",
       "2      183.0  BBa_I1063  CI(2) IS10 asRNA       1976         misc   \n",
       "3      183.0  BBa_I1063  CI(2) IS10 asRNA       1977         misc   \n",
       "4      183.0  BBa_I1063  CI(2) IS10 asRNA       1978         misc   \n",
       "5      183.0  BBa_I1063  CI(2) IS10 asRNA       7061     BioBrick   \n",
       "282    183.0  BBa_I1063  CI(2) IS10 asRNA       1980      binding   \n",
       "283    183.0  BBa_I1063  CI(2) IS10 asRNA       1984     promoter   \n",
       "284    183.0  BBa_I1063  CI(2) IS10 asRNA       1981     promoter   \n",
       "285    183.0  BBa_I1063  CI(2) IS10 asRNA       1982      binding   \n",
       "286    183.0  BBa_I1063  CI(2) IS10 asRNA       1983     promoter   \n",
       "287    183.0  BBa_I1063  CI(2) IS10 asRNA       1969      binding   \n",
       "288    183.0  BBa_I1063  CI(2) IS10 asRNA       1968     mutation   \n",
       "289    183.0  BBa_I1063  CI(2) IS10 asRNA       1970         misc   \n",
       "290    183.0  BBa_I1063  CI(2) IS10 asRNA       1971         misc   \n",
       "291    183.0  BBa_I1063  CI(2) IS10 asRNA       1972         misc   \n",
       "292    183.0  BBa_I1063  CI(2) IS10 asRNA       1964         misc   \n",
       "293    183.0  BBa_I1063  CI(2) IS10 asRNA       1973         misc   \n",
       "\n",
       "                                label  start_pos end_pos  reverse  \\\n",
       "0                         HH117a swap       87.0      87      0.0   \n",
       "1                                swap      103.0     103      0.0   \n",
       "2                                swap      110.0     110      0.0   \n",
       "3                                swap      112.0     112      0.0   \n",
       "4                                swap      113.0     113      0.0   \n",
       "5                           BBa_I1063        1.0     169      0.0   \n",
       "282                            TetR 1        1.0      19      0.0   \n",
       "283                              TetR        1.0      54      0.0   \n",
       "284                               -35       20.0      25      0.0   \n",
       "285                            TetR 2       26.0      44      0.0   \n",
       "286                               -10       43.0      48      0.0   \n",
       "287  Binds first 2 bf of I1060, I1020       55.0      56      0.0   \n",
       "288                           C added       57.0      59      0.0   \n",
       "289                              swap       63.0      63      0.0   \n",
       "290                              swap       64.0      64      0.0   \n",
       "291                              swap       66.0      66      0.0   \n",
       "292            RBS Reverse Complement       67.0      72      0.0   \n",
       "293                              swap       73.0      73      0.0   \n",
       "\n",
       "                                              sequence  seq_len  \n",
       "0                                                    g        1  \n",
       "1                                                    g        1  \n",
       "2                                                    g        1  \n",
       "3                                                    t        1  \n",
       "4                                                    c        1  \n",
       "5    tccctatcagtgatagagattgacatccctatcagtgatagagata...      169  \n",
       "282                                tccctatcagtgatagaga       19  \n",
       "283  tccctatcagtgatagagattgacatccctatcagtgatagagata...       54  \n",
       "284                                             ttgaca        6  \n",
       "285                                tccctatcagtgatagaga       19  \n",
       "286                                             gatact        6  \n",
       "287                                                 ct        2  \n",
       "288                                                gca        3  \n",
       "289                                                  g        1  \n",
       "290                                                  a        1  \n",
       "291                                                  c        1  \n",
       "292                                             ttgtct        6  \n",
       "293                                                  c        1  "
      ],
      "text/html": "<div>\n<style scoped>\n    .dataframe tbody tr th:only-of-type {\n        vertical-align: middle;\n    }\n\n    .dataframe tbody tr th {\n        vertical-align: top;\n    }\n\n    .dataframe thead th {\n        text-align: right;\n    }\n</style>\n<table border=\"1\" class=\"dataframe\">\n  <thead>\n    <tr style=\"text-align: right;\">\n      <th></th>\n      <th>part_id</th>\n      <th>part_name</th>\n      <th>short_desc</th>\n      <th>feature_id</th>\n      <th>feature_type</th>\n      <th>label</th>\n      <th>start_pos</th>\n      <th>end_pos</th>\n      <th>reverse</th>\n      <th>sequence</th>\n      <th>seq_len</th>\n    </tr>\n  </thead>\n  <tbody>\n    <tr>\n      <th>0</th>\n      <td>183.0</td>\n      <td>BBa_I1063</td>\n      <td>CI(2) IS10 asRNA</td>\n      <td>1974</td>\n      <td>misc</td>\n      <td>HH117a swap</td>\n      <td>87.0</td>\n      <td>87</td>\n      <td>0.0</td>\n      <td>g</td>\n      <td>1</td>\n    </tr>\n    <tr>\n      <th>1</th>\n      <td>183.0</td>\n      <td>BBa_I1063</td>\n      <td>CI(2) IS10 asRNA</td>\n      <td>1975</td>\n      <td>misc</td>\n      <td>swap</td>\n      <td>103.0</td>\n      <td>103</td>\n      <td>0.0</td>\n      <td>g</td>\n      <td>1</td>\n    </tr>\n    <tr>\n      <th>2</th>\n      <td>183.0</td>\n      <td>BBa_I1063</td>\n      <td>CI(2) IS10 asRNA</td>\n      <td>1976</td>\n      <td>misc</td>\n      <td>swap</td>\n      <td>110.0</td>\n      <td>110</td>\n      <td>0.0</td>\n      <td>g</td>\n      <td>1</td>\n    </tr>\n    <tr>\n      <th>3</th>\n      <td>183.0</td>\n      <td>BBa_I1063</td>\n      <td>CI(2) IS10 asRNA</td>\n      <td>1977</td>\n      <td>misc</td>\n      <td>swap</td>\n      <td>112.0</td>\n      <td>112</td>\n      <td>0.0</td>\n      <td>t</td>\n      <td>1</td>\n    </tr>\n    <tr>\n      <th>4</th>\n      <td>183.0</td>\n      <td>BBa_I1063</td>\n      <td>CI(2) IS10 asRNA</td>\n      <td>1978</td>\n      <td>misc</td>\n      <td>swap</td>\n      <td>113.0</td>\n      <td>113</td>\n      <td>0.0</td>\n      <td>c</td>\n      <td>1</td>\n    </tr>\n    <tr>\n      <th>5</th>\n      <td>183.0</td>\n      <td>BBa_I1063</td>\n      <td>CI(2) IS10 asRNA</td>\n      <td>7061</td>\n      <td>BioBrick</td>\n      <td>BBa_I1063</td>\n      <td>1.0</td>\n      <td>169</td>\n      <td>0.0</td>\n      <td>tccctatcagtgatagagattgacatccctatcagtgatagagata...</td>\n      <td>169</td>\n    </tr>\n    <tr>\n      <th>282</th>\n      <td>183.0</td>\n      <td>BBa_I1063</td>\n      <td>CI(2) IS10 asRNA</td>\n      <td>1980</td>\n      <td>binding</td>\n      <td>TetR 1</td>\n      <td>1.0</td>\n      <td>19</td>\n      <td>0.0</td>\n      <td>tccctatcagtgatagaga</td>\n      <td>19</td>\n    </tr>\n    <tr>\n      <th>283</th>\n      <td>183.0</td>\n      <td>BBa_I1063</td>\n      <td>CI(2) IS10 asRNA</td>\n      <td>1984</td>\n      <td>promoter</td>\n      <td>TetR</td>\n      <td>1.0</td>\n      <td>54</td>\n      <td>0.0</td>\n      <td>tccctatcagtgatagagattgacatccctatcagtgatagagata...</td>\n      <td>54</td>\n    </tr>\n    <tr>\n      <th>284</th>\n      <td>183.0</td>\n      <td>BBa_I1063</td>\n      <td>CI(2) IS10 asRNA</td>\n      <td>1981</td>\n      <td>promoter</td>\n      <td>-35</td>\n      <td>20.0</td>\n      <td>25</td>\n      <td>0.0</td>\n      <td>ttgaca</td>\n      <td>6</td>\n    </tr>\n    <tr>\n      <th>285</th>\n      <td>183.0</td>\n      <td>BBa_I1063</td>\n      <td>CI(2) IS10 asRNA</td>\n      <td>1982</td>\n      <td>binding</td>\n      <td>TetR 2</td>\n      <td>26.0</td>\n      <td>44</td>\n      <td>0.0</td>\n      <td>tccctatcagtgatagaga</td>\n      <td>19</td>\n    </tr>\n    <tr>\n      <th>286</th>\n      <td>183.0</td>\n      <td>BBa_I1063</td>\n      <td>CI(2) IS10 asRNA</td>\n      <td>1983</td>\n      <td>promoter</td>\n      <td>-10</td>\n      <td>43.0</td>\n      <td>48</td>\n      <td>0.0</td>\n      <td>gatact</td>\n      <td>6</td>\n    </tr>\n    <tr>\n      <th>287</th>\n      <td>183.0</td>\n      <td>BBa_I1063</td>\n      <td>CI(2) IS10 asRNA</td>\n      <td>1969</td>\n      <td>binding</td>\n      <td>Binds first 2 bf of I1060, I1020</td>\n      <td>55.0</td>\n      <td>56</td>\n      <td>0.0</td>\n      <td>ct</td>\n      <td>2</td>\n    </tr>\n    <tr>\n      <th>288</th>\n      <td>183.0</td>\n      <td>BBa_I1063</td>\n      <td>CI(2) IS10 asRNA</td>\n      <td>1968</td>\n      <td>mutation</td>\n      <td>C added</td>\n      <td>57.0</td>\n      <td>59</td>\n      <td>0.0</td>\n      <td>gca</td>\n      <td>3</td>\n    </tr>\n    <tr>\n      <th>289</th>\n      <td>183.0</td>\n      <td>BBa_I1063</td>\n      <td>CI(2) IS10 asRNA</td>\n      <td>1970</td>\n      <td>misc</td>\n      <td>swap</td>\n      <td>63.0</td>\n      <td>63</td>\n      <td>0.0</td>\n      <td>g</td>\n      <td>1</td>\n    </tr>\n    <tr>\n      <th>290</th>\n      <td>183.0</td>\n      <td>BBa_I1063</td>\n      <td>CI(2) IS10 asRNA</td>\n      <td>1971</td>\n      <td>misc</td>\n      <td>swap</td>\n      <td>64.0</td>\n      <td>64</td>\n      <td>0.0</td>\n      <td>a</td>\n      <td>1</td>\n    </tr>\n    <tr>\n      <th>291</th>\n      <td>183.0</td>\n      <td>BBa_I1063</td>\n      <td>CI(2) IS10 asRNA</td>\n      <td>1972</td>\n      <td>misc</td>\n      <td>swap</td>\n      <td>66.0</td>\n      <td>66</td>\n      <td>0.0</td>\n      <td>c</td>\n      <td>1</td>\n    </tr>\n    <tr>\n      <th>292</th>\n      <td>183.0</td>\n      <td>BBa_I1063</td>\n      <td>CI(2) IS10 asRNA</td>\n      <td>1964</td>\n      <td>misc</td>\n      <td>RBS Reverse Complement</td>\n      <td>67.0</td>\n      <td>72</td>\n      <td>0.0</td>\n      <td>ttgtct</td>\n      <td>6</td>\n    </tr>\n    <tr>\n      <th>293</th>\n      <td>183.0</td>\n      <td>BBa_I1063</td>\n      <td>CI(2) IS10 asRNA</td>\n      <td>1973</td>\n      <td>misc</td>\n      <td>swap</td>\n      <td>73.0</td>\n      <td>73</td>\n      <td>0.0</td>\n      <td>c</td>\n      <td>1</td>\n    </tr>\n  </tbody>\n</table>\n</div>"
     },
     "metadata": {},
     "execution_count": 81
    }
   ],
   "source": [
    "df[df['part_name']=='BBa_I1063']"
   ]
  },
  {
   "cell_type": "code",
   "execution_count": 86,
   "metadata": {
    "tags": []
   },
   "outputs": [
    {
     "output_type": "execute_result",
     "data": {
      "text/plain": [
       "[('BBa_Z0506', 100),\n",
       " ('BBa_Z0505', 100),\n",
       " ('BBa_Z0504', 100),\n",
       " ('BBa_Z0503', 100),\n",
       " ('BBa_Z0502', 100),\n",
       " ('BBa_Z0501', 98),\n",
       " ('BBa_K395998', 74),\n",
       " ('BBa_K1124100', 73),\n",
       " ('BBa_K1813067', 73),\n",
       " ('BBa_K1813068', 73),\n",
       " ('BBa_K1813072', 73),\n",
       " ('BBa_K395999', 71),\n",
       " ('BBa_I2015', 70),\n",
       " ('BBa_K1813069', 64),\n",
       " ('BBa_K1813070', 64),\n",
       " ('BBa_K1813071', 64),\n",
       " ('BBa_K1073036', 63),\n",
       " ('BBa_I2030', 61),\n",
       " ('BBa_I8000', 61),\n",
       " ('BBa_I8002', 60)]"
      ]
     },
     "metadata": {},
     "execution_count": 86
    }
   ],
   "source": [
    "Counter(biobrick[\"part_name\"]).most_common()[:20]"
   ]
  },
  {
   "cell_type": "code",
   "execution_count": 87,
   "metadata": {},
   "outputs": [
    {
     "output_type": "execute_result",
     "data": {
      "text/plain": [
       "       part_id  part_name       short_desc feature_id feature_type      label  \\\n",
       "30989   6917.0  BBa_Z0506  T7.2 Revision F    1884281     BioBrick  BBa_Z0293   \n",
       "30992   6917.0  BBa_Z0506  T7.2 Revision F    1884278     BioBrick  BBa_Z0148   \n",
       "30993   6917.0  BBa_Z0506  T7.2 Revision F    1884277     BioBrick  BBa_Z0261   \n",
       "30994   6917.0  BBa_Z0506  T7.2 Revision F    1884276     BioBrick  BBa_Z0251   \n",
       "30996   6917.0  BBa_Z0506  T7.2 Revision F    1884274     BioBrick  BBa_Z0137   \n",
       "...        ...        ...              ...        ...          ...        ...   \n",
       "31212   6917.0  BBa_Z0506  T7.2 Revision F    1884058     BioBrick  BBa_Z0261   \n",
       "31213   6917.0  BBa_Z0506  T7.2 Revision F    1884057     BioBrick  BBa_Z0273   \n",
       "31215   6917.0  BBa_Z0506  T7.2 Revision F    1884055     BioBrick  BBa_Z0294   \n",
       "31221   6917.0  BBa_Z0506  T7.2 Revision F    1884049     BioBrick  BBa_Z0253   \n",
       "31224   6917.0  BBa_Z0506  T7.2 Revision F    1884046     BioBrick  BBa_Z0292   \n",
       "\n",
       "       start_pos end_pos  reverse  \\\n",
       "30989    36541.0   36939      1.0   \n",
       "30992    36391.0   36540      1.0   \n",
       "30993    36371.0   36390      1.0   \n",
       "30994    36336.0   36370      1.0   \n",
       "30996    34575.0   36335      1.0   \n",
       "...          ...     ...      ...   \n",
       "31212      916.0     935      1.0   \n",
       "31213      848.0     915      1.0   \n",
       "31215      413.0     847      1.0   \n",
       "31221      378.0     412      1.0   \n",
       "31224        1.0     377      1.0   \n",
       "\n",
       "                                                sequence  seq_len  \n",
       "30989  agggacacagagagacactcaaggtaacacccaaagacaaacccaa...      399  \n",
       "30992  ctaatcgctacaagtgagtatagagcaaacgacagactccagtgaa...      150  \n",
       "30993                               attgatttctcctattgatt       20  \n",
       "30994                gttgtggtctccctatagtgagtcgtattaatttc       35  \n",
       "30996  tcaccactcaatgaaagacgtaccgtaaccctcatcgtcctcagag...     1761  \n",
       "...                                                  ...      ...  \n",
       "31212                               attgatttctcctattgatt       20  \n",
       "31213  gtgcagttattagtgaatatcataaagggcaccttgcgataccctt...       68  \n",
       "31215  gagctcaagagctatttaccagattgttaaagagcgtcttaggtca...      435  \n",
       "31221                tcttccctaatagtgagtcgtattacttcggtgct       35  \n",
       "31224  tgattaaaggttatcactttatggctaacaacaaggcgtctttagg...      377  \n",
       "\n",
       "[100 rows x 11 columns]"
      ],
      "text/html": "<div>\n<style scoped>\n    .dataframe tbody tr th:only-of-type {\n        vertical-align: middle;\n    }\n\n    .dataframe tbody tr th {\n        vertical-align: top;\n    }\n\n    .dataframe thead th {\n        text-align: right;\n    }\n</style>\n<table border=\"1\" class=\"dataframe\">\n  <thead>\n    <tr style=\"text-align: right;\">\n      <th></th>\n      <th>part_id</th>\n      <th>part_name</th>\n      <th>short_desc</th>\n      <th>feature_id</th>\n      <th>feature_type</th>\n      <th>label</th>\n      <th>start_pos</th>\n      <th>end_pos</th>\n      <th>reverse</th>\n      <th>sequence</th>\n      <th>seq_len</th>\n    </tr>\n  </thead>\n  <tbody>\n    <tr>\n      <th>30989</th>\n      <td>6917.0</td>\n      <td>BBa_Z0506</td>\n      <td>T7.2 Revision F</td>\n      <td>1884281</td>\n      <td>BioBrick</td>\n      <td>BBa_Z0293</td>\n      <td>36541.0</td>\n      <td>36939</td>\n      <td>1.0</td>\n      <td>agggacacagagagacactcaaggtaacacccaaagacaaacccaa...</td>\n      <td>399</td>\n    </tr>\n    <tr>\n      <th>30992</th>\n      <td>6917.0</td>\n      <td>BBa_Z0506</td>\n      <td>T7.2 Revision F</td>\n      <td>1884278</td>\n      <td>BioBrick</td>\n      <td>BBa_Z0148</td>\n      <td>36391.0</td>\n      <td>36540</td>\n      <td>1.0</td>\n      <td>ctaatcgctacaagtgagtatagagcaaacgacagactccagtgaa...</td>\n      <td>150</td>\n    </tr>\n    <tr>\n      <th>30993</th>\n      <td>6917.0</td>\n      <td>BBa_Z0506</td>\n      <td>T7.2 Revision F</td>\n      <td>1884277</td>\n      <td>BioBrick</td>\n      <td>BBa_Z0261</td>\n      <td>36371.0</td>\n      <td>36390</td>\n      <td>1.0</td>\n      <td>attgatttctcctattgatt</td>\n      <td>20</td>\n    </tr>\n    <tr>\n      <th>30994</th>\n      <td>6917.0</td>\n      <td>BBa_Z0506</td>\n      <td>T7.2 Revision F</td>\n      <td>1884276</td>\n      <td>BioBrick</td>\n      <td>BBa_Z0251</td>\n      <td>36336.0</td>\n      <td>36370</td>\n      <td>1.0</td>\n      <td>gttgtggtctccctatagtgagtcgtattaatttc</td>\n      <td>35</td>\n    </tr>\n    <tr>\n      <th>30996</th>\n      <td>6917.0</td>\n      <td>BBa_Z0506</td>\n      <td>T7.2 Revision F</td>\n      <td>1884274</td>\n      <td>BioBrick</td>\n      <td>BBa_Z0137</td>\n      <td>34575.0</td>\n      <td>36335</td>\n      <td>1.0</td>\n      <td>tcaccactcaatgaaagacgtaccgtaaccctcatcgtcctcagag...</td>\n      <td>1761</td>\n    </tr>\n    <tr>\n      <th>...</th>\n      <td>...</td>\n      <td>...</td>\n      <td>...</td>\n      <td>...</td>\n      <td>...</td>\n      <td>...</td>\n      <td>...</td>\n      <td>...</td>\n      <td>...</td>\n      <td>...</td>\n      <td>...</td>\n    </tr>\n    <tr>\n      <th>31212</th>\n      <td>6917.0</td>\n      <td>BBa_Z0506</td>\n      <td>T7.2 Revision F</td>\n      <td>1884058</td>\n      <td>BioBrick</td>\n      <td>BBa_Z0261</td>\n      <td>916.0</td>\n      <td>935</td>\n      <td>1.0</td>\n      <td>attgatttctcctattgatt</td>\n      <td>20</td>\n    </tr>\n    <tr>\n      <th>31213</th>\n      <td>6917.0</td>\n      <td>BBa_Z0506</td>\n      <td>T7.2 Revision F</td>\n      <td>1884057</td>\n      <td>BioBrick</td>\n      <td>BBa_Z0273</td>\n      <td>848.0</td>\n      <td>915</td>\n      <td>1.0</td>\n      <td>gtgcagttattagtgaatatcataaagggcaccttgcgataccctt...</td>\n      <td>68</td>\n    </tr>\n    <tr>\n      <th>31215</th>\n      <td>6917.0</td>\n      <td>BBa_Z0506</td>\n      <td>T7.2 Revision F</td>\n      <td>1884055</td>\n      <td>BioBrick</td>\n      <td>BBa_Z0294</td>\n      <td>413.0</td>\n      <td>847</td>\n      <td>1.0</td>\n      <td>gagctcaagagctatttaccagattgttaaagagcgtcttaggtca...</td>\n      <td>435</td>\n    </tr>\n    <tr>\n      <th>31221</th>\n      <td>6917.0</td>\n      <td>BBa_Z0506</td>\n      <td>T7.2 Revision F</td>\n      <td>1884049</td>\n      <td>BioBrick</td>\n      <td>BBa_Z0253</td>\n      <td>378.0</td>\n      <td>412</td>\n      <td>1.0</td>\n      <td>tcttccctaatagtgagtcgtattacttcggtgct</td>\n      <td>35</td>\n    </tr>\n    <tr>\n      <th>31224</th>\n      <td>6917.0</td>\n      <td>BBa_Z0506</td>\n      <td>T7.2 Revision F</td>\n      <td>1884046</td>\n      <td>BioBrick</td>\n      <td>BBa_Z0292</td>\n      <td>1.0</td>\n      <td>377</td>\n      <td>1.0</td>\n      <td>tgattaaaggttatcactttatggctaacaacaaggcgtctttagg...</td>\n      <td>377</td>\n    </tr>\n  </tbody>\n</table>\n<p>100 rows × 11 columns</p>\n</div>"
     },
     "metadata": {},
     "execution_count": 87
    }
   ],
   "source": [
    "biobrick[biobrick['part_name']=='BBa_Z0506']"
   ]
  },
  {
   "cell_type": "code",
   "execution_count": 119,
   "metadata": {},
   "outputs": [
    {
     "output_type": "execute_result",
     "data": {
      "text/plain": [
       "        part_id     part_name  \\\n",
       "840      4887.0    BBa_I12014   \n",
       "17558    5082.0    BBa_I12034   \n",
       "29555    6108.0    BBa_J04605   \n",
       "29702    5940.0    BBa_J07047   \n",
       "29708    5941.0    BBa_J07048   \n",
       "...         ...           ...   \n",
       "350469  56146.0  BBa_K3086000   \n",
       "351344  57677.0  BBa_K2940007   \n",
       "351347  57677.0  BBa_K2940007   \n",
       "351658  58785.0  BBa_K2984075   \n",
       "352032  57005.0  BBa_K3288008   \n",
       "\n",
       "                                               short_desc feature_id  \\\n",
       "840                         Repressor, 434 cI (RBS- LVA-)     912810   \n",
       "17558   Modified lamdba Prm promoter (repressed by 434...    1030783   \n",
       "29555   R0010 with Anti-Sense Theophillline Induced An...    1691971   \n",
       "29702           FecA::scFv internal fusion type 1 @ aa138    1699240   \n",
       "29708           FecA::scFv internal fusion type 1 @ aa155    1699252   \n",
       "...                                                   ...        ...   \n",
       "350469             SCRIBE (RpoB) System with 2nd Promoter    2696409   \n",
       "351344      Secreted dye-degrading peroxidase&#65288;DyP)    2702444   \n",
       "351347      Secreted dye-degrading peroxidase&#65288;DyP)    2702443   \n",
       "351658     YFP - Yellow fluorescent protein for detection    2701516   \n",
       "352032      signal peptide (LamB) fused PETase(33-290;WT)    2704604   \n",
       "\n",
       "          feature_type                      label  start_pos  end_pos  \\\n",
       "840                cds                     cI 434          1      669   \n",
       "17558              rbs        BBa_B0034 (Elowitz)         92      103   \n",
       "29555        stem_loop    Hammerhead Riobozyme #2        309      359   \n",
       "29702              cds            FecA aa 139-775       1254     3164   \n",
       "29708              cds            FecA aa 156-755       1305     3164   \n",
       "...                ...                        ...        ...      ...   \n",
       "350469        BioBrick               BBa_K1681000          1     2205   \n",
       "351344  primer_binding                 Rev-Primer       1313     1338   \n",
       "351347             cds        BsDyP coding region         72     1322   \n",
       "351658             cds                        YFP          1      717   \n",
       "352032             cds  SPLamB-PETase (33-290;WT)          1      864   \n",
       "\n",
       "        reverse                                           sequence  part_len  \\\n",
       "840         0.0  atgagtatttcttccagggtaaaaagcaaaagaatccagcttggac...       669   \n",
       "17558       0.0                                        aagaggagaaa        12   \n",
       "29555       0.0  ccggagtcgactccggtctgatgagtccgtgaggacgaaaccatct...        51   \n",
       "29702       0.0  cgccaaaaccggcgcaaccaccatgcgtgaggtacttaaccgcatc...      1911   \n",
       "29708       0.0  cgtcagcgcgccggaaaacaacggcaccggcagccacgacctggcg...      1860   \n",
       "...         ...                                                ...       ...   \n",
       "350469      1.0  ctagcacgcgttcatgctgccaccttctgctctgcggctttctgtt...      2205   \n",
       "351344      0.0                                                  c        26   \n",
       "351347      0.0  agaaaaagccagaacaaattcacagacgggacattttaaaatgggg...      1251   \n",
       "351658      0.0  gtgagcaagggcgaggagctgttcacgggcgtggtgcccatcctgg...       717   \n",
       "352032      0.0  atgatgattaccctgcgcaaactgccgctggcggtggcggtggcgg...       864   \n",
       "\n",
       "        seq_len  \n",
       "840         636  \n",
       "17558        11  \n",
       "29555        50  \n",
       "29702      1891  \n",
       "29708      1843  \n",
       "...         ...  \n",
       "350469     2136  \n",
       "351344        1  \n",
       "351347     1242  \n",
       "351658      716  \n",
       "352032      858  \n",
       "\n",
       "[283 rows x 12 columns]"
      ],
      "text/html": "<div>\n<style scoped>\n    .dataframe tbody tr th:only-of-type {\n        vertical-align: middle;\n    }\n\n    .dataframe tbody tr th {\n        vertical-align: top;\n    }\n\n    .dataframe thead th {\n        text-align: right;\n    }\n</style>\n<table border=\"1\" class=\"dataframe\">\n  <thead>\n    <tr style=\"text-align: right;\">\n      <th></th>\n      <th>part_id</th>\n      <th>part_name</th>\n      <th>short_desc</th>\n      <th>feature_id</th>\n      <th>feature_type</th>\n      <th>label</th>\n      <th>start_pos</th>\n      <th>end_pos</th>\n      <th>reverse</th>\n      <th>sequence</th>\n      <th>part_len</th>\n      <th>seq_len</th>\n    </tr>\n  </thead>\n  <tbody>\n    <tr>\n      <th>840</th>\n      <td>4887.0</td>\n      <td>BBa_I12014</td>\n      <td>Repressor, 434 cI (RBS- LVA-)</td>\n      <td>912810</td>\n      <td>cds</td>\n      <td>cI 434</td>\n      <td>1</td>\n      <td>669</td>\n      <td>0.0</td>\n      <td>atgagtatttcttccagggtaaaaagcaaaagaatccagcttggac...</td>\n      <td>669</td>\n      <td>636</td>\n    </tr>\n    <tr>\n      <th>17558</th>\n      <td>5082.0</td>\n      <td>BBa_I12034</td>\n      <td>Modified lamdba Prm promoter (repressed by 434...</td>\n      <td>1030783</td>\n      <td>rbs</td>\n      <td>BBa_B0034 (Elowitz)</td>\n      <td>92</td>\n      <td>103</td>\n      <td>0.0</td>\n      <td>aagaggagaaa</td>\n      <td>12</td>\n      <td>11</td>\n    </tr>\n    <tr>\n      <th>29555</th>\n      <td>6108.0</td>\n      <td>BBa_J04605</td>\n      <td>R0010 with Anti-Sense Theophillline Induced An...</td>\n      <td>1691971</td>\n      <td>stem_loop</td>\n      <td>Hammerhead Riobozyme #2</td>\n      <td>309</td>\n      <td>359</td>\n      <td>0.0</td>\n      <td>ccggagtcgactccggtctgatgagtccgtgaggacgaaaccatct...</td>\n      <td>51</td>\n      <td>50</td>\n    </tr>\n    <tr>\n      <th>29702</th>\n      <td>5940.0</td>\n      <td>BBa_J07047</td>\n      <td>FecA::scFv internal fusion type 1 @ aa138</td>\n      <td>1699240</td>\n      <td>cds</td>\n      <td>FecA aa 139-775</td>\n      <td>1254</td>\n      <td>3164</td>\n      <td>0.0</td>\n      <td>cgccaaaaccggcgcaaccaccatgcgtgaggtacttaaccgcatc...</td>\n      <td>1911</td>\n      <td>1891</td>\n    </tr>\n    <tr>\n      <th>29708</th>\n      <td>5941.0</td>\n      <td>BBa_J07048</td>\n      <td>FecA::scFv internal fusion type 1 @ aa155</td>\n      <td>1699252</td>\n      <td>cds</td>\n      <td>FecA aa 156-755</td>\n      <td>1305</td>\n      <td>3164</td>\n      <td>0.0</td>\n      <td>cgtcagcgcgccggaaaacaacggcaccggcagccacgacctggcg...</td>\n      <td>1860</td>\n      <td>1843</td>\n    </tr>\n    <tr>\n      <th>...</th>\n      <td>...</td>\n      <td>...</td>\n      <td>...</td>\n      <td>...</td>\n      <td>...</td>\n      <td>...</td>\n      <td>...</td>\n      <td>...</td>\n      <td>...</td>\n      <td>...</td>\n      <td>...</td>\n      <td>...</td>\n    </tr>\n    <tr>\n      <th>350469</th>\n      <td>56146.0</td>\n      <td>BBa_K3086000</td>\n      <td>SCRIBE (RpoB) System with 2nd Promoter</td>\n      <td>2696409</td>\n      <td>BioBrick</td>\n      <td>BBa_K1681000</td>\n      <td>1</td>\n      <td>2205</td>\n      <td>1.0</td>\n      <td>ctagcacgcgttcatgctgccaccttctgctctgcggctttctgtt...</td>\n      <td>2205</td>\n      <td>2136</td>\n    </tr>\n    <tr>\n      <th>351344</th>\n      <td>57677.0</td>\n      <td>BBa_K2940007</td>\n      <td>Secreted dye-degrading peroxidase&amp;#65288;DyP)</td>\n      <td>2702444</td>\n      <td>primer_binding</td>\n      <td>Rev-Primer</td>\n      <td>1313</td>\n      <td>1338</td>\n      <td>0.0</td>\n      <td>c</td>\n      <td>26</td>\n      <td>1</td>\n    </tr>\n    <tr>\n      <th>351347</th>\n      <td>57677.0</td>\n      <td>BBa_K2940007</td>\n      <td>Secreted dye-degrading peroxidase&amp;#65288;DyP)</td>\n      <td>2702443</td>\n      <td>cds</td>\n      <td>BsDyP coding region</td>\n      <td>72</td>\n      <td>1322</td>\n      <td>0.0</td>\n      <td>agaaaaagccagaacaaattcacagacgggacattttaaaatgggg...</td>\n      <td>1251</td>\n      <td>1242</td>\n    </tr>\n    <tr>\n      <th>351658</th>\n      <td>58785.0</td>\n      <td>BBa_K2984075</td>\n      <td>YFP - Yellow fluorescent protein for detection</td>\n      <td>2701516</td>\n      <td>cds</td>\n      <td>YFP</td>\n      <td>1</td>\n      <td>717</td>\n      <td>0.0</td>\n      <td>gtgagcaagggcgaggagctgttcacgggcgtggtgcccatcctgg...</td>\n      <td>717</td>\n      <td>716</td>\n    </tr>\n    <tr>\n      <th>352032</th>\n      <td>57005.0</td>\n      <td>BBa_K3288008</td>\n      <td>signal peptide (LamB) fused PETase(33-290;WT)</td>\n      <td>2704604</td>\n      <td>cds</td>\n      <td>SPLamB-PETase (33-290;WT)</td>\n      <td>1</td>\n      <td>864</td>\n      <td>0.0</td>\n      <td>atgatgattaccctgcgcaaactgccgctggcggtggcggtggcgg...</td>\n      <td>864</td>\n      <td>858</td>\n    </tr>\n  </tbody>\n</table>\n<p>283 rows × 12 columns</p>\n</div>"
     },
     "metadata": {},
     "execution_count": 119
    }
   ],
   "source": [
    "df[df[\"part_len\"]!=df['seq_len']]"
   ]
  },
  {
   "cell_type": "code",
   "execution_count": 122,
   "metadata": {},
   "outputs": [
    {
     "output_type": "execute_result",
     "data": {
      "text/plain": [
       "       part_id   part_name                                         short_desc  \\\n",
       "17552   5082.0  BBa_I12034  Modified lamdba Prm promoter (repressed by 434...   \n",
       "17553   5082.0  BBa_I12034  Modified lamdba Prm promoter (repressed by 434...   \n",
       "17554   5082.0  BBa_I12034  Modified lamdba Prm promoter (repressed by 434...   \n",
       "17555   5082.0  BBa_I12034  Modified lamdba Prm promoter (repressed by 434...   \n",
       "17556   5082.0  BBa_I12034  Modified lamdba Prm promoter (repressed by 434...   \n",
       "17557   5082.0  BBa_I12034  Modified lamdba Prm promoter (repressed by 434...   \n",
       "17558   5082.0  BBa_I12034  Modified lamdba Prm promoter (repressed by 434...   \n",
       "\n",
       "      feature_id feature_type                label  start_pos  end_pos  \\\n",
       "17552    1030773      binding           OR1 lambda          9       25   \n",
       "17553    1030774     promoter                  -35         48       53   \n",
       "17554    1030775      binding           OR2 lambda         33       49   \n",
       "17555    1030779      binding              OR1 434         56       69   \n",
       "17556    1030781     promoter                  -10         71       76   \n",
       "17557    1030782      binding              OR2 434         77       91   \n",
       "17558    1030783          rbs  BBa_B0034 (Elowitz)         92      103   \n",
       "\n",
       "       reverse           sequence  part_len  seq_len  \n",
       "17552      0.0  tatcaccgccagaggta        17       17  \n",
       "17553      0.0             tagata         6        6  \n",
       "17554      0.0  caacacgcacggtgtta        17       17  \n",
       "17555      0.0     acaaactttcttgt        14       14  \n",
       "17556      0.0             tagatt         6        6  \n",
       "17557      0.0    acaatgtatcttgta        15       15  \n",
       "17558      0.0        aagaggagaaa        12       11  "
      ],
      "text/html": "<div>\n<style scoped>\n    .dataframe tbody tr th:only-of-type {\n        vertical-align: middle;\n    }\n\n    .dataframe tbody tr th {\n        vertical-align: top;\n    }\n\n    .dataframe thead th {\n        text-align: right;\n    }\n</style>\n<table border=\"1\" class=\"dataframe\">\n  <thead>\n    <tr style=\"text-align: right;\">\n      <th></th>\n      <th>part_id</th>\n      <th>part_name</th>\n      <th>short_desc</th>\n      <th>feature_id</th>\n      <th>feature_type</th>\n      <th>label</th>\n      <th>start_pos</th>\n      <th>end_pos</th>\n      <th>reverse</th>\n      <th>sequence</th>\n      <th>part_len</th>\n      <th>seq_len</th>\n    </tr>\n  </thead>\n  <tbody>\n    <tr>\n      <th>17552</th>\n      <td>5082.0</td>\n      <td>BBa_I12034</td>\n      <td>Modified lamdba Prm promoter (repressed by 434...</td>\n      <td>1030773</td>\n      <td>binding</td>\n      <td>OR1 lambda</td>\n      <td>9</td>\n      <td>25</td>\n      <td>0.0</td>\n      <td>tatcaccgccagaggta</td>\n      <td>17</td>\n      <td>17</td>\n    </tr>\n    <tr>\n      <th>17553</th>\n      <td>5082.0</td>\n      <td>BBa_I12034</td>\n      <td>Modified lamdba Prm promoter (repressed by 434...</td>\n      <td>1030774</td>\n      <td>promoter</td>\n      <td>-35</td>\n      <td>48</td>\n      <td>53</td>\n      <td>0.0</td>\n      <td>tagata</td>\n      <td>6</td>\n      <td>6</td>\n    </tr>\n    <tr>\n      <th>17554</th>\n      <td>5082.0</td>\n      <td>BBa_I12034</td>\n      <td>Modified lamdba Prm promoter (repressed by 434...</td>\n      <td>1030775</td>\n      <td>binding</td>\n      <td>OR2 lambda</td>\n      <td>33</td>\n      <td>49</td>\n      <td>0.0</td>\n      <td>caacacgcacggtgtta</td>\n      <td>17</td>\n      <td>17</td>\n    </tr>\n    <tr>\n      <th>17555</th>\n      <td>5082.0</td>\n      <td>BBa_I12034</td>\n      <td>Modified lamdba Prm promoter (repressed by 434...</td>\n      <td>1030779</td>\n      <td>binding</td>\n      <td>OR1 434</td>\n      <td>56</td>\n      <td>69</td>\n      <td>0.0</td>\n      <td>acaaactttcttgt</td>\n      <td>14</td>\n      <td>14</td>\n    </tr>\n    <tr>\n      <th>17556</th>\n      <td>5082.0</td>\n      <td>BBa_I12034</td>\n      <td>Modified lamdba Prm promoter (repressed by 434...</td>\n      <td>1030781</td>\n      <td>promoter</td>\n      <td>-10</td>\n      <td>71</td>\n      <td>76</td>\n      <td>0.0</td>\n      <td>tagatt</td>\n      <td>6</td>\n      <td>6</td>\n    </tr>\n    <tr>\n      <th>17557</th>\n      <td>5082.0</td>\n      <td>BBa_I12034</td>\n      <td>Modified lamdba Prm promoter (repressed by 434...</td>\n      <td>1030782</td>\n      <td>binding</td>\n      <td>OR2 434</td>\n      <td>77</td>\n      <td>91</td>\n      <td>0.0</td>\n      <td>acaatgtatcttgta</td>\n      <td>15</td>\n      <td>15</td>\n    </tr>\n    <tr>\n      <th>17558</th>\n      <td>5082.0</td>\n      <td>BBa_I12034</td>\n      <td>Modified lamdba Prm promoter (repressed by 434...</td>\n      <td>1030783</td>\n      <td>rbs</td>\n      <td>BBa_B0034 (Elowitz)</td>\n      <td>92</td>\n      <td>103</td>\n      <td>0.0</td>\n      <td>aagaggagaaa</td>\n      <td>12</td>\n      <td>11</td>\n    </tr>\n  </tbody>\n</table>\n</div>"
     },
     "metadata": {},
     "execution_count": 122
    }
   ],
   "source": [
    "df[df['part_name']=='BBa_I12034']"
   ]
  },
  {
   "cell_type": "code",
   "execution_count": 101,
   "metadata": {},
   "outputs": [
    {
     "output_type": "execute_result",
     "data": {
      "text/plain": [
       "        part_id part_name short_desc  \\\n",
       "337206      NaN       NaN        NaN   \n",
       "\n",
       "                                               feature_id feature_type label  \\\n",
       "337206  Stable and Selectable T7 Genome for Engineerin...         1859   NaN   \n",
       "\n",
       "        start_pos                                            end_pos  reverse  \\\n",
       "337206        NaN  acaccagagatggtagagaagtacgctatggataaggcttatggta...      NaN   \n",
       "\n",
       "       sequence  seq_len  \n",
       "337206      NaN        3  "
      ],
      "text/html": "<div>\n<style scoped>\n    .dataframe tbody tr th:only-of-type {\n        vertical-align: middle;\n    }\n\n    .dataframe tbody tr th {\n        vertical-align: top;\n    }\n\n    .dataframe thead th {\n        text-align: right;\n    }\n</style>\n<table border=\"1\" class=\"dataframe\">\n  <thead>\n    <tr style=\"text-align: right;\">\n      <th></th>\n      <th>part_id</th>\n      <th>part_name</th>\n      <th>short_desc</th>\n      <th>feature_id</th>\n      <th>feature_type</th>\n      <th>label</th>\n      <th>start_pos</th>\n      <th>end_pos</th>\n      <th>reverse</th>\n      <th>sequence</th>\n      <th>seq_len</th>\n    </tr>\n  </thead>\n  <tbody>\n    <tr>\n      <th>337206</th>\n      <td>NaN</td>\n      <td>NaN</td>\n      <td>NaN</td>\n      <td>Stable and Selectable T7 Genome for Engineerin...</td>\n      <td>1859</td>\n      <td>NaN</td>\n      <td>NaN</td>\n      <td>acaccagagatggtagagaagtacgctatggataaggcttatggta...</td>\n      <td>NaN</td>\n      <td>NaN</td>\n      <td>3</td>\n    </tr>\n  </tbody>\n</table>\n</div>"
     },
     "metadata": {},
     "execution_count": 101
    }
   ],
   "source": [
    "df[df.fillna(0)['end_pos'].str.contains(\"acaccagagatggtagagaagtacgctatggataaggcttatggtatctcccactcagaccagttcaccaacagttccataatagaagagaacattgagggcttagtaggtatcgagaataactcattccttgaggcacgtaacttgtttgattcggacctatccatcactatgccagacggacagcaattctcagtga\").fillna(False)]"
   ]
  },
  {
   "cell_type": "code",
   "execution_count": 113,
   "metadata": {},
   "outputs": [
    {
     "output_type": "execute_result",
     "data": {
      "text/plain": [
       "        part_id     part_name           short_desc feature_id feature_type  \\\n",
       "339624  55076.0  BBa_K3113312  pCAG_DHD154b-mEos4b    2669702   s_mutation   \n",
       "339625  55076.0  BBa_K3113312  pCAG_DHD154b-mEos4b    2669703   s_mutation   \n",
       "339626  55076.0  BBa_K3113312  pCAG_DHD154b-mEos4b    2669704   s_mutation   \n",
       "339627  55076.0  BBa_K3113312  pCAG_DHD154b-mEos4b    2669705     BioBrick   \n",
       "339628  55076.0  BBa_K3113312  pCAG_DHD154b-mEos4b    2669706     BioBrick   \n",
       "339629  55076.0  BBa_K3113312  pCAG_DHD154b-mEos4b    2669707     BioBrick   \n",
       "\n",
       "               label  start_pos end_pos  reverse                 sequence  \\\n",
       "339624        C1314G     1314.0    1314      0.0                        g   \n",
       "339625        C1470G     1470.0    1470      0.0                        g   \n",
       "339626        T1626A     1626.0    1626      0.0                        a   \n",
       "339627  BBa_K3113001     1672.0    1680      1.0                attaaggat   \n",
       "339628  BBa_K3113002     1681.0    1703      1.0  ccctatagtgagtcgtattatta   \n",
       "339629  BBa_K3113003     1704.0    1712      1.0                ggtggcggc   \n",
       "\n",
       "        seq_len  \n",
       "339624        1  \n",
       "339625        1  \n",
       "339626        1  \n",
       "339627        9  \n",
       "339628       23  \n",
       "339629        9  "
      ],
      "text/html": "<div>\n<style scoped>\n    .dataframe tbody tr th:only-of-type {\n        vertical-align: middle;\n    }\n\n    .dataframe tbody tr th {\n        vertical-align: top;\n    }\n\n    .dataframe thead th {\n        text-align: right;\n    }\n</style>\n<table border=\"1\" class=\"dataframe\">\n  <thead>\n    <tr style=\"text-align: right;\">\n      <th></th>\n      <th>part_id</th>\n      <th>part_name</th>\n      <th>short_desc</th>\n      <th>feature_id</th>\n      <th>feature_type</th>\n      <th>label</th>\n      <th>start_pos</th>\n      <th>end_pos</th>\n      <th>reverse</th>\n      <th>sequence</th>\n      <th>seq_len</th>\n    </tr>\n  </thead>\n  <tbody>\n    <tr>\n      <th>339624</th>\n      <td>55076.0</td>\n      <td>BBa_K3113312</td>\n      <td>pCAG_DHD154b-mEos4b</td>\n      <td>2669702</td>\n      <td>s_mutation</td>\n      <td>C1314G</td>\n      <td>1314.0</td>\n      <td>1314</td>\n      <td>0.0</td>\n      <td>g</td>\n      <td>1</td>\n    </tr>\n    <tr>\n      <th>339625</th>\n      <td>55076.0</td>\n      <td>BBa_K3113312</td>\n      <td>pCAG_DHD154b-mEos4b</td>\n      <td>2669703</td>\n      <td>s_mutation</td>\n      <td>C1470G</td>\n      <td>1470.0</td>\n      <td>1470</td>\n      <td>0.0</td>\n      <td>g</td>\n      <td>1</td>\n    </tr>\n    <tr>\n      <th>339626</th>\n      <td>55076.0</td>\n      <td>BBa_K3113312</td>\n      <td>pCAG_DHD154b-mEos4b</td>\n      <td>2669704</td>\n      <td>s_mutation</td>\n      <td>T1626A</td>\n      <td>1626.0</td>\n      <td>1626</td>\n      <td>0.0</td>\n      <td>a</td>\n      <td>1</td>\n    </tr>\n    <tr>\n      <th>339627</th>\n      <td>55076.0</td>\n      <td>BBa_K3113312</td>\n      <td>pCAG_DHD154b-mEos4b</td>\n      <td>2669705</td>\n      <td>BioBrick</td>\n      <td>BBa_K3113001</td>\n      <td>1672.0</td>\n      <td>1680</td>\n      <td>1.0</td>\n      <td>attaaggat</td>\n      <td>9</td>\n    </tr>\n    <tr>\n      <th>339628</th>\n      <td>55076.0</td>\n      <td>BBa_K3113312</td>\n      <td>pCAG_DHD154b-mEos4b</td>\n      <td>2669706</td>\n      <td>BioBrick</td>\n      <td>BBa_K3113002</td>\n      <td>1681.0</td>\n      <td>1703</td>\n      <td>1.0</td>\n      <td>ccctatagtgagtcgtattatta</td>\n      <td>23</td>\n    </tr>\n    <tr>\n      <th>339629</th>\n      <td>55076.0</td>\n      <td>BBa_K3113312</td>\n      <td>pCAG_DHD154b-mEos4b</td>\n      <td>2669707</td>\n      <td>BioBrick</td>\n      <td>BBa_K3113003</td>\n      <td>1704.0</td>\n      <td>1712</td>\n      <td>1.0</td>\n      <td>ggtggcggc</td>\n      <td>9</td>\n    </tr>\n  </tbody>\n</table>\n</div>"
     },
     "metadata": {},
     "execution_count": 113
    }
   ],
   "source": [
    "loc=337206\n",
    "df.iloc[loc-3:loc+3]"
   ]
  },
  {
   "cell_type": "code",
   "execution_count": 114,
   "metadata": {},
   "outputs": [
    {
     "output_type": "execute_result",
     "data": {
      "text/plain": [
       "0           87\n",
       "1          103\n",
       "2          110\n",
       "3          112\n",
       "4          113\n",
       "          ... \n",
       "354520    3743\n",
       "354521    2846\n",
       "354522    3773\n",
       "354523    1863\n",
       "354524     543\n",
       "Name: end_pos, Length: 351939, dtype: int64"
      ]
     },
     "metadata": {},
     "execution_count": 114
    }
   ],
   "source": [
    "df['end_pos'].astype(int)"
   ]
  },
  {
   "cell_type": "code",
   "execution_count": 115,
   "metadata": {},
   "outputs": [
    {
     "output_type": "execute_result",
     "data": {
      "text/plain": [
       "0           87.0\n",
       "1          103.0\n",
       "2          110.0\n",
       "3          112.0\n",
       "4          113.0\n",
       "           ...  \n",
       "354520    3731.0\n",
       "354521    2839.0\n",
       "354522    3768.0\n",
       "354523       1.0\n",
       "354524       1.0\n",
       "Name: start_pos, Length: 351939, dtype: float64"
      ]
     },
     "metadata": {},
     "execution_count": 115
    }
   ],
   "source": [
    "df['start_pos']"
   ]
  },
  {
   "cell_type": "code",
   "execution_count": null,
   "metadata": {},
   "outputs": [],
   "source": []
  }
 ]
}