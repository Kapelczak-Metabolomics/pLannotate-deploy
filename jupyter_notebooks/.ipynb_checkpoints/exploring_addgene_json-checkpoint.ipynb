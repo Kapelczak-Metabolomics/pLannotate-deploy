{
 "cells": [
  {
   "cell_type": "code",
   "execution_count": 9,
   "metadata": {},
   "outputs": [],
   "source": [
    "import json\n",
    "\n",
    "with open('../data/databases/addgene-plasmids-sequences.json') as json_file:\n",
    "    data = json.load(json_file)"
   ]
  },
  {
   "cell_type": "markdown",
   "metadata": {},
   "source": [
    "grep -o \"https:\\/\\/media\\.addgene\\.org\\/snapgene-media.*\\.gbk\" addgene-plasmids-sequences.json > gbk.txt"
   ]
  },
  {
   "cell_type": "code",
   "execution_count": 2,
   "metadata": {},
   "outputs": [],
   "source": [
    "with open(\"../data/databases/gbk.txt\") as fh:\n",
    "    gbks=fh.read().splitlines()"
   ]
  },
  {
   "cell_type": "code",
   "execution_count": null,
   "metadata": {},
   "outputs": [
    {
     "name": "stdout",
     "output_type": "stream",
     "text": [
      "..........................................................................................................................................................................................................................................................................................................................................................................................................................................................................................................................................................................................................................................................................................................................................................................................................................................................................................................................................................................................................................................................................................................................................................................................................................."
     ]
    }
   ],
   "source": [
    "#~195,000\n",
    "import requests\n",
    "fails=[]\n",
    "for i in range(len(gbks)):\n",
    "    if i%1000:\n",
    "        print(\".\",end=\"\")\n",
    "    try:\n",
    "        r=requests.get(gbks[i], allow_redirects=True).text\n",
    "        path=gbks[i].split(\"/\")[-1]\n",
    "        with open(f'../data/addgene_gbks/{path}', 'w') as fh:\n",
    "            fh.write(r)\n",
    "    except:\n",
    "        fails.append(i)\n"
   ]
  },
  {
   "cell_type": "code",
   "execution_count": 11,
   "metadata": {},
   "outputs": [
    {
     "data": {
      "text/plain": [
       "195426"
      ]
     },
     "execution_count": 11,
     "metadata": {},
     "output_type": "execute_result"
    }
   ],
   "source": [
    "len(gbks)"
   ]
  },
  {
   "cell_type": "code",
   "execution_count": 12,
   "metadata": {},
   "outputs": [
    {
     "data": {
      "text/plain": [
       "93823"
      ]
     },
     "execution_count": 12,
     "metadata": {},
     "output_type": "execute_result"
    }
   ],
   "source": [
    "len(data['plasmids'])"
   ]
  },
  {
   "cell_type": "code",
   "execution_count": 4,
   "metadata": {},
   "outputs": [
    {
     "data": {
      "text/plain": [
       "dict_keys(['public_addgene_full_sequences', 'public_addgene_partial_sequences', 'public_user_full_sequences', 'public_user_partial_sequences'])"
      ]
     },
     "execution_count": 4,
     "metadata": {},
     "output_type": "execute_result"
    }
   ],
   "source": [
    "data['plasmids'][0]['sequences'].keys()"
   ]
  },
  {
   "cell_type": "code",
   "execution_count": 15,
   "metadata": {},
   "outputs": [
    {
     "data": {
      "text/plain": [
       "[{'genbank_url': 'https://media.addgene.org/snapgene-media/v1.6.2-0-g4b4ed87/sequences/64/15/16415/addgene-plasmid-3-sequence-16415.gbk',\n",
       "  'sequence': 'GGTCGGATTCCCGGGCTGCAGGAATTCGGCACGAGGTTGCCTGCATGAGTGTGTGCTGTGTGTCAGAGTGGATTGGAGTTGAAAAAGCTTGACTGGCGTCATTCGGGAGCTGGATGGCTTGGGACATGTGCAGCCAAGACTCTGTATGGAGTGACATAGAGTGTGCTGCTCTGGTTGGTGAGGACCAGCCTCTTTGCCCAGATCTTCCTGAACTTGACCTTTCTGAACTTGATGTGAATGACTTGGATACAGACAGCTTTCTGGGTGGATTGAAGTGGTGTAGCGACCAATCGGAAATCATATCCAACCAGTACAACAATGAGCCTGCGAACATATTTGAGAAGATAGATGAAGAGAATGAGGCAAACTTGCTAGCGGTCCTCACAGAGACACTGGACAGTCTCCCCGTGGATGAAGACGGATTGCCCTCATTTGATGCACTGACAGATGGAGCCGTGACCACTGACAACGAGGCCAGTCCTTCCTCCATGCCTGACGGCACCCCTCCCCCTCAGGAGGCAGAAGAGCCGTCTCTACTTAAGAAGCTCTTACTGGCACCAGCCAACACTCAGCTCAGCTACAATGAATGCAGCGGTCTTAGCACTCAGAACCATGCAGCAAACCACACCCACAGGATCAGAACAAACCCTGCCATTGTTAAGACCGAGAATTCATGGAGCAATAAAGCGAAGAGCATTTGTCAACAGCAAAAGCCACAAAGACGTCCCTGCTCAGAGCTTCTCAAGTATCTGACCACAAACGATGACCCTCCTCACACCAAACCCACAGAAAACAGGAACAGCAGCAGAGACAAATGTGCTTCCAAAAAGAAGTCCCATACACAACCGCAGTCGCAACATGCTCAAGCCAAACCAACAACTTTATCTCTTCCTCTGACCCCAGAGTCACCAAATGACCCCAAGGGNTCCCCATTTGAGAACNAGACTATTGAGCGAACCTTAAGTGTNNNCTCTCTGGAACTGCAGNCTACTCCTCCCACACTCCTCCTCATAAGCNNCAGANACCCTTTCAGGCTTCGCCAAAGCTGAGCCTCTGCAGACGTG',\n",
       "  'sequence_description': '3_sp6',\n",
       "  'snapgene_url': 'https://media.addgene.org/snapgene-media/v1.6.2-0-g4b4ed87/sequences/64/15/16415/addgene-plasmid-3-sequence-16415.dna'},\n",
       " {'genbank_url': 'https://media.addgene.org/snapgene-media/v1.6.2-0-g4b4ed87/sequences/64/16/16416/addgene-plasmid-3-sequence-16416.gbk',\n",
       "  'sequence': 'NTTAGCCATGCGCGTACGTAACTTGGATCCTCTAGAGCGGCCGCCGACTAGTGAGCTCGTCGAGTTTTTTTTTTTTTTTTTTTAATTTATTTATTTTCCTTTTGTATAGAATACGAACATTTTGAAGTTGTAGGTTTTAAGTGTGTCTTCATGGAAATGCTGCCATTTGAAGGGGTCGCCCTTGTTCGTTCTGTTCAGGTGCCCCCAAGTCCTCACATGTGTACATATGTACTTTCCAAACAAGTACACACACACACATACACACACGCACACCCACACACACACACGCACACACACTGTCACCAAGAGCCTCCAGGGAAAGCAAAGCTGACACCCGTGAATAAACGTGTGCTTACTGGATTATCATTCTGTCTCTTGCCTCTTCAGCAGCTGTGTTCATGTAAACCGTTGTTCTTGTTCTGGTATGGTTGTTGTTGTTATTGTTGTTGTTGTTGTTGTTATTGTTGTTTTGTTTTGTTTTATTTTTGTACAGAGAGTGTAAAGTAGGAGAAATTCCTAAGTATGACTTGCAAGAGTCTTGGGAAAGGACACGCTGTCCCATGAGGTATTGACCATCTCTCTGTCATTCCTCAGCCTGGGAACACGTTACCTGCGCAAGCTTCTCTGAGCTTCCTTCAGTAAACTATCAAAATCCAGAGAGTCATACTTGCTCTTGGTGGAAGCAGGGTCAAAATCGTCTGAGTTGGTATCTAGGTCTGCATAGTTAGACTTGAAAAATTGCTTCCGTCCACAAAAGTACAGCTCGAAGTCAGTTTCGTTCGACCTGCGTAAAGTATATCCATTCTCAAGAGCAGCGAAAGCGTCACAGGTGTAACGGTAGGTGATGAAACCATAGCTGTCTCCATCATCCCGCAGATTTACGGTGCATTCCTCAATTTCACCAAAAACTTCAAAGCGGTCTCTCAATTCTGTCCCCGTTGTGTCAGGTCGGATTTTACAACGTAAATCACACGGCGCTCTTCAATTGCTTTTCGCTTCCGCCTCCCCCCTCGGTTTGGCCCTTTCAAACTCCCGCTTCCCGGGGTCTTTTGCGGATTCATCCCTCTTGGACCCTTTCGGGCCCAAAGGCTTCAAACTGCCGAACCGGGACCTAACGGTGGTAGGGGGACCTTGAAGGTGATTTCACCTAAAAGGGAAAAATGTCCGTGGGTGGCGGGGCCGTAATGGGCTTTGATTCTAACAAAAAACAGGACTTCTAAAAGAAATCTATTGGCGTGGGAACTTGTATTTTTCCCGGCAAATGGGGGTATCGAAACACAACCTTTTTCTAATAAAAATTCTGG',\n",
       "  'sequence_description': '3_t7',\n",
       "  'snapgene_url': 'https://media.addgene.org/snapgene-media/v1.6.2-0-g4b4ed87/sequences/64/16/16416/addgene-plasmid-3-sequence-16416.dna'}]"
      ]
     },
     "execution_count": 15,
     "metadata": {},
     "output_type": "execute_result"
    }
   ],
   "source": [
    "data['plasmids'][0]['sequences']['public_addgene_partial_sequences']"
   ]
  },
  {
   "cell_type": "code",
   "execution_count": 11,
   "metadata": {},
   "outputs": [
    {
     "data": {
      "text/plain": [
       "[(0, 40344),\n",
       " (1, 28137),\n",
       " (2, 19410),\n",
       " (3, 4269),\n",
       " (4, 1190),\n",
       " (5, 323),\n",
       " (6, 82),\n",
       " (7, 38),\n",
       " (8, 15),\n",
       " (9, 7),\n",
       " (10, 6),\n",
       " (11, 2)]"
      ]
     },
     "execution_count": 11,
     "metadata": {},
     "output_type": "execute_result"
    }
   ],
   "source": [
    "from collections import Counter\n",
    "Counter([len(data['plasmids'][i]['sequences']['public_addgene_partial_sequences']) for i in range(len(data['plasmids']))]).most_common()"
   ]
  },
  {
   "cell_type": "code",
   "execution_count": 12,
   "metadata": {},
   "outputs": [
    {
     "data": {
      "text/plain": [
       "[(0, 48114), (1, 45411), (2, 290), (3, 7), (4, 1)]"
      ]
     },
     "execution_count": 12,
     "metadata": {},
     "output_type": "execute_result"
    }
   ],
   "source": [
    "Counter([len(data['plasmids'][i]['sequences']['public_addgene_full_sequences']) for i in range(len(data['plasmids']))]).most_common()"
   ]
  },
  {
   "cell_type": "code",
   "execution_count": 13,
   "metadata": {},
   "outputs": [
    {
     "data": {
      "text/plain": [
       "[(0, 68137), (1, 22881), (2, 2531), (3, 149), (4, 107), (5, 17), (6, 1)]"
      ]
     },
     "execution_count": 13,
     "metadata": {},
     "output_type": "execute_result"
    }
   ],
   "source": [
    "Counter([len(data['plasmids'][i]['sequences']['public_user_partial_sequences']) for i in range(len(data['plasmids']))]).most_common()"
   ]
  },
  {
   "cell_type": "code",
   "execution_count": 14,
   "metadata": {},
   "outputs": [
    {
     "data": {
      "text/plain": [
       "[(0, 60571), (1, 33158), (2, 94)]"
      ]
     },
     "execution_count": 14,
     "metadata": {},
     "output_type": "execute_result"
    }
   ],
   "source": [
    "Counter([len(data['plasmids'][i]['sequences']['public_user_full_sequences']) for i in range(len(data['plasmids']))]).most_common()"
   ]
  },
  {
   "cell_type": "code",
   "execution_count": null,
   "metadata": {},
   "outputs": [],
   "source": []
  },
  {
   "cell_type": "markdown",
   "metadata": {},
   "source": [
    "# combing through gbks"
   ]
  },
  {
   "cell_type": "code",
   "execution_count": 16,
   "metadata": {},
   "outputs": [],
   "source": [
    "import glob\n",
    "from Bio import SeqIO\n",
    "import pandas as pd\n",
    "\n",
    "from Bio import BiopythonParserWarning\n",
    "import warnings\n",
    "with warnings.catch_warnings():\n",
    "    warnings.simplefilter('ignore', BiopythonParserWarning)\n",
    "    breaker=0\n",
    "    l=[]\n",
    "    for file_loc in glob.glob(\"../data/addgene_gbks/*.gbk\"):\n",
    "        if breaker == None:\n",
    "            break\n",
    "        with open(file_loc,'r') as file_handle:\n",
    "            record_dict = SeqIO.to_dict(SeqIO.parse(file_handle, 'gb'))\n",
    "\n",
    "        gbkFile = record_dict[list(record_dict.keys())[0]]\n",
    "\n",
    "        name  = file_loc.split(\"/\")[-1].replace(\".gbk\",\"\")\n",
    "        seq   = str(gbkFile.seq)\n",
    "        description = gbkFile.description\n",
    "        base = {\"name\":name,\"full_seq\":seq,\"description\":description,\"description\":description}\n",
    "        annos = gbkFile.annotations\n",
    "        l.append({**base,**annos})\n",
    "\n",
    "        breaker+=1\n",
    "l=pd.DataFrame(l)"
   ]
  },
  {
   "cell_type": "code",
   "execution_count": 23,
   "metadata": {
    "deletable": false,
    "editable": false,
    "run_control": {
     "frozen": true
    }
   },
   "outputs": [],
   "source": [
    "l.to_csv(\"/Users/mattmcguffie/Desktop/addgene_gbk_metadata.csv\",index=[\"name\"])"
   ]
  },
  {
   "cell_type": "code",
   "execution_count": 44,
   "metadata": {},
   "outputs": [
    {
     "data": {
      "text/html": [
       "<div>\n",
       "<style scoped>\n",
       "    .dataframe tbody tr th:only-of-type {\n",
       "        vertical-align: middle;\n",
       "    }\n",
       "\n",
       "    .dataframe tbody tr th {\n",
       "        vertical-align: top;\n",
       "    }\n",
       "\n",
       "    .dataframe thead th {\n",
       "        text-align: right;\n",
       "    }\n",
       "</style>\n",
       "<table border=\"1\" class=\"dataframe\">\n",
       "  <thead>\n",
       "    <tr style=\"text-align: right;\">\n",
       "      <th></th>\n",
       "      <th>name</th>\n",
       "      <th>full_seq</th>\n",
       "      <th>description</th>\n",
       "      <th>molecule_type</th>\n",
       "      <th>topology</th>\n",
       "      <th>data_file_division</th>\n",
       "      <th>date</th>\n",
       "      <th>accessions</th>\n",
       "      <th>keywords</th>\n",
       "      <th>source</th>\n",
       "      <th>organism</th>\n",
       "      <th>taxonomy</th>\n",
       "      <th>references</th>\n",
       "    </tr>\n",
       "  </thead>\n",
       "  <tbody>\n",
       "    <tr>\n",
       "      <th>0</th>\n",
       "      <td>_11_17_51117_addgene-plasmid-39353-sequence-51117</td>\n",
       "      <td>CGGATCTATATTACCCTGTTATCCCTAGCGGATCTGCCGGTAGAGG...</td>\n",
       "      <td>synthetic linear DNA</td>\n",
       "      <td>ds-DNA</td>\n",
       "      <td>linear</td>\n",
       "      <td>SYN</td>\n",
       "      <td>14-AUG-2018</td>\n",
       "      <td>[.]</td>\n",
       "      <td>[pFA6a-kanMX6-Purg1-GFP]</td>\n",
       "      <td>synthetic DNA construct</td>\n",
       "      <td>synthetic DNA construct</td>\n",
       "      <td>[]</td>\n",
       "      <td>[location: [0:891]\\nauthors: Watt S, Mata J, L...</td>\n",
       "    </tr>\n",
       "    <tr>\n",
       "      <th>1</th>\n",
       "      <td>_13_53_81353_addgene-plasmid-51658-sequence-81353</td>\n",
       "      <td>ATATCGCCGTGGCGGCCGCTCTAGAACTAGTGGATCGATCCCCAAT...</td>\n",
       "      <td>Bacterial cloning vector based on pUK21 (Kan)</td>\n",
       "      <td>ds-DNA</td>\n",
       "      <td>linear</td>\n",
       "      <td>SYN</td>\n",
       "      <td>14-AUG-2018</td>\n",
       "      <td>[.]</td>\n",
       "      <td>[pUK21-deltaBB]</td>\n",
       "      <td>synthetic DNA construct</td>\n",
       "      <td>synthetic DNA construct</td>\n",
       "      <td>[]</td>\n",
       "      <td>[location: [0:896]\\nauthors: Voth WP, Richards...</td>\n",
       "    </tr>\n",
       "    <tr>\n",
       "      <th>2</th>\n",
       "      <td>_27_81_232781_addgene-plasmid-120241-sequence-...</td>\n",
       "      <td>GGGCAGAGCGCACATCGCCCACAGTCCCCGAGAAGTTGGGGGGAGG...</td>\n",
       "      <td>Expresses V5-tagged Itprip in lentiviral vector</td>\n",
       "      <td>ds-DNA</td>\n",
       "      <td>circular</td>\n",
       "      <td>SYN</td>\n",
       "      <td>09-JAN-2019</td>\n",
       "      <td>[.]</td>\n",
       "      <td>[pLV-EF1a-Itprip-V5]</td>\n",
       "      <td>synthetic DNA construct</td>\n",
       "      <td>synthetic DNA construct</td>\n",
       "      <td>[]</td>\n",
       "      <td>[location: [0:7223]\\nauthors: \\ntitle: Gerace ...</td>\n",
       "    </tr>\n",
       "    <tr>\n",
       "      <th>3</th>\n",
       "      <td>_05_12_100512_addgene-plasmid-60521-sequence-1...</td>\n",
       "      <td>GCTTGGCCTGACAGGCCTTCGAATTAGTGAGAAGGAAAGACGCAAC...</td>\n",
       "      <td>SB-transposon with constitutive bi-directional...</td>\n",
       "      <td>ds-DNA</td>\n",
       "      <td>linear</td>\n",
       "      <td>SYN</td>\n",
       "      <td>14-AUG-2018</td>\n",
       "      <td>[.]</td>\n",
       "      <td>[pSBbi-BB]</td>\n",
       "      <td>synthetic DNA construct</td>\n",
       "      <td>synthetic DNA construct</td>\n",
       "      <td>[]</td>\n",
       "      <td>[location: [0:822]\\nauthors: Kowarz E, Loesche...</td>\n",
       "    </tr>\n",
       "    <tr>\n",
       "      <th>4</th>\n",
       "      <td>_02_68_120268_addgene-plasmid-67790-sequence-1...</td>\n",
       "      <td>TTGATGATGGCCATGTTATCCTCCTCGCCCTTGCTCACCATGGCAT...</td>\n",
       "      <td>Expression of MMLV proviral DNA-mCherry. Use t...</td>\n",
       "      <td>ds-DNA</td>\n",
       "      <td>linear</td>\n",
       "      <td>SYN</td>\n",
       "      <td>14-AUG-2018</td>\n",
       "      <td>[.]</td>\n",
       "      <td>[PNCA-mCherry]</td>\n",
       "      <td>synthetic DNA construct</td>\n",
       "      <td>synthetic DNA construct</td>\n",
       "      <td>[]</td>\n",
       "      <td>[location: [0:711]\\nauthors: Schlesinger S, Go...</td>\n",
       "    </tr>\n",
       "  </tbody>\n",
       "</table>\n",
       "</div>"
      ],
      "text/plain": [
       "                                                name  \\\n",
       "0  _11_17_51117_addgene-plasmid-39353-sequence-51117   \n",
       "1  _13_53_81353_addgene-plasmid-51658-sequence-81353   \n",
       "2  _27_81_232781_addgene-plasmid-120241-sequence-...   \n",
       "3  _05_12_100512_addgene-plasmid-60521-sequence-1...   \n",
       "4  _02_68_120268_addgene-plasmid-67790-sequence-1...   \n",
       "\n",
       "                                            full_seq  \\\n",
       "0  CGGATCTATATTACCCTGTTATCCCTAGCGGATCTGCCGGTAGAGG...   \n",
       "1  ATATCGCCGTGGCGGCCGCTCTAGAACTAGTGGATCGATCCCCAAT...   \n",
       "2  GGGCAGAGCGCACATCGCCCACAGTCCCCGAGAAGTTGGGGGGAGG...   \n",
       "3  GCTTGGCCTGACAGGCCTTCGAATTAGTGAGAAGGAAAGACGCAAC...   \n",
       "4  TTGATGATGGCCATGTTATCCTCCTCGCCCTTGCTCACCATGGCAT...   \n",
       "\n",
       "                                         description molecule_type  topology  \\\n",
       "0                               synthetic linear DNA        ds-DNA    linear   \n",
       "1      Bacterial cloning vector based on pUK21 (Kan)        ds-DNA    linear   \n",
       "2    Expresses V5-tagged Itprip in lentiviral vector        ds-DNA  circular   \n",
       "3  SB-transposon with constitutive bi-directional...        ds-DNA    linear   \n",
       "4  Expression of MMLV proviral DNA-mCherry. Use t...        ds-DNA    linear   \n",
       "\n",
       "  data_file_division         date accessions                  keywords  \\\n",
       "0                SYN  14-AUG-2018        [.]  [pFA6a-kanMX6-Purg1-GFP]   \n",
       "1                SYN  14-AUG-2018        [.]           [pUK21-deltaBB]   \n",
       "2                SYN  09-JAN-2019        [.]      [pLV-EF1a-Itprip-V5]   \n",
       "3                SYN  14-AUG-2018        [.]                [pSBbi-BB]   \n",
       "4                SYN  14-AUG-2018        [.]            [PNCA-mCherry]   \n",
       "\n",
       "                    source                 organism taxonomy  \\\n",
       "0  synthetic DNA construct  synthetic DNA construct       []   \n",
       "1  synthetic DNA construct  synthetic DNA construct       []   \n",
       "2  synthetic DNA construct  synthetic DNA construct       []   \n",
       "3  synthetic DNA construct  synthetic DNA construct       []   \n",
       "4  synthetic DNA construct  synthetic DNA construct       []   \n",
       "\n",
       "                                          references  \n",
       "0  [location: [0:891]\\nauthors: Watt S, Mata J, L...  \n",
       "1  [location: [0:896]\\nauthors: Voth WP, Richards...  \n",
       "2  [location: [0:7223]\\nauthors: \\ntitle: Gerace ...  \n",
       "3  [location: [0:822]\\nauthors: Kowarz E, Loesche...  \n",
       "4  [location: [0:711]\\nauthors: Schlesinger S, Go...  "
      ]
     },
     "execution_count": 44,
     "metadata": {},
     "output_type": "execute_result"
    }
   ],
   "source": [
    "l.head()"
   ]
  },
  {
   "cell_type": "code",
   "execution_count": null,
   "metadata": {},
   "outputs": [],
   "source": []
  },
  {
   "cell_type": "code",
   "execution_count": null,
   "metadata": {},
   "outputs": [],
   "source": []
  },
  {
   "cell_type": "code",
   "execution_count": 62,
   "metadata": {},
   "outputs": [
    {
     "name": "stdout",
     "output_type": "stream",
     "text": [
      "ID: .\n",
      "Name: Exported\n",
      "Description: Expression of MMLV proviral DNA-mCherry. Use together with pCMV-intron and VSV-G to package MMLV reporter virus\n",
      "Number of features: 2\n",
      "/molecule_type=ds-DNA\n",
      "/topology=linear\n",
      "/data_file_division=SYN\n",
      "/date=14-AUG-2018\n",
      "/accessions=['.']\n",
      "/keywords=['PNCA-mCherry']\n",
      "/source=synthetic DNA construct\n",
      "/organism=synthetic DNA construct\n",
      "/taxonomy=[]\n",
      "/references=[Reference(title='Silencing of proviruses in embryonic cells: efficiency, stability and chromatin modifications.', ...), Reference(title='Direct Submission', ...)]\n",
      "Seq('TTGATGATGGCCATGTTATCCTCCTCGCCCTTGCTCACCATGGCATCCATGCAT...TCG', IUPACAmbiguousDNA())\n"
     ]
    }
   ],
   "source": [
    "print(gbkFile)"
   ]
  },
  {
   "cell_type": "code",
   "execution_count": 46,
   "metadata": {},
   "outputs": [
    {
     "name": "stdout",
     "output_type": "stream",
     "text": [
      "type: CDS\n",
      "location: [21:39](-)\n",
      "qualifiers:\n",
      "    Key: codon_start, Value: ['1']\n",
      "    Key: label, Value: ['6xHis']\n",
      "    Key: product, Value: ['6xHis affinity tag']\n",
      "    Key: translation, Value: ['HHHHHH']\n",
      "\n"
     ]
    },
    {
     "data": {
      "text/plain": [
       "{'type': 'CDS',\n",
       " 'seq': 'GTGGTGGTGGTGGTGGTG',\n",
       " 'codon_start': '1',\n",
       " 'product': '6xHis affinity tag',\n",
       " 'label': '6xHis',\n",
       " 'translation': 'HHHHHH'}"
      ]
     },
     "execution_count": 46,
     "metadata": {},
     "output_type": "execute_result"
    }
   ],
   "source": [
    "print(gbkFile.features[1])\n",
    "start = gbkFile.features[1].location.start\n",
    "end   = gbkFile.features[1].location.end\n",
    "seq   = str(gbkFile.seq[start:end])\n",
    "Type  = gbkFile.features[1].type\n",
    "quals = dict(gbkFile.features[1].qualifiers)\n",
    "t={**{\"type\":Type,\"seq\":seq},**quals}\n",
    "\n",
    "for k,v in t.items():\n",
    "    if type(v) == list:\n",
    "        if len(v) != 0:\n",
    "            t[k] = \" | \".join(v)\n",
    "        else:\n",
    "            t[k] = \"\"\n",
    "t"
   ]
  },
  {
   "cell_type": "code",
   "execution_count": 16,
   "metadata": {},
   "outputs": [],
   "source": [
    "import glob\n",
    "from Bio import SeqIO\n",
    "import pandas as pd\n",
    "\n",
    "from Bio import BiopythonParserWarning\n",
    "import warnings\n",
    "with warnings.catch_warnings():\n",
    "    warnings.simplefilter('ignore', BiopythonParserWarning)\n",
    "    breaker=0\n",
    "    fails=[]\n",
    "    l=[]\n",
    "    for file_loc in glob.glob(\"../data/addgene_gbks/*.gbk\"):\n",
    "            if breaker == 5000:\n",
    "                break\n",
    "            try:\n",
    "                with open(file_loc,'r') as file_handle:\n",
    "                    record_dict = SeqIO.to_dict(SeqIO.parse(file_handle, 'gb'))\n",
    "                gbkFile = record_dict[list(record_dict.keys())[0]]\n",
    "                name  = file_loc.split(\"/\")[-1].replace(\".gbk\",\"\")\n",
    "\n",
    "                for feat in gbkFile.features:\n",
    "                    Type  = feat.type            \n",
    "                    start = feat.location.start\n",
    "                    end   = feat.location.end\n",
    "                    seq   = str(gbkFile.seq[start:end])\n",
    "\n",
    "                    if Type==\"source\" and len(seq)==len(gbkFile):\n",
    "                        continue\n",
    "\n",
    "                    quals = dict(feat.qualifiers)\n",
    "                    featInfo  = {**{\"name\":name,\"type\":Type,\"seq\":seq},**quals}\n",
    "\n",
    "                    for k,v in featInfo.items():\n",
    "                        if type(v) == list:\n",
    "                            if len(v) != 0:\n",
    "                                featInfo[k] = \" | \".join(v)\n",
    "                            else:\n",
    "                                featInfo[k] = \"\"\n",
    "                    l.append(featInfo)\n",
    "            except:\n",
    "                fails.append((file_loc,feat))\n",
    "            breaker+=1\n",
    "        \n",
    "l=pd.DataFrame(l)\n",
    "l=l[l['type']!=\"primer_bind\"]\n",
    "l['seq_len']=l['seq'].str.len()"
   ]
  },
  {
   "cell_type": "code",
   "execution_count": 17,
   "metadata": {},
   "outputs": [
    {
     "data": {
      "text/plain": [
       "CDS               9101\n",
       "promoter          7562\n",
       "protein_bind      4306\n",
       "rep_origin        3814\n",
       "misc_feature      2127\n",
       "polyA_signal      1709\n",
       "terminator        1541\n",
       "regulatory        1014\n",
       "enhancer           724\n",
       "LTR                655\n",
       "intron             437\n",
       "misc_RNA           394\n",
       "RBS                332\n",
       "repeat_region      331\n",
       "polyA_site         159\n",
       "ncRNA               48\n",
       "mobile_element      36\n",
       "oriT                36\n",
       "gap                 29\n",
       "gene                15\n",
       "misc_recomb         14\n",
       "3'UTR               13\n",
       "5'UTR                8\n",
       "misc_signal          3\n",
       "mat_peptide          1\n",
       "Name: type, dtype: int64"
      ]
     },
     "execution_count": 17,
     "metadata": {},
     "output_type": "execute_result"
    }
   ],
   "source": [
    "l['type'].value_counts()"
   ]
  },
  {
   "cell_type": "code",
   "execution_count": null,
   "metadata": {},
   "outputs": [],
   "source": []
  },
  {
   "cell_type": "code",
   "execution_count": null,
   "metadata": {},
   "outputs": [],
   "source": []
  },
  {
   "cell_type": "code",
   "execution_count": 115,
   "metadata": {},
   "outputs": [
    {
     "data": {
      "text/plain": [
       "575"
      ]
     },
     "execution_count": 115,
     "metadata": {},
     "output_type": "execute_result"
    }
   ],
   "source": [
    "from Bio.Seq import Seq\n",
    "from Bio import SeqIO\n",
    "from Bio.SeqRecord import SeqRecord\n",
    "featureList=[SeqRecord(Seq(ele[0]),str(ele[1]),description=\"\") for ele in list(zip(l['seq'].to_list(),l.index.to_list()))]\n",
    "SeqIO.write(featureList,'/Users/mattmcguffie/Desktop/features.fasta', 'fasta')"
   ]
  },
  {
   "cell_type": "code",
   "execution_count": 120,
   "metadata": {},
   "outputs": [
    {
     "data": {
      "text/html": [
       "<div>\n",
       "<style scoped>\n",
       "    .dataframe tbody tr th:only-of-type {\n",
       "        vertical-align: middle;\n",
       "    }\n",
       "\n",
       "    .dataframe tbody tr th {\n",
       "        vertical-align: top;\n",
       "    }\n",
       "\n",
       "    .dataframe thead th {\n",
       "        text-align: right;\n",
       "    }\n",
       "</style>\n",
       "<table border=\"1\" class=\"dataframe\">\n",
       "  <thead>\n",
       "    <tr style=\"text-align: right;\">\n",
       "      <th></th>\n",
       "      <th>name</th>\n",
       "      <th>type</th>\n",
       "      <th>seq</th>\n",
       "      <th>gene</th>\n",
       "      <th>label</th>\n",
       "      <th>note</th>\n",
       "      <th>regulatory_class</th>\n",
       "      <th>codon_start</th>\n",
       "      <th>product</th>\n",
       "      <th>translation</th>\n",
       "      <th>direction</th>\n",
       "      <th>bound_moiety</th>\n",
       "      <th>gene_synonym</th>\n",
       "      <th>seq_len</th>\n",
       "    </tr>\n",
       "  </thead>\n",
       "  <tbody>\n",
       "    <tr>\n",
       "      <th>58</th>\n",
       "      <td>_61_26_46126_addgene-plasmid-36880-sequence-46126</td>\n",
       "      <td>rep_origin</td>\n",
       "      <td>AAATTGTAAGCGTTAATATTTTGTTAAAATTCGCGTTAAATTTTTG...</td>\n",
       "      <td>NaN</td>\n",
       "      <td>f1 ori</td>\n",
       "      <td>f1 bacteriophage origin of replication; arrow ...</td>\n",
       "      <td>NaN</td>\n",
       "      <td>NaN</td>\n",
       "      <td>NaN</td>\n",
       "      <td>NaN</td>\n",
       "      <td>LEFT</td>\n",
       "      <td>NaN</td>\n",
       "      <td>NaN</td>\n",
       "      <td>456</td>\n",
       "    </tr>\n",
       "    <tr>\n",
       "      <th>144</th>\n",
       "      <td>_06_50_190650_addgene-plasmid-100119-sequence-...</td>\n",
       "      <td>rep_origin</td>\n",
       "      <td>ACGCGCCCTGTAGCGGCGCATTAAGCGCGGCGGGTGTGGTGGTTAC...</td>\n",
       "      <td>NaN</td>\n",
       "      <td>f1 ori</td>\n",
       "      <td>f1 bacteriophage origin of replication; arrow ...</td>\n",
       "      <td>NaN</td>\n",
       "      <td>NaN</td>\n",
       "      <td>NaN</td>\n",
       "      <td>NaN</td>\n",
       "      <td>RIGHT</td>\n",
       "      <td>NaN</td>\n",
       "      <td>NaN</td>\n",
       "      <td>456</td>\n",
       "    </tr>\n",
       "    <tr>\n",
       "      <th>283</th>\n",
       "      <td>_66_27_106627_addgene-plasmid-63881-sequence-1...</td>\n",
       "      <td>rep_origin</td>\n",
       "      <td>ACGCGCCCTGTAGCGGCGCATTAAGCGCGGCGGGTGTGGTGGTTAC...</td>\n",
       "      <td>NaN</td>\n",
       "      <td>f1 ori</td>\n",
       "      <td>f1 bacteriophage origin of replication; arrow ...</td>\n",
       "      <td>NaN</td>\n",
       "      <td>NaN</td>\n",
       "      <td>NaN</td>\n",
       "      <td>NaN</td>\n",
       "      <td>RIGHT</td>\n",
       "      <td>NaN</td>\n",
       "      <td>NaN</td>\n",
       "      <td>456</td>\n",
       "    </tr>\n",
       "    <tr>\n",
       "      <th>308</th>\n",
       "      <td>_88_98_248898_addgene-plasmid-123010-sequence-...</td>\n",
       "      <td>rep_origin</td>\n",
       "      <td>AAATTGTAAGCGTTAATATTTTGTTAAAATTCGCGTTAAATTTTTG...</td>\n",
       "      <td>NaN</td>\n",
       "      <td>f1 ori</td>\n",
       "      <td>f1 bacteriophage origin of replication; arrow ...</td>\n",
       "      <td>NaN</td>\n",
       "      <td>NaN</td>\n",
       "      <td>NaN</td>\n",
       "      <td>NaN</td>\n",
       "      <td>LEFT</td>\n",
       "      <td>NaN</td>\n",
       "      <td>NaN</td>\n",
       "      <td>456</td>\n",
       "    </tr>\n",
       "    <tr>\n",
       "      <th>385</th>\n",
       "      <td>_00_39_10039_addgene-plasmid-21853-sequence-10039</td>\n",
       "      <td>rep_origin</td>\n",
       "      <td>AAATTGTAAGCGTTAATATTTTGTTAAAATTCGCGTTAAATTTTTG...</td>\n",
       "      <td>NaN</td>\n",
       "      <td>f1 ori</td>\n",
       "      <td>f1 bacteriophage origin of replication; arrow ...</td>\n",
       "      <td>NaN</td>\n",
       "      <td>NaN</td>\n",
       "      <td>NaN</td>\n",
       "      <td>NaN</td>\n",
       "      <td>LEFT</td>\n",
       "      <td>NaN</td>\n",
       "      <td>NaN</td>\n",
       "      <td>456</td>\n",
       "    </tr>\n",
       "    <tr>\n",
       "      <th>509</th>\n",
       "      <td>_72_52_187252_addgene-plasmid-77172-sequence-1...</td>\n",
       "      <td>rep_origin</td>\n",
       "      <td>ACGCGCCCTGTAGCGGCGCATTAAGCGCGGCGGGTGTGGTGGTTAC...</td>\n",
       "      <td>NaN</td>\n",
       "      <td>f1 ori</td>\n",
       "      <td>f1 bacteriophage origin of replication; arrow ...</td>\n",
       "      <td>NaN</td>\n",
       "      <td>NaN</td>\n",
       "      <td>NaN</td>\n",
       "      <td>NaN</td>\n",
       "      <td>RIGHT</td>\n",
       "      <td>NaN</td>\n",
       "      <td>NaN</td>\n",
       "      <td>456</td>\n",
       "    </tr>\n",
       "  </tbody>\n",
       "</table>\n",
       "</div>"
      ],
      "text/plain": [
       "                                                  name        type  \\\n",
       "58   _61_26_46126_addgene-plasmid-36880-sequence-46126  rep_origin   \n",
       "144  _06_50_190650_addgene-plasmid-100119-sequence-...  rep_origin   \n",
       "283  _66_27_106627_addgene-plasmid-63881-sequence-1...  rep_origin   \n",
       "308  _88_98_248898_addgene-plasmid-123010-sequence-...  rep_origin   \n",
       "385  _00_39_10039_addgene-plasmid-21853-sequence-10039  rep_origin   \n",
       "509  _72_52_187252_addgene-plasmid-77172-sequence-1...  rep_origin   \n",
       "\n",
       "                                                   seq gene   label  \\\n",
       "58   AAATTGTAAGCGTTAATATTTTGTTAAAATTCGCGTTAAATTTTTG...  NaN  f1 ori   \n",
       "144  ACGCGCCCTGTAGCGGCGCATTAAGCGCGGCGGGTGTGGTGGTTAC...  NaN  f1 ori   \n",
       "283  ACGCGCCCTGTAGCGGCGCATTAAGCGCGGCGGGTGTGGTGGTTAC...  NaN  f1 ori   \n",
       "308  AAATTGTAAGCGTTAATATTTTGTTAAAATTCGCGTTAAATTTTTG...  NaN  f1 ori   \n",
       "385  AAATTGTAAGCGTTAATATTTTGTTAAAATTCGCGTTAAATTTTTG...  NaN  f1 ori   \n",
       "509  ACGCGCCCTGTAGCGGCGCATTAAGCGCGGCGGGTGTGGTGGTTAC...  NaN  f1 ori   \n",
       "\n",
       "                                                  note regulatory_class  \\\n",
       "58   f1 bacteriophage origin of replication; arrow ...              NaN   \n",
       "144  f1 bacteriophage origin of replication; arrow ...              NaN   \n",
       "283  f1 bacteriophage origin of replication; arrow ...              NaN   \n",
       "308  f1 bacteriophage origin of replication; arrow ...              NaN   \n",
       "385  f1 bacteriophage origin of replication; arrow ...              NaN   \n",
       "509  f1 bacteriophage origin of replication; arrow ...              NaN   \n",
       "\n",
       "    codon_start product translation direction bound_moiety gene_synonym  \\\n",
       "58          NaN     NaN         NaN      LEFT          NaN          NaN   \n",
       "144         NaN     NaN         NaN     RIGHT          NaN          NaN   \n",
       "283         NaN     NaN         NaN     RIGHT          NaN          NaN   \n",
       "308         NaN     NaN         NaN      LEFT          NaN          NaN   \n",
       "385         NaN     NaN         NaN      LEFT          NaN          NaN   \n",
       "509         NaN     NaN         NaN     RIGHT          NaN          NaN   \n",
       "\n",
       "     seq_len  \n",
       "58       456  \n",
       "144      456  \n",
       "283      456  \n",
       "308      456  \n",
       "385      456  \n",
       "509      456  "
      ]
     },
     "execution_count": 120,
     "metadata": {},
     "output_type": "execute_result"
    }
   ],
   "source": [
    "l[l['seq_len']==456]"
   ]
  },
  {
   "cell_type": "code",
   "execution_count": null,
   "metadata": {},
   "outputs": [],
   "source": []
  }
 ],
 "metadata": {
  "kernelspec": {
   "display_name": "Python 3",
   "language": "python",
   "name": "python3"
  },
  "language_info": {
   "codemirror_mode": {
    "name": "ipython",
    "version": 3
   },
   "file_extension": ".py",
   "mimetype": "text/x-python",
   "name": "python",
   "nbconvert_exporter": "python",
   "pygments_lexer": "ipython3",
   "version": "3.7.4"
  },
  "toc": {
   "base_numbering": 1,
   "nav_menu": {},
   "number_sections": true,
   "sideBar": true,
   "skip_h1_title": false,
   "title_cell": "Table of Contents",
   "title_sidebar": "Contents",
   "toc_cell": false,
   "toc_position": {},
   "toc_section_display": true,
   "toc_window_display": false
  }
 },
 "nbformat": 4,
 "nbformat_minor": 2
}
