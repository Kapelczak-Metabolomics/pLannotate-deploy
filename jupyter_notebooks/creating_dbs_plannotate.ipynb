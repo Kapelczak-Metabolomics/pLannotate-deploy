{
 "cells": [
  {
   "cell_type": "markdown",
   "metadata": {},
   "source": [
    "# fpbase"
   ]
  },
  {
   "cell_type": "code",
   "execution_count": 62,
   "metadata": {},
   "outputs": [
    {
     "output_type": "execute_result",
     "data": {
      "text/plain": "                                         doi uniprot   genbank  pdbs  \\\nname                                                                   \n10B            10.1126/science.273.5280.1392     NaN       NaN         \n11             10.1126/science.273.5280.1392     NaN       NaN         \n22G                  10.1126/science.1102506     NaN       NaN  2Z6X   \n(3-F)Tyr-EGFP         10.1002/cbic.200300818     NaN       NaN  1RRX   \n5B             10.1126/science.273.5280.1392     NaN       NaN         \n...                                      ...     ...       ...   ...   \nzGFP               10.1007/s12033-008-9131-y  B2ZAG1  ACD03133         \nzoan2RFP              10.1073/pnas.062552299  Q8T4U4  AAL23574         \nzRFP               10.1007/s12033-008-9131-y  B2ZAG2  ACD03134         \nZsGreen                        10.1038/13657  Q9U6Y5  AAF03372  2OJK   \nZsYellow1                                NaN     NaN       NaN         \n\n                                                             seq  \\\nname                                                               \n10B            MSKGEELFTGVVPILVELDGDVNGHKFSVSGEGEGDATYGKLTLKF...   \n11             MSKGEELFTGVVPILVELDGDVNGHKFSVSGEGEGDATYGKLTLKF...   \n22G            MSVIKPDMKIKLRMEGAVNGHPFAIEGVGLGKPFEGKQSMDLKVKE...   \n(3-F)Tyr-EGFP  SKGEELFTGVVPILVELDGDVNGHKFSVSGEGEGDATYGKLTLKFI...   \n5B             MSKGEELFTGVVPILVELDGDVNGHKFSVSGEGEGDATYGKLTLKF...   \n...                                                          ...   \nzGFP           MAYSKQGLTDNMTMKYQMEGCVDGHQFVITGHGKGNPFTGKQTLNL...   \nzoan2RFP       MAHSKHGLTDDMTMHFRMEGCVDGHKFVIEGNGNGNPFKGKQFINL...   \nzRFP           MAHSKHGLTNDMTMKFRMEGCVDGHQFVITGHGNGNPFTGEQTINL...   \nZsGreen        MAQSKHGLTKEMTMKYRMEGCVDGHKFVITGEGIGYPFKGKQAINL...   \nZsYellow1      MAHSKHGLKEEMTMKYHMEGCVNGHKFVITGEGIGYPFKGKQTINL...   \n\n                                                    description  \nname                                                             \n10B                            10.1126/science.273.5280.1392 |   \n11                             10.1126/science.273.5280.1392 |   \n22G                              10.1126/science.1102506 | 2Z6X  \n(3-F)Tyr-EGFP                     10.1002/cbic.200300818 | 1RRX  \n5B                             10.1126/science.273.5280.1392 |   \n...                                                         ...  \nzGFP           10.1007/s12033-008-9131-y | B2ZAG1 | ACD03133 |   \nzoan2RFP          10.1073/pnas.062552299 | Q8T4U4 | AAL23574 |   \nzRFP           10.1007/s12033-008-9131-y | B2ZAG2 | ACD03134 |   \nZsGreen                10.1038/13657 | Q9U6Y5 | AAF03372 | 2OJK  \nZsYellow1                                                        \n\n[721 rows x 6 columns]",
      "text/html": "<div>\n<style scoped>\n    .dataframe tbody tr th:only-of-type {\n        vertical-align: middle;\n    }\n\n    .dataframe tbody tr th {\n        vertical-align: top;\n    }\n\n    .dataframe thead th {\n        text-align: right;\n    }\n</style>\n<table border=\"1\" class=\"dataframe\">\n  <thead>\n    <tr style=\"text-align: right;\">\n      <th></th>\n      <th>doi</th>\n      <th>uniprot</th>\n      <th>genbank</th>\n      <th>pdbs</th>\n      <th>seq</th>\n      <th>description</th>\n    </tr>\n    <tr>\n      <th>name</th>\n      <th></th>\n      <th></th>\n      <th></th>\n      <th></th>\n      <th></th>\n      <th></th>\n    </tr>\n  </thead>\n  <tbody>\n    <tr>\n      <th>10B</th>\n      <td>10.1126/science.273.5280.1392</td>\n      <td>NaN</td>\n      <td>NaN</td>\n      <td></td>\n      <td>MSKGEELFTGVVPILVELDGDVNGHKFSVSGEGEGDATYGKLTLKF...</td>\n      <td>10.1126/science.273.5280.1392 |</td>\n    </tr>\n    <tr>\n      <th>11</th>\n      <td>10.1126/science.273.5280.1392</td>\n      <td>NaN</td>\n      <td>NaN</td>\n      <td></td>\n      <td>MSKGEELFTGVVPILVELDGDVNGHKFSVSGEGEGDATYGKLTLKF...</td>\n      <td>10.1126/science.273.5280.1392 |</td>\n    </tr>\n    <tr>\n      <th>22G</th>\n      <td>10.1126/science.1102506</td>\n      <td>NaN</td>\n      <td>NaN</td>\n      <td>2Z6X</td>\n      <td>MSVIKPDMKIKLRMEGAVNGHPFAIEGVGLGKPFEGKQSMDLKVKE...</td>\n      <td>10.1126/science.1102506 | 2Z6X</td>\n    </tr>\n    <tr>\n      <th>(3-F)Tyr-EGFP</th>\n      <td>10.1002/cbic.200300818</td>\n      <td>NaN</td>\n      <td>NaN</td>\n      <td>1RRX</td>\n      <td>SKGEELFTGVVPILVELDGDVNGHKFSVSGEGEGDATYGKLTLKFI...</td>\n      <td>10.1002/cbic.200300818 | 1RRX</td>\n    </tr>\n    <tr>\n      <th>5B</th>\n      <td>10.1126/science.273.5280.1392</td>\n      <td>NaN</td>\n      <td>NaN</td>\n      <td></td>\n      <td>MSKGEELFTGVVPILVELDGDVNGHKFSVSGEGEGDATYGKLTLKF...</td>\n      <td>10.1126/science.273.5280.1392 |</td>\n    </tr>\n    <tr>\n      <th>...</th>\n      <td>...</td>\n      <td>...</td>\n      <td>...</td>\n      <td>...</td>\n      <td>...</td>\n      <td>...</td>\n    </tr>\n    <tr>\n      <th>zGFP</th>\n      <td>10.1007/s12033-008-9131-y</td>\n      <td>B2ZAG1</td>\n      <td>ACD03133</td>\n      <td></td>\n      <td>MAYSKQGLTDNMTMKYQMEGCVDGHQFVITGHGKGNPFTGKQTLNL...</td>\n      <td>10.1007/s12033-008-9131-y | B2ZAG1 | ACD03133 |</td>\n    </tr>\n    <tr>\n      <th>zoan2RFP</th>\n      <td>10.1073/pnas.062552299</td>\n      <td>Q8T4U4</td>\n      <td>AAL23574</td>\n      <td></td>\n      <td>MAHSKHGLTDDMTMHFRMEGCVDGHKFVIEGNGNGNPFKGKQFINL...</td>\n      <td>10.1073/pnas.062552299 | Q8T4U4 | AAL23574 |</td>\n    </tr>\n    <tr>\n      <th>zRFP</th>\n      <td>10.1007/s12033-008-9131-y</td>\n      <td>B2ZAG2</td>\n      <td>ACD03134</td>\n      <td></td>\n      <td>MAHSKHGLTNDMTMKFRMEGCVDGHQFVITGHGNGNPFTGEQTINL...</td>\n      <td>10.1007/s12033-008-9131-y | B2ZAG2 | ACD03134 |</td>\n    </tr>\n    <tr>\n      <th>ZsGreen</th>\n      <td>10.1038/13657</td>\n      <td>Q9U6Y5</td>\n      <td>AAF03372</td>\n      <td>2OJK</td>\n      <td>MAQSKHGLTKEMTMKYRMEGCVDGHKFVITGEGIGYPFKGKQAINL...</td>\n      <td>10.1038/13657 | Q9U6Y5 | AAF03372 | 2OJK</td>\n    </tr>\n    <tr>\n      <th>ZsYellow1</th>\n      <td>NaN</td>\n      <td>NaN</td>\n      <td>NaN</td>\n      <td></td>\n      <td>MAHSKHGLKEEMTMKYHMEGCVNGHKFVITGEGIGYPFKGKQTINL...</td>\n      <td></td>\n    </tr>\n  </tbody>\n</table>\n<p>721 rows × 6 columns</p>\n</div>"
     },
     "metadata": {},
     "execution_count": 62
    }
   ],
   "source": [
    "import pandas as pd\n",
    "fluor=pd.read_csv(\"../data/fpbase_raw_20-9-2.csv\")\n",
    "fluor=fluor.dropna(subset=['seq'])\n",
    "fluor[\"pdbs\"]=fluor[fluor.columns[fluor.columns.str.startswith(\"pdb\")]].apply(lambda x: ','.join(x.dropna()), axis=1)\n",
    "fluor=fluor[['name','doi','uniprot','genbank','pdbs','seq']]\n",
    "fluor=fluor.set_index('name')\n",
    "fluor.index=fluor.index.str.replace(\" \",\"_\")\n",
    "fluor.index=fluor.index.str.normalize('NFKD').str.encode('ascii', errors='ignore').str.decode('utf-8')\n",
    "fluor['description']=fluor[['doi','uniprot','genbank','pdbs']].apply(lambda x: ' | '.join(x.dropna()), axis=1)\n",
    "fluor"
   ]
  },
  {
   "cell_type": "code",
   "execution_count": 64,
   "metadata": {},
   "outputs": [
    {
     "output_type": "execute_result",
     "data": {
      "text/plain": "721"
     },
     "metadata": {},
     "execution_count": 64
    }
   ],
   "source": [
    "from Bio.Seq import Seq\n",
    "from Bio import SeqIO\n",
    "from Bio.SeqRecord import SeqRecord\n",
    "seqs=[]\n",
    "for name in fluor.index:\n",
    "        seq=fluor.loc[name]['seq']\n",
    "        desc=\"\"#fluor.loc[name]['description']\n",
    "        seqs.append(SeqRecord(Seq(seq),id=name,description=desc))\n",
    "SeqIO.write(seqs,'../data/fpbase_20-9-2.fasta', 'fasta')"
   ]
  },
  {
   "cell_type": "code",
   "execution_count": 65,
   "metadata": {
    "code_folding": [
     2
    ],
    "deletable": false,
    "editable": false,
    "run_control": {
     "frozen": true
    }
   },
   "outputs": [
    {
     "output_type": "execute_result",
     "data": {
      "text/plain": "'\\n\\nBuilding a new DB, current time: 09/14/2020 22:19:59\\nNew DB name:   /Users/mattmcguffie/Documents/GitHub/pLannotate/BLAST_dbs/fpbase_20-9-2\\nNew DB title:  ../data/fpbase_20-9-2.fasta\\nSequence type: Protein\\nKeep MBits: T\\nMaximum file size: 1000000000B\\nAdding sequences from FASTA; added 721 sequences in 0.042753 seconds.\\n'"
     },
     "metadata": {},
     "execution_count": 65
    }
   ],
   "source": [
    "import subprocess\n",
    "from tempfile import NamedTemporaryFile\n",
    "def bash(inCommand, autoOutfile = True):\n",
    "    if autoOutfile == True:\n",
    "        tmp = NamedTemporaryFile()\n",
    "        subprocess.call(inCommand +' > '+tmp.name, shell=True)\n",
    "        f = open(tmp.name,'r')\n",
    "        tmp.close()\n",
    "        return(f.read())\n",
    "    else:\n",
    "        subprocess.call(inCommand, shell=True)  \n",
    "bash('makeblastdb -in ../data/fpbase_20-9-2.fasta -out ../BLAST_dbs/fpbase_20-9-2 -dbtype prot -parse_seqids')"
   ]
  },
  {
   "cell_type": "markdown",
   "metadata": {},
   "source": [
    "# snapgene features"
   ]
  },
  {
   "cell_type": "code",
   "execution_count": 220,
   "metadata": {},
   "outputs": [],
   "source": [
    "from Bio import SeqIO\n",
    "import glob\n",
    "gbks=[]\n",
    "for infile_loc in glob.glob('../data/addgene_features_20-9-3/*.gb'):\n",
    "    with open(infile_loc,'r') as file_handle:\n",
    "        record_dict = SeqIO.to_dict(SeqIO.parse(file_handle, 'gb'))\n",
    "    name=infile_loc.split(\"/\")[-1].split(\".\")[0]\n",
    "    gbk=record_dict[list(record_dict.keys())[0]]\n",
    "    #gbk.description=gbk.features[1].description\n",
    "    gbk.name=gbk.features[1].qualifiers['label'][0]\n",
    "    gbk.id=name\n",
    "    gbks.append(gbk)"
   ]
  },
  {
   "cell_type": "code",
   "execution_count": 56,
   "metadata": {},
   "outputs": [
    {
     "output_type": "execute_result",
     "data": {
      "text/plain": "                 name          type            label  \\\n0     rrnG terminator    terminator  rrnG terminator   \n1                 myr           CDS              myr   \n2                 CuO  protein_bind              CuO   \n3             N15 ori    rep_origin          N15 ori   \n4     Rosa26 left arm  misc_feature  Rosa26 left arm   \n...               ...           ...              ...   \n1354             oriT          oriT              NaN   \n1355       Sec61-beta           CDS       Sec61-beta   \n1356              BFP           CDS              BFP   \n1357           CBRluc           CDS           CBRluc   \n1358              CBP           CDS              CBP   \n\n                                                   note  \\\n0     transcription terminator from the E. coli ribo...   \n1                                                   NaN   \n2     CymR-binding P1 operator sequence from the p-c...   \n3     bidirectional replication origin of coliphage N15   \n4     left homology arm from intron 1 of the mouse R...   \n...                                                 ...   \n1354                            incP origin of transfer   \n1355                                                NaN   \n1356                          mammalian codon-optimized   \n1357                              human codon-optimized   \n1358  derived from skeletal muscle myosin light chai...   \n\n                                                    seq codon_start  \\\n0     GCATTGGCGCAGAAAAAAATGCCTGATGCGACGCTGCGCGTCTTAT...         NaN   \n1            ATGGGGAGTAGCAAGAGCAAGCCTAAGGACCCCAGCCAGCGC           1   \n2                            AGAAACAAACCAACCTGTCTGTATTA         NaN   \n3     ACGCACGTAAGGTGGAAAAAACCACCATCGAAGTGGATCGCGATTT...         NaN   \n4     CAGTTAACGGCAGCCGGAGTGCGCAGCCGCCGGCAGCCTCGCTCTG...         NaN   \n...                                                 ...         ...   \n1354  GGGCAGGATAGGTGAAGTAGGCCCACCCGCGAGCGGGTGTTCCTTC...         NaN   \n1355  ATGCCTGGTCCGACCCCCAGTGGCACTAACGTGGGATCCTCAGGGC...           1   \n1356  ATGGTGAGCAAGGGCGAGGAGCTGTTCACCGGGGTGGTGCCCATCC...           1   \n1357  ATGGTAAAGCGTGAGAAAAATGTCATCTATGGCCCTGAGCCTCTCC...           1   \n1358  AAGCGACGATGGAAAAAGAATTTCATAGCCGTCTCAGCAGCCAACC...           1   \n\n                                                product  \\\n0                                                   NaN   \n1     N-myristoylation signal from Src kinase (Pellm...   \n2                                                   NaN   \n3                                                   NaN   \n4                                                   NaN   \n...                                                 ...   \n1354                                                NaN   \n1355  human Sec61-beta subunit of the translocon in ...   \n1356                                blue variant of GFP   \n1357    red-emitting variant of click beetle luciferase   \n1358                         calmodulin-binding peptide   \n\n                                            translation bound_moiety    gene  \\\n0                                                   NaN          NaN     NaN   \n1                                        MGSSKSKPKDPSQR          NaN     NaN   \n2                                                   NaN         CymR     NaN   \n3                                                   NaN          NaN     NaN   \n4                                                   NaN          NaN     NaN   \n...                                                 ...          ...     ...   \n1354                                                NaN          NaN     NaN   \n1355  MPGPTPSGTNVGSSGRSPSKAVAARAAGSTVRQRKNASCGTRSAGR...          NaN  SEC61B   \n1356  MVSKGEELFTGVVPILVELDGDVNGHKFSVSGEGEGDATYGKLTLK...          NaN     NaN   \n1357  MVKREKNVIYGPEPLHPLEDLTAGEMLFRALRKHSHLPQALVDVVG...          NaN     NaN   \n1358                         KRRWKKNFIAVSAANRFKKISSSGAL          NaN     NaN   \n\n      ... mobile_element_type regulatory_class direction allele number  \\\n0     ...                 NaN              NaN       NaN    NaN    NaN   \n1     ...                 NaN              NaN       NaN    NaN    NaN   \n2     ...                 NaN              NaN       NaN    NaN    NaN   \n3     ...                 NaN              NaN       NaN    NaN    NaN   \n4     ...                 NaN              NaN       NaN    NaN    NaN   \n...   ...                 ...              ...       ...    ...    ...   \n1354  ...                 NaN              NaN       NaN    NaN    NaN   \n1355  ...                 NaN              NaN       NaN    NaN    NaN   \n1356  ...                 NaN              NaN       NaN    NaN    NaN   \n1357  ...                 NaN              NaN       NaN    NaN    NaN   \n1358  ...                 NaN              NaN       NaN    NaN    NaN   \n\n     gene_synonym db_xref protein_id ncRNA_class       canon_name  \n0             NaN     NaN        NaN         NaN  rrnG_terminator  \n1             NaN     NaN        NaN         NaN              myr  \n2             NaN     NaN        NaN         NaN              CuO  \n3             NaN     NaN        NaN         NaN          N15_ori  \n4             NaN     NaN        NaN         NaN  Rosa26_left_arm  \n...           ...     ...        ...         ...              ...  \n1354          NaN     NaN        NaN         NaN             oriT  \n1355          NaN     NaN        NaN         NaN       Sec61-beta  \n1356          NaN     NaN        NaN         NaN              BFP  \n1357          NaN     NaN        NaN         NaN           CBRluc  \n1358          NaN     NaN        NaN         NaN              CBP  \n\n[1359 rows x 21 columns]",
      "text/html": "<div>\n<style scoped>\n    .dataframe tbody tr th:only-of-type {\n        vertical-align: middle;\n    }\n\n    .dataframe tbody tr th {\n        vertical-align: top;\n    }\n\n    .dataframe thead th {\n        text-align: right;\n    }\n</style>\n<table border=\"1\" class=\"dataframe\">\n  <thead>\n    <tr style=\"text-align: right;\">\n      <th></th>\n      <th>name</th>\n      <th>type</th>\n      <th>label</th>\n      <th>note</th>\n      <th>seq</th>\n      <th>codon_start</th>\n      <th>product</th>\n      <th>translation</th>\n      <th>bound_moiety</th>\n      <th>gene</th>\n      <th>...</th>\n      <th>mobile_element_type</th>\n      <th>regulatory_class</th>\n      <th>direction</th>\n      <th>allele</th>\n      <th>number</th>\n      <th>gene_synonym</th>\n      <th>db_xref</th>\n      <th>protein_id</th>\n      <th>ncRNA_class</th>\n      <th>canon_name</th>\n    </tr>\n  </thead>\n  <tbody>\n    <tr>\n      <th>0</th>\n      <td>rrnG terminator</td>\n      <td>terminator</td>\n      <td>rrnG terminator</td>\n      <td>transcription terminator from the E. coli ribo...</td>\n      <td>GCATTGGCGCAGAAAAAAATGCCTGATGCGACGCTGCGCGTCTTAT...</td>\n      <td>NaN</td>\n      <td>NaN</td>\n      <td>NaN</td>\n      <td>NaN</td>\n      <td>NaN</td>\n      <td>...</td>\n      <td>NaN</td>\n      <td>NaN</td>\n      <td>NaN</td>\n      <td>NaN</td>\n      <td>NaN</td>\n      <td>NaN</td>\n      <td>NaN</td>\n      <td>NaN</td>\n      <td>NaN</td>\n      <td>rrnG_terminator</td>\n    </tr>\n    <tr>\n      <th>1</th>\n      <td>myr</td>\n      <td>CDS</td>\n      <td>myr</td>\n      <td>NaN</td>\n      <td>ATGGGGAGTAGCAAGAGCAAGCCTAAGGACCCCAGCCAGCGC</td>\n      <td>1</td>\n      <td>N-myristoylation signal from Src kinase (Pellm...</td>\n      <td>MGSSKSKPKDPSQR</td>\n      <td>NaN</td>\n      <td>NaN</td>\n      <td>...</td>\n      <td>NaN</td>\n      <td>NaN</td>\n      <td>NaN</td>\n      <td>NaN</td>\n      <td>NaN</td>\n      <td>NaN</td>\n      <td>NaN</td>\n      <td>NaN</td>\n      <td>NaN</td>\n      <td>myr</td>\n    </tr>\n    <tr>\n      <th>2</th>\n      <td>CuO</td>\n      <td>protein_bind</td>\n      <td>CuO</td>\n      <td>CymR-binding P1 operator sequence from the p-c...</td>\n      <td>AGAAACAAACCAACCTGTCTGTATTA</td>\n      <td>NaN</td>\n      <td>NaN</td>\n      <td>NaN</td>\n      <td>CymR</td>\n      <td>NaN</td>\n      <td>...</td>\n      <td>NaN</td>\n      <td>NaN</td>\n      <td>NaN</td>\n      <td>NaN</td>\n      <td>NaN</td>\n      <td>NaN</td>\n      <td>NaN</td>\n      <td>NaN</td>\n      <td>NaN</td>\n      <td>CuO</td>\n    </tr>\n    <tr>\n      <th>3</th>\n      <td>N15 ori</td>\n      <td>rep_origin</td>\n      <td>N15 ori</td>\n      <td>bidirectional replication origin of coliphage N15</td>\n      <td>ACGCACGTAAGGTGGAAAAAACCACCATCGAAGTGGATCGCGATTT...</td>\n      <td>NaN</td>\n      <td>NaN</td>\n      <td>NaN</td>\n      <td>NaN</td>\n      <td>NaN</td>\n      <td>...</td>\n      <td>NaN</td>\n      <td>NaN</td>\n      <td>NaN</td>\n      <td>NaN</td>\n      <td>NaN</td>\n      <td>NaN</td>\n      <td>NaN</td>\n      <td>NaN</td>\n      <td>NaN</td>\n      <td>N15_ori</td>\n    </tr>\n    <tr>\n      <th>4</th>\n      <td>Rosa26 left arm</td>\n      <td>misc_feature</td>\n      <td>Rosa26 left arm</td>\n      <td>left homology arm from intron 1 of the mouse R...</td>\n      <td>CAGTTAACGGCAGCCGGAGTGCGCAGCCGCCGGCAGCCTCGCTCTG...</td>\n      <td>NaN</td>\n      <td>NaN</td>\n      <td>NaN</td>\n      <td>NaN</td>\n      <td>NaN</td>\n      <td>...</td>\n      <td>NaN</td>\n      <td>NaN</td>\n      <td>NaN</td>\n      <td>NaN</td>\n      <td>NaN</td>\n      <td>NaN</td>\n      <td>NaN</td>\n      <td>NaN</td>\n      <td>NaN</td>\n      <td>Rosa26_left_arm</td>\n    </tr>\n    <tr>\n      <th>...</th>\n      <td>...</td>\n      <td>...</td>\n      <td>...</td>\n      <td>...</td>\n      <td>...</td>\n      <td>...</td>\n      <td>...</td>\n      <td>...</td>\n      <td>...</td>\n      <td>...</td>\n      <td>...</td>\n      <td>...</td>\n      <td>...</td>\n      <td>...</td>\n      <td>...</td>\n      <td>...</td>\n      <td>...</td>\n      <td>...</td>\n      <td>...</td>\n      <td>...</td>\n      <td>...</td>\n    </tr>\n    <tr>\n      <th>1354</th>\n      <td>oriT</td>\n      <td>oriT</td>\n      <td>NaN</td>\n      <td>incP origin of transfer</td>\n      <td>GGGCAGGATAGGTGAAGTAGGCCCACCCGCGAGCGGGTGTTCCTTC...</td>\n      <td>NaN</td>\n      <td>NaN</td>\n      <td>NaN</td>\n      <td>NaN</td>\n      <td>NaN</td>\n      <td>...</td>\n      <td>NaN</td>\n      <td>NaN</td>\n      <td>NaN</td>\n      <td>NaN</td>\n      <td>NaN</td>\n      <td>NaN</td>\n      <td>NaN</td>\n      <td>NaN</td>\n      <td>NaN</td>\n      <td>oriT</td>\n    </tr>\n    <tr>\n      <th>1355</th>\n      <td>Sec61-beta</td>\n      <td>CDS</td>\n      <td>Sec61-beta</td>\n      <td>NaN</td>\n      <td>ATGCCTGGTCCGACCCCCAGTGGCACTAACGTGGGATCCTCAGGGC...</td>\n      <td>1</td>\n      <td>human Sec61-beta subunit of the translocon in ...</td>\n      <td>MPGPTPSGTNVGSSGRSPSKAVAARAAGSTVRQRKNASCGTRSAGR...</td>\n      <td>NaN</td>\n      <td>SEC61B</td>\n      <td>...</td>\n      <td>NaN</td>\n      <td>NaN</td>\n      <td>NaN</td>\n      <td>NaN</td>\n      <td>NaN</td>\n      <td>NaN</td>\n      <td>NaN</td>\n      <td>NaN</td>\n      <td>NaN</td>\n      <td>Sec61-beta</td>\n    </tr>\n    <tr>\n      <th>1356</th>\n      <td>BFP</td>\n      <td>CDS</td>\n      <td>BFP</td>\n      <td>mammalian codon-optimized</td>\n      <td>ATGGTGAGCAAGGGCGAGGAGCTGTTCACCGGGGTGGTGCCCATCC...</td>\n      <td>1</td>\n      <td>blue variant of GFP</td>\n      <td>MVSKGEELFTGVVPILVELDGDVNGHKFSVSGEGEGDATYGKLTLK...</td>\n      <td>NaN</td>\n      <td>NaN</td>\n      <td>...</td>\n      <td>NaN</td>\n      <td>NaN</td>\n      <td>NaN</td>\n      <td>NaN</td>\n      <td>NaN</td>\n      <td>NaN</td>\n      <td>NaN</td>\n      <td>NaN</td>\n      <td>NaN</td>\n      <td>BFP</td>\n    </tr>\n    <tr>\n      <th>1357</th>\n      <td>CBRluc</td>\n      <td>CDS</td>\n      <td>CBRluc</td>\n      <td>human codon-optimized</td>\n      <td>ATGGTAAAGCGTGAGAAAAATGTCATCTATGGCCCTGAGCCTCTCC...</td>\n      <td>1</td>\n      <td>red-emitting variant of click beetle luciferase</td>\n      <td>MVKREKNVIYGPEPLHPLEDLTAGEMLFRALRKHSHLPQALVDVVG...</td>\n      <td>NaN</td>\n      <td>NaN</td>\n      <td>...</td>\n      <td>NaN</td>\n      <td>NaN</td>\n      <td>NaN</td>\n      <td>NaN</td>\n      <td>NaN</td>\n      <td>NaN</td>\n      <td>NaN</td>\n      <td>NaN</td>\n      <td>NaN</td>\n      <td>CBRluc</td>\n    </tr>\n    <tr>\n      <th>1358</th>\n      <td>CBP</td>\n      <td>CDS</td>\n      <td>CBP</td>\n      <td>derived from skeletal muscle myosin light chai...</td>\n      <td>AAGCGACGATGGAAAAAGAATTTCATAGCCGTCTCAGCAGCCAACC...</td>\n      <td>1</td>\n      <td>calmodulin-binding peptide</td>\n      <td>KRRWKKNFIAVSAANRFKKISSSGAL</td>\n      <td>NaN</td>\n      <td>NaN</td>\n      <td>...</td>\n      <td>NaN</td>\n      <td>NaN</td>\n      <td>NaN</td>\n      <td>NaN</td>\n      <td>NaN</td>\n      <td>NaN</td>\n      <td>NaN</td>\n      <td>NaN</td>\n      <td>NaN</td>\n      <td>CBP</td>\n    </tr>\n  </tbody>\n</table>\n<p>1359 rows × 21 columns</p>\n</div>"
     },
     "metadata": {},
     "execution_count": 56
    }
   ],
   "source": [
    "featureTable=[]\n",
    "import glob\n",
    "for infile_loc in glob.glob('../data/addgene_features_20-9-3/*.gb'):\n",
    "    with open(infile_loc,'r') as file_handle:\n",
    "        record_dict = SeqIO.to_dict(SeqIO.parse(file_handle, 'gb'))\n",
    "    gbk=record_dict[list(record_dict.keys())[0]]\n",
    "    \n",
    "    name=infile_loc.split(\"/\")[-1].split(\".gb\")[0]\n",
    "    curr={\"name\":name,\"type\":gbk.features[1].type}\n",
    "    keys=list(gbk.features[1].qualifiers.keys())\n",
    "    for key in keys:\n",
    "        curr[key]=gbk.features[1].qualifiers[key][0]\n",
    "    curr['seq']=str(gbk.seq)\n",
    "    \n",
    "    featureTable.append(curr)\n",
    "\n",
    "featureTable=pd.DataFrame(featureTable)\n",
    "featureTable['canon_name']=featureTable['name'].str.replace(\" \",\"_\").str.replace(\",\",\"_\")\n",
    "featureTable"
   ]
  },
  {
   "cell_type": "code",
   "execution_count": 57,
   "metadata": {
    "deletable": false,
    "editable": false,
    "run_control": {
     "frozen": true
    }
   },
   "outputs": [],
   "source": [
    "featureTable.to_csv(\"../data/snapgene_features_20-9-3.csv\",sep=\"\\t\",index=None)"
   ]
  },
  {
   "cell_type": "code",
   "execution_count": 58,
   "metadata": {},
   "outputs": [],
   "source": [
    "featureTable=pd.read_csv(\"../data/snapgene_features_20-9-3.csv\",sep=\"\\t\")"
   ]
  },
  {
   "cell_type": "code",
   "execution_count": 59,
   "metadata": {},
   "outputs": [],
   "source": [
    "\n",
    "from Bio.Seq import Seq\n",
    "from Bio import SeqIO\n",
    "from Bio.SeqRecord import SeqRecord\n",
    "seqs=[]\n",
    "for index in featureTable[featureTable['type']=='CDS'].index:\n",
    "        seq=featureTable.loc[index]['seq']\n",
    "        name=featureTable.loc[index]['canon_name']\n",
    "        seqs.append(SeqRecord(Seq(seq),id=name,description=\"\"))\n",
    "SeqIO.write(seqs,'../data/addgene_CDS_20-9-3.fasta', 'fasta')\n",
    "\n",
    "import subprocess\n",
    "from tempfile import NamedTemporaryFile\n",
    "def bash(inCommand, autoOutfile = True):\n",
    "    if autoOutfile == True:\n",
    "        tmp = NamedTemporaryFile()\n",
    "        subprocess.call(inCommand +' > '+tmp.name, shell=True)\n",
    "        f = open(tmp.name,'r')\n",
    "        tmp.close()\n",
    "        return(f.read())\n",
    "    else:\n",
    "        subprocess.call(inCommand, shell=True)  \n",
    "#bash('makeblastdb -blastdb_version 5 -in ../data/addgene_CDS_20-9-3.fasta -out ../BLAST_dbs/addgene_CDS_20-9-3 -dbtype prot -parse_seqids')"
   ]
  },
  {
   "cell_type": "code",
   "execution_count": null,
   "metadata": {},
   "outputs": [],
   "source": []
  },
  {
   "cell_type": "markdown",
   "metadata": {},
   "source": [
    "### Potentially problematic\n",
    "if using blastx, different nuc seqs will all hit"
   ]
  },
  {
   "cell_type": "code",
   "execution_count": 327,
   "metadata": {},
   "outputs": [
    {
     "name": "stdout",
     "output_type": "stream",
     "text": [
      "Cas9 endonuclease from the Streptococcus pyogenes Type II CRISPR/Cas system\n",
      "\n",
      "Cas9 (Csn1) endonuclease from the Streptococcus pyogenes Type II CRISPR/Cas system\n",
      "\n",
      "S. pyogenes Cas9, codon optimized for C. elegans with a synthetic intron\n",
      "\n",
      "Cas9 (Csn1) endonuclease from the Streptococcus pyogenes Type II CRISPR/Cas system\n",
      "\n",
      "S. pyogenes Cas9, codon optimized for C. elegans with synthetic introns\n",
      "\n",
      "S. pyogenes Cas9, codon optimized for C. elegans with synthetic introns\n",
      "\n"
     ]
    }
   ],
   "source": [
    "for ele in featureTable[featureTable['translation']=='MDKKYSIGLDIGTNSVGWAVITDEYKVPSKKFKVLGNTDRHSIKKNLIGALLFDSGETAEATRLKRTARRRYTRRKNRICYLQEIFSNEMAKVDDSFFHRLEESFLVEEDKKHERHPIFGNIVDEVAYHEKYPTIYHLRKKLVDSTDKADLRLIYLALAHMIKFRGHFLIEGDLNPDNSDVDKLFIQLVQTYNQLFEENPINASGVDAKAILSARLSKSRRLENLIAQLPGEKKNGLFGNLIALSLGLTPNFKSNFDLAEDAKLQLSKDTYDDDLDNLLAQIGDQYADLFLAAKNLSDAILLSDILRVNTEITKAPLSASMIKRYDEHHQDLTLLKALVRQQLPEKYKEIFFDQSKNGYAGYIDGGASQEEFYKFIKPILEKMDGTEELLVKLNREDLLRKQRTFDNGSIPHQIHLGELHAILRRQEDFYPFLKDNREKIEKILTFRIPYYVGPLARGNSRFAWMTRKSEETITPWNFEEVVDKGASAQSFIERMTNFDKNLPNEKVLPKHSLLYEYFTVYNELTKVKYVTEGMRKPAFLSGEQKKAIVDLLFKTNRKVTVKQLKEDYFKKIECFDSVEISGVEDRFNASLGTYHDLLKIIKDKDFLDNEENEDILEDIVLTLTLFEDREMIEERLKTYAHLFDDKVMKQLKRRRYTGWGRLSRKLINGIRDKQSGKTILDFLKSDGFANRNFMQLIHDDSLTFKEDIQKAQVSGQGDSLHEHIANLAGSPAIKKGILQTVKVVDELVKVMGRHKPENIVIEMARENQTTQKGQKNSRERMKRIEEGIKELGSQILKEHPVENTQLQNEKLYLYYLQNGRDMYVDQELDINRLSDYDVDHIVPQSFLKDDSIDNKVLTRSDKNRGKSDNVPSEEVVKKMKNYWRQLLNAKLITQRKFDNLTKAERGGLSELDKAGFIKRQLVETRQITKHVAQILDSRMNTKYDENDKLIREVKVITLKSKLVSDFRKDFQFYKVREINNYHHAHDAYLNAVVGTALIKKYPKLESEFVYGDYKVYDVRKMIAKSEQEIGKATAKYFFYSNIMNFFKTEITLANGEIRKRPLIETNGETGEIVWDKGRDFATVRKVLSMPQVNIVKKTEVQTGGFSKESILPKRNSDKLIARKKDWDPKKYGGFDSPTVAYSVLVVAKVEKGKSKKLKSVKELLGITIMERSSFEKNPIDFLEAKGYKEVKKDLIIKLPKYSLFELENGRKRMLASAGELQKGNELALPSKYVNFLYLASHYEKLKGSPEDNEQKQLFVEQHKHYLDEIIEQISEFSKRVILADANLDKVLSAYNKHRDKPIREQAENIIHLFTLTNLGAPAAFKYFDTTIDRKRYTSTKEVLDATLIHQSITGLYETRIDLSQLGGD']['product']:\n",
    "    print(ele,end=\"\\n\\n\")"
   ]
  },
  {
   "cell_type": "code",
   "execution_count": null,
   "metadata": {},
   "outputs": [],
   "source": [
    "pd.DataFrame()"
   ]
  },
  {
   "cell_type": "markdown",
   "metadata": {},
   "source": [
    "# Merging BLAST dbs"
   ]
  },
  {
   "cell_type": "code",
   "execution_count": null,
   "metadata": {},
   "outputs": [],
   "source": [
    "blastdb_aliastool -dblist \"swissprot addgene_CDS_20-9-3 fpbase_20-9-2\" -dbtype prot -title \"swissprot + addgene CDSs + fpbase\" -out ./merged_CDS"
   ]
  }
 ],
 "metadata": {
  "kernelspec": {
   "display_name": "Python 3",
   "language": "python",
   "name": "python3"
  },
  "language_info": {
   "codemirror_mode": {
    "name": "ipython",
    "version": 3
   },
   "file_extension": ".py",
   "mimetype": "text/x-python",
   "name": "python",
   "nbconvert_exporter": "python",
   "pygments_lexer": "ipython3",
   "version": "3.7.4-final"
  },
  "toc": {
   "base_numbering": 1,
   "nav_menu": {},
   "number_sections": true,
   "sideBar": true,
   "skip_h1_title": false,
   "title_cell": "Table of Contents",
   "title_sidebar": "Contents",
   "toc_cell": false,
   "toc_position": {},
   "toc_section_display": true,
   "toc_window_display": false
  }
 },
 "nbformat": 4,
 "nbformat_minor": 2
}