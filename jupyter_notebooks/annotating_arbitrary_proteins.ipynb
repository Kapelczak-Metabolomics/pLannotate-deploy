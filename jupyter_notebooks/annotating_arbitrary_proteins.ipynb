{
 "cells": [
  {
   "cell_type": "code",
   "execution_count": 22,
   "metadata": {},
   "outputs": [
    {
     "output_type": "execute_result",
     "data": {
      "text/plain": "            #Feature     Type   \\\n249  2micron2_origin   Origin    \n250   2micron_origin   Origin    \n251       EBV_origin   Origin    \n252        f1_origin   Origin    \n253         oriT_RP4   Origin    \n254      p15A_origin   Origin    \n255    pBR322_origin   Origin    \n256      R6Kg_origin   Origin    \n257      SV40_origin   Origin    \n\n                                              Sequence   len  \n249  ACGCATTTAAGCATAAACACGCACTATGCCGTTCTTCTCATGTATA...  1165  \n250  TTATCGATGATAAGCTGTCAAAGATGAGAATTAATTCCACGGACTA...  1472  \n251  CATTAAACGGCATGCAGGAAAAGGACAAGCAGCGAAAATTCACGCC...  2183  \n252  GCATTAAGCGCGGCGGGTGTGGTGGTTACGCGCAGCGTGACCGCTA...   307  \n253  gaataagggacagtgaagaaggaacacccgctcgcgggtgggccta...    99  \n254  GCGCTAGCGGAGTGTATACTGGCTTACTATGTTGGCACTGATGAGG...   913  \n255  AGATCAAAGGATCTTCTTGAGATCCTTTTTTTCTGCGCGTAATCTG...   620  \n256  CCATGTCAGCCGTTAAGTGTTCCTGTGTCACTCAAAATTGCTTTGA...   392  \n257  ATCCCGCCCCTAACTCCGCCCAGTTCCGCCCATTCTCCGCCCCATG...    78  ",
      "text/html": "<div>\n<style scoped>\n    .dataframe tbody tr th:only-of-type {\n        vertical-align: middle;\n    }\n\n    .dataframe tbody tr th {\n        vertical-align: top;\n    }\n\n    .dataframe thead th {\n        text-align: right;\n    }\n</style>\n<table border=\"1\" class=\"dataframe\">\n  <thead>\n    <tr style=\"text-align: right;\">\n      <th></th>\n      <th>#Feature</th>\n      <th>Type</th>\n      <th>Sequence</th>\n      <th>len</th>\n    </tr>\n  </thead>\n  <tbody>\n    <tr>\n      <th>249</th>\n      <td>2micron2_origin</td>\n      <td>Origin</td>\n      <td>ACGCATTTAAGCATAAACACGCACTATGCCGTTCTTCTCATGTATA...</td>\n      <td>1165</td>\n    </tr>\n    <tr>\n      <th>250</th>\n      <td>2micron_origin</td>\n      <td>Origin</td>\n      <td>TTATCGATGATAAGCTGTCAAAGATGAGAATTAATTCCACGGACTA...</td>\n      <td>1472</td>\n    </tr>\n    <tr>\n      <th>251</th>\n      <td>EBV_origin</td>\n      <td>Origin</td>\n      <td>CATTAAACGGCATGCAGGAAAAGGACAAGCAGCGAAAATTCACGCC...</td>\n      <td>2183</td>\n    </tr>\n    <tr>\n      <th>252</th>\n      <td>f1_origin</td>\n      <td>Origin</td>\n      <td>GCATTAAGCGCGGCGGGTGTGGTGGTTACGCGCAGCGTGACCGCTA...</td>\n      <td>307</td>\n    </tr>\n    <tr>\n      <th>253</th>\n      <td>oriT_RP4</td>\n      <td>Origin</td>\n      <td>gaataagggacagtgaagaaggaacacccgctcgcgggtgggccta...</td>\n      <td>99</td>\n    </tr>\n    <tr>\n      <th>254</th>\n      <td>p15A_origin</td>\n      <td>Origin</td>\n      <td>GCGCTAGCGGAGTGTATACTGGCTTACTATGTTGGCACTGATGAGG...</td>\n      <td>913</td>\n    </tr>\n    <tr>\n      <th>255</th>\n      <td>pBR322_origin</td>\n      <td>Origin</td>\n      <td>AGATCAAAGGATCTTCTTGAGATCCTTTTTTTCTGCGCGTAATCTG...</td>\n      <td>620</td>\n    </tr>\n    <tr>\n      <th>256</th>\n      <td>R6Kg_origin</td>\n      <td>Origin</td>\n      <td>CCATGTCAGCCGTTAAGTGTTCCTGTGTCACTCAAAATTGCTTTGA...</td>\n      <td>392</td>\n    </tr>\n    <tr>\n      <th>257</th>\n      <td>SV40_origin</td>\n      <td>Origin</td>\n      <td>ATCCCGCCCCTAACTCCGCCCAGTTCCGCCCATTCTCCGCCCCATG...</td>\n      <td>78</td>\n    </tr>\n  </tbody>\n</table>\n</div>"
     },
     "metadata": {},
     "execution_count": 22
    }
   ],
   "source": [
    "import pandas as pd\n",
    "from collections import Counter\n",
    "\n",
    "ugene=pd.read_csv(\"/Applications/Unipro UGENE.app/Contents/MacOS/data/custom_annotations/plasmid_features.txt\",sep=\"\\t\",header=1)\n",
    "ugene['len']=ugene['Sequence'].apply(len)\n",
    "ugene[ugene['Type ']=='Origin ']"
   ]
  },
  {
   "cell_type": "code",
   "execution_count": 21,
   "metadata": {},
   "outputs": [],
   "source": []
  },
  {
   "cell_type": "code",
   "execution_count": null,
   "metadata": {},
   "outputs": [],
   "source": []
  },
  {
   "cell_type": "code",
   "execution_count": null,
   "metadata": {},
   "outputs": [],
   "source": []
  },
  {
   "cell_type": "code",
   "execution_count": 5,
   "metadata": {
    "code_folding": [
     7
    ]
   },
   "outputs": [],
   "source": [
    "import subprocess\n",
    "from tempfile import NamedTemporaryFile\n",
    "from Bio.Seq import Seq\n",
    "from Bio import SeqIO\n",
    "from Bio.SeqRecord import SeqRecord\n",
    "import pandas as pd\n",
    "\n",
    "def bash(inCommand, autoOutfile = True):\n",
    "    if autoOutfile == True:\n",
    "        tmp = NamedTemporaryFile()\n",
    "        subprocess.call(inCommand +' > '+tmp.name, shell=True)\n",
    "        f = open(tmp.name,'r')\n",
    "        tmp.close()\n",
    "        return(f.read())\n",
    "    else:\n",
    "        subprocess.call(inCommand, shell=True)  \n",
    "def BLAST(seq, BLASTtype=\"x\", flags = 'bitscore sseqid pident qstart qend sseq qseq sstart send length slen qlen'): \n",
    "    query = NamedTemporaryFile()\n",
    "    SeqIO.write(SeqRecord(Seq(seq), id=\"temp\"), query.name, \"fasta\")\n",
    "    tmp = NamedTemporaryFile()\n",
    "    bash(\n",
    "        'blast'+BLASTtype+' -query ' + query.name + ' -out ' + tmp.name +\n",
    "        ' -db ../BLAST_dbs/addgene_CDS_20-9-3' +\n",
    "        #' -db /Users/mattmcguffie/database/BLAST_dbs/fluors_20-9-2' +\n",
    "        ' -culling_limit 10 ' +\n",
    "        ' -max_target_seqs 1000 -outfmt \"6 '+flags+'\"')\n",
    "    with open(tmp.name, \"r\") as file_handle:  #opens BLAST file\n",
    "        align = file_handle.readlines()\n",
    "        \n",
    "    tmp.close() \n",
    "    query.close() \n",
    "    align=pd.DataFrame([ele.split() for ele in align],columns=flags.split())\n",
    "    \n",
    "    if not align.empty:\n",
    "        #align['sseqid']=align['sseqid'].str.split(\"|\",expand=True)[1]\n",
    "        align['pident']=align['pident'].astype(float)\n",
    "        align['slen']=align['slen'].astype(int)\n",
    "        align['length']=align['length'].astype(int)\n",
    "        align['qlen']=align['qlen'].astype(int)\n",
    "        align['pmatch']=align['length']/((align['qlen']/3)-1)#because nuc->prot\n",
    "        align['abspmatch']=1-abs(1-align['pmatch']) #because nuc->prot\n",
    "        align['fractionmatch']=align['length']/align['slen']\n",
    "        align['bitscore']=align['bitscore'].astype(float)\n",
    "        align['score']=align['pident']*align['length']*align['fractionmatch']\n",
    "        align=align.sort_values(by=['score'],ascending=False)\n",
    "    return align "
   ]
  },
  {
   "cell_type": "code",
   "execution_count": null,
   "metadata": {},
   "outputs": [],
   "source": []
  },
  {
   "cell_type": "code",
   "execution_count": 17,
   "metadata": {},
   "outputs": [],
   "source": [
    "csga=\"\"\"atgAAACTTT TAAAAGTAGC AGCAATTGCA GCAATCGTAT TCTCCGGTAG CGCTCTGGCA\n",
    "GGTGTTGTTC CTCAGTACGG CGGCGGCGGT AACCACGGTG GTGGCGGTAA TAATAGCGGC\n",
    "CCAAATTCTG AGCTGAACAT TTACCAGTAC GGTGGCGGTA ACTCTGCACT TGCTCTGCAA\n",
    "ACTGATGCCC GTAACTCTGA CTTGACTATT ACCCAGCATG GCGGCGGTAA TGGTGCAGAT\n",
    "GTTGGTCAGG GCTCAGATGA CAGCTCAATC GATCTGACCC AACGTGGCTT CGGTAACAGC\n",
    "GCTACTCTTG ATCAGTGGAA CGGCAAAAAT TCTGAAATGA CGGTTAAACA GTTCGGTGGT\n",
    "GGCAACGGTG CTGCAGTTGA CCAGACTGCA TCTAACTCCT CCGTCAACGT GACTCAGGTT\n",
    "GGCTTTGGTA ACAACGCGAC CGCTCATCAG TACtaa\"\"\".lower().replace(\" \",\"\").replace(\"\\n\",\"\")"
   ]
  },
  {
   "cell_type": "code",
   "execution_count": 18,
   "metadata": {
    "tags": []
   },
   "outputs": [
    {
     "output_type": "stream",
     "name": "stdout",
     "text": "CPU times: user 2 µs, sys: 0 ns, total: 2 µs\nWall time: 4.77 µs\nblastx -query /var/folders/dg/9wkj6tb16wb1x25dm2pmn2zh0000gp/T/tmp_ro2u6pi -out /var/folders/dg/9wkj6tb16wb1x25dm2pmn2zh0000gp/T/tmp_eaun41y -db ../BLAST_dbs/addgene_CDS_20-9-3 -culling_limit 10  -max_target_seqs 1000 -outfmt \"6 bitscore sseqid pident qstart qend sseq qseq sstart send length slen qlen\"\n"
    }
   ],
   "source": [
    "%time\n",
    "hits=BLAST(csga)\n",
    "hits"
   ]
  },
  {
   "cell_type": "code",
   "execution_count": null,
   "metadata": {},
   "outputs": [],
   "source": [
    "blastx -query /Users/mattmcguffie/database/plasmids/plas_from_people/pbtk562.fasta -out ./test.blast -db ../BLAST_dbs/addgene_CDS_20-9-3 -culling_limit 10  -max_target_seqs 1000 -outfmt \"6 bitscore sseqid pident qstart qend sseq qseq sstart send length slen qlen\""
   ]
  },
  {
   "cell_type": "code",
   "execution_count": null,
   "metadata": {},
   "outputs": [],
   "source": []
  },
  {
   "cell_type": "code",
   "execution_count": null,
   "metadata": {},
   "outputs": [],
   "source": []
  },
  {
   "cell_type": "code",
   "execution_count": 7,
   "metadata": {},
   "outputs": [],
   "source": [
    "mTm=list(SeqIO.parse(\"/Users/mattmcguffie/database/plasmids/erm_gfp.fa\", \"fasta\"))[0]\n",
    "mTm=str(mTm.seq)"
   ]
  },
  {
   "cell_type": "code",
   "execution_count": 9,
   "metadata": {
    "tags": []
   },
   "outputs": [
    {
     "output_type": "stream",
     "name": "stdout",
     "text": "CPU times: user 2 µs, sys: 0 ns, total: 2 µs\nWall time: 5.25 µs\n"
    },
    {
     "output_type": "execute_result",
     "data": {
      "text/plain": "    bitscore        sseqid   pident qstart  qend  \\\n0      959.0  sp|P14752.1|   97.782   3829  5316   \n1      957.0  sp|P18629.1|   97.379   3829  5316   \n2      498.0  sp|P0A4D5.1|  100.000   1509  2243   \n3      494.0  sp|P21236.1|   99.184   1509  2243   \n4      494.0  sp|P20173.2|   99.184   1509  2243   \n..       ...           ...      ...    ...   ...   \n84      57.4  sp|Q6GEH9.1|   41.975   1008  1244   \n83      58.2  sp|Q4L8B8.1|   40.741   8902  8666   \n82      58.2  sp|Q4L8B8.1|   40.741   1008  1244   \n37     133.0  sp|P08956.3|  100.000      3   188   \n97      38.5  sp|P33919.2|   40.678      6   170   \n\n                                                 sseq  \\\n0   MNIPFVVETVLHDGLLKYKFKNSKIRSITTKPGKSKGAIFAYRSKK...   \n1   MNIPFVVETVLHDGLLKYKFKNSKIRSITTKPGKSKGAIFAYRSKK...   \n2   MNKNIKYSQNFLTSEKVLNQIIKQLNLKETDTVYEIGTGKGHLTTK...   \n3   MNKNIKYSQNFLTSEKVLNQIIKQLNLKETDTVYEIGTGKGHLTTK...   \n4   MNKNIKYSQNFLTSEKVLNQIIKQLNLKETDTVYEIGTGKGHLTTK...   \n..                                                ...   \n84  KQFKTVKALILDNKVKDIIIATDAGREGELVARLILDKV---GNKK...   \n83  KQFKTVKSLILDKKVKEVIIATDAGREGELVARLILDKVH---NKK...   \n82  KQFKTVKSLILDKKVKEVIIATDAGREGELVARLILDKVH---NKK...   \n37  DLLTTGVDIPSICNIVFLRKVRSRILYEQMKGRATRLCPEVNKTSF...   \n97  VLTTGFDAPHVDLIAILRPTESVSLYQQIVGRGLRLAP--GKTDCL...   \n\n                                                 qseq sstart send  length  \\\n0   MNIPFVVETVLHDGLLKYKFKNSKIRSITTKPGKSKGAIFAYRSKS...      1  496     496   \n1   MNIPFVVETVLHDGLLKYKFKNSKIRSITTKPGKSKGAIFAYRSKS...      1  496     496   \n2   MNKNIKYSQNFLTSEKVLNQIIKQLNLKETDTVYEIGTGKGHLTTK...      1  245     245   \n3   MNKNIKYSQNFLTSEKVLNQIIKQLNLKETDTVYEIGTGKGHLTTK...      1  245     245   \n4   MNKNIKYSQNFLTSEKVLNQIIKQLNLKETDTVYEIGTGKGHLTTK...      1  245     245   \n..                                                ...    ...  ...     ...   \n84  KQFKIVAELL--KQANTIIVATDSDREGENIAWSIIHKANAFSKDK...     82  159      81   \n83  KQFKIVAELL--KQANTIIVATDSDREGENIAWSIIHKANAFSKDK...     82  159      81   \n82  KQFKIVAELL--KQANTIIVATDSDREGENIAWSIIHKANAFSKDK...     82  159      81   \n37  DLLTTGVDIPSICNIVFLRKVRSRILYEQMKGRATRLCPEVNKTSF...    794  855      62   \n97  LLTTGVDIPSICNIVFLRKVRSRILYEQMKGRATRLCPEVNKTSFK...    309  365      59   \n\n    slen  qlen    pmatch  abspmatch  fractionmatch         score  \n0    496  8961  0.166109   0.166109       1.000000  48499.872000  \n1    496  8961  0.166109   0.166109       1.000000  48299.984000  \n2    245  8961  0.082050   0.082050       1.000000  24500.000000  \n3    245  8961  0.082050   0.082050       1.000000  24300.080000  \n4    245  8961  0.082050   0.082050       1.000000  24300.080000  \n..   ...   ...       ...        ...            ...           ...  \n84   711  8961  0.027127   0.027127       0.113924    387.338924  \n83   711  8961  0.027127   0.027127       0.113924    375.951759  \n82   711  8961  0.027127   0.027127       0.113924    375.951759  \n37  1170  8961  0.020764   0.020764       0.052991    328.547009  \n97   586  8961  0.019759   0.019759       0.100683    241.638427  \n\n[100 rows x 16 columns]",
      "text/html": "<div>\n<style scoped>\n    .dataframe tbody tr th:only-of-type {\n        vertical-align: middle;\n    }\n\n    .dataframe tbody tr th {\n        vertical-align: top;\n    }\n\n    .dataframe thead th {\n        text-align: right;\n    }\n</style>\n<table border=\"1\" class=\"dataframe\">\n  <thead>\n    <tr style=\"text-align: right;\">\n      <th></th>\n      <th>bitscore</th>\n      <th>sseqid</th>\n      <th>pident</th>\n      <th>qstart</th>\n      <th>qend</th>\n      <th>sseq</th>\n      <th>qseq</th>\n      <th>sstart</th>\n      <th>send</th>\n      <th>length</th>\n      <th>slen</th>\n      <th>qlen</th>\n      <th>pmatch</th>\n      <th>abspmatch</th>\n      <th>fractionmatch</th>\n      <th>score</th>\n    </tr>\n  </thead>\n  <tbody>\n    <tr>\n      <th>0</th>\n      <td>959.0</td>\n      <td>sp|P14752.1|</td>\n      <td>97.782</td>\n      <td>3829</td>\n      <td>5316</td>\n      <td>MNIPFVVETVLHDGLLKYKFKNSKIRSITTKPGKSKGAIFAYRSKK...</td>\n      <td>MNIPFVVETVLHDGLLKYKFKNSKIRSITTKPGKSKGAIFAYRSKS...</td>\n      <td>1</td>\n      <td>496</td>\n      <td>496</td>\n      <td>496</td>\n      <td>8961</td>\n      <td>0.166109</td>\n      <td>0.166109</td>\n      <td>1.000000</td>\n      <td>48499.872000</td>\n    </tr>\n    <tr>\n      <th>1</th>\n      <td>957.0</td>\n      <td>sp|P18629.1|</td>\n      <td>97.379</td>\n      <td>3829</td>\n      <td>5316</td>\n      <td>MNIPFVVETVLHDGLLKYKFKNSKIRSITTKPGKSKGAIFAYRSKK...</td>\n      <td>MNIPFVVETVLHDGLLKYKFKNSKIRSITTKPGKSKGAIFAYRSKS...</td>\n      <td>1</td>\n      <td>496</td>\n      <td>496</td>\n      <td>496</td>\n      <td>8961</td>\n      <td>0.166109</td>\n      <td>0.166109</td>\n      <td>1.000000</td>\n      <td>48299.984000</td>\n    </tr>\n    <tr>\n      <th>2</th>\n      <td>498.0</td>\n      <td>sp|P0A4D5.1|</td>\n      <td>100.000</td>\n      <td>1509</td>\n      <td>2243</td>\n      <td>MNKNIKYSQNFLTSEKVLNQIIKQLNLKETDTVYEIGTGKGHLTTK...</td>\n      <td>MNKNIKYSQNFLTSEKVLNQIIKQLNLKETDTVYEIGTGKGHLTTK...</td>\n      <td>1</td>\n      <td>245</td>\n      <td>245</td>\n      <td>245</td>\n      <td>8961</td>\n      <td>0.082050</td>\n      <td>0.082050</td>\n      <td>1.000000</td>\n      <td>24500.000000</td>\n    </tr>\n    <tr>\n      <th>3</th>\n      <td>494.0</td>\n      <td>sp|P21236.1|</td>\n      <td>99.184</td>\n      <td>1509</td>\n      <td>2243</td>\n      <td>MNKNIKYSQNFLTSEKVLNQIIKQLNLKETDTVYEIGTGKGHLTTK...</td>\n      <td>MNKNIKYSQNFLTSEKVLNQIIKQLNLKETDTVYEIGTGKGHLTTK...</td>\n      <td>1</td>\n      <td>245</td>\n      <td>245</td>\n      <td>245</td>\n      <td>8961</td>\n      <td>0.082050</td>\n      <td>0.082050</td>\n      <td>1.000000</td>\n      <td>24300.080000</td>\n    </tr>\n    <tr>\n      <th>4</th>\n      <td>494.0</td>\n      <td>sp|P20173.2|</td>\n      <td>99.184</td>\n      <td>1509</td>\n      <td>2243</td>\n      <td>MNKNIKYSQNFLTSEKVLNQIIKQLNLKETDTVYEIGTGKGHLTTK...</td>\n      <td>MNKNIKYSQNFLTSEKVLNQIIKQLNLKETDTVYEIGTGKGHLTTK...</td>\n      <td>1</td>\n      <td>245</td>\n      <td>245</td>\n      <td>245</td>\n      <td>8961</td>\n      <td>0.082050</td>\n      <td>0.082050</td>\n      <td>1.000000</td>\n      <td>24300.080000</td>\n    </tr>\n    <tr>\n      <th>...</th>\n      <td>...</td>\n      <td>...</td>\n      <td>...</td>\n      <td>...</td>\n      <td>...</td>\n      <td>...</td>\n      <td>...</td>\n      <td>...</td>\n      <td>...</td>\n      <td>...</td>\n      <td>...</td>\n      <td>...</td>\n      <td>...</td>\n      <td>...</td>\n      <td>...</td>\n      <td>...</td>\n    </tr>\n    <tr>\n      <th>84</th>\n      <td>57.4</td>\n      <td>sp|Q6GEH9.1|</td>\n      <td>41.975</td>\n      <td>1008</td>\n      <td>1244</td>\n      <td>KQFKTVKALILDNKVKDIIIATDAGREGELVARLILDKV---GNKK...</td>\n      <td>KQFKIVAELL--KQANTIIVATDSDREGENIAWSIIHKANAFSKDK...</td>\n      <td>82</td>\n      <td>159</td>\n      <td>81</td>\n      <td>711</td>\n      <td>8961</td>\n      <td>0.027127</td>\n      <td>0.027127</td>\n      <td>0.113924</td>\n      <td>387.338924</td>\n    </tr>\n    <tr>\n      <th>83</th>\n      <td>58.2</td>\n      <td>sp|Q4L8B8.1|</td>\n      <td>40.741</td>\n      <td>8902</td>\n      <td>8666</td>\n      <td>KQFKTVKSLILDKKVKEVIIATDAGREGELVARLILDKVH---NKK...</td>\n      <td>KQFKIVAELL--KQANTIIVATDSDREGENIAWSIIHKANAFSKDK...</td>\n      <td>82</td>\n      <td>159</td>\n      <td>81</td>\n      <td>711</td>\n      <td>8961</td>\n      <td>0.027127</td>\n      <td>0.027127</td>\n      <td>0.113924</td>\n      <td>375.951759</td>\n    </tr>\n    <tr>\n      <th>82</th>\n      <td>58.2</td>\n      <td>sp|Q4L8B8.1|</td>\n      <td>40.741</td>\n      <td>1008</td>\n      <td>1244</td>\n      <td>KQFKTVKSLILDKKVKEVIIATDAGREGELVARLILDKVH---NKK...</td>\n      <td>KQFKIVAELL--KQANTIIVATDSDREGENIAWSIIHKANAFSKDK...</td>\n      <td>82</td>\n      <td>159</td>\n      <td>81</td>\n      <td>711</td>\n      <td>8961</td>\n      <td>0.027127</td>\n      <td>0.027127</td>\n      <td>0.113924</td>\n      <td>375.951759</td>\n    </tr>\n    <tr>\n      <th>37</th>\n      <td>133.0</td>\n      <td>sp|P08956.3|</td>\n      <td>100.000</td>\n      <td>3</td>\n      <td>188</td>\n      <td>DLLTTGVDIPSICNIVFLRKVRSRILYEQMKGRATRLCPEVNKTSF...</td>\n      <td>DLLTTGVDIPSICNIVFLRKVRSRILYEQMKGRATRLCPEVNKTSF...</td>\n      <td>794</td>\n      <td>855</td>\n      <td>62</td>\n      <td>1170</td>\n      <td>8961</td>\n      <td>0.020764</td>\n      <td>0.020764</td>\n      <td>0.052991</td>\n      <td>328.547009</td>\n    </tr>\n    <tr>\n      <th>97</th>\n      <td>38.5</td>\n      <td>sp|P33919.2|</td>\n      <td>40.678</td>\n      <td>6</td>\n      <td>170</td>\n      <td>VLTTGFDAPHVDLIAILRPTESVSLYQQIVGRGLRLAP--GKTDCL...</td>\n      <td>LLTTGVDIPSICNIVFLRKVRSRILYEQMKGRATRLCPEVNKTSFK...</td>\n      <td>309</td>\n      <td>365</td>\n      <td>59</td>\n      <td>586</td>\n      <td>8961</td>\n      <td>0.019759</td>\n      <td>0.019759</td>\n      <td>0.100683</td>\n      <td>241.638427</td>\n    </tr>\n  </tbody>\n</table>\n<p>100 rows × 16 columns</p>\n</div>"
     },
     "metadata": {},
     "execution_count": 9
    }
   ],
   "source": [
    "%time\n",
    "BLAST(mTm)"
   ]
  },
  {
   "cell_type": "code",
   "execution_count": null,
   "metadata": {},
   "outputs": [],
   "source": []
  },
  {
   "cell_type": "code",
   "execution_count": null,
   "metadata": {},
   "outputs": [],
   "source": []
  },
  {
   "cell_type": "markdown",
   "metadata": {},
   "source": [
    "diamond blastx -d nr -q reads.fna -o matches.m8"
   ]
  },
  {
   "cell_type": "code",
   "execution_count": 65,
   "metadata": {
    "code_folding": [
     7
    ]
   },
   "outputs": [],
   "source": [
    "import subprocess\n",
    "from tempfile import NamedTemporaryFile\n",
    "from Bio.Seq import Seq\n",
    "from Bio import SeqIO\n",
    "from Bio.SeqRecord import SeqRecord\n",
    "import pandas as pd\n",
    "\n",
    "def bash(inCommand, autoOutfile = True):\n",
    "    if autoOutfile == True:\n",
    "        tmp = NamedTemporaryFile()\n",
    "        subprocess.call(inCommand +' > '+tmp.name, shell=True)\n",
    "        f = open(tmp.name,'r')\n",
    "        tmp.close()\n",
    "        return(f.read())\n",
    "    else:\n",
    "        subprocess.call(inCommand, shell=True)  \n",
    "def dBLAST(seq, db='nr_db', flags = 'bitscore sseqid pident qstart qend sseq sstart send length slen qlen'): \n",
    "    query = NamedTemporaryFile()\n",
    "    SeqIO.write(SeqRecord(Seq(seq), id=\"temp\"), query.name, \"fasta\")\n",
    "    tmp = NamedTemporaryFile(suffix=\".m8\")\n",
    "    bash(\n",
    "        'diamond blastx -d /Users/mattmcguffie/database/BLAST_dbs/nr -q ' + \n",
    "        query.name + ' -o ' + tmp.name + ' --outfmt 6 '+flags)\n",
    "    with open(tmp.name, \"r\") as file_handle:  #opens BLAST file\n",
    "        align = file_handle.readlines()\n",
    "        \n",
    "    tmp.close() \n",
    "    query.close() \n",
    "    align=pd.DataFrame([ele.split() for ele in align],columns=flags.split())\n",
    "    if not align.empty:\n",
    "        #align['sseqid']=align['sseqid'].str.split(\"|\",expand=True)[1]\n",
    "        align['pident']=align['pident'].astype(float)\n",
    "        align['slen']=align['slen'].astype(int)\n",
    "        align['length']=align['length'].astype(int)\n",
    "        align['qlen']=align['qlen'].astype(int)\n",
    "        align['pmatch']=align['length']/align['qlen']\n",
    "        align['fractionmatch']=align['length']/align['slen']\n",
    "        align['bitscore']=align['bitscore'].astype(float)\n",
    "        align['score']=align['pident']*align['length'].astype(int)*align['pmatch']*align['fractionmatch']\n",
    "        align=align.sort_values(by=['score'],ascending=False)\n",
    "    return align "
   ]
  },
  {
   "cell_type": "code",
   "execution_count": 79,
   "metadata": {},
   "outputs": [
    {
     "name": "stdout",
     "output_type": "stream",
     "text": [
      "CPU times: user 2 µs, sys: 0 ns, total: 2 µs\n",
      "Wall time: 19.8 µs\n"
     ]
    },
    {
     "data": {
      "text/html": [
       "<div>\n",
       "<style scoped>\n",
       "    .dataframe tbody tr th:only-of-type {\n",
       "        vertical-align: middle;\n",
       "    }\n",
       "\n",
       "    .dataframe tbody tr th {\n",
       "        vertical-align: top;\n",
       "    }\n",
       "\n",
       "    .dataframe thead th {\n",
       "        text-align: right;\n",
       "    }\n",
       "</style>\n",
       "<table border=\"1\" class=\"dataframe\">\n",
       "  <thead>\n",
       "    <tr style=\"text-align: right;\">\n",
       "      <th></th>\n",
       "      <th>bitscore</th>\n",
       "      <th>sseqid</th>\n",
       "      <th>pident</th>\n",
       "      <th>qstart</th>\n",
       "      <th>qend</th>\n",
       "      <th>sseq</th>\n",
       "      <th>sstart</th>\n",
       "      <th>send</th>\n",
       "      <th>length</th>\n",
       "      <th>slen</th>\n",
       "      <th>qlen</th>\n",
       "      <th>pmatch</th>\n",
       "      <th>fractionmatch</th>\n",
       "      <th>score</th>\n",
       "    </tr>\n",
       "  </thead>\n",
       "  <tbody>\n",
       "    <tr>\n",
       "      <th>0</th>\n",
       "      <td>61.6</td>\n",
       "      <td>sp|P28307|CSGA_ECOLI</td>\n",
       "      <td>100.0</td>\n",
       "      <td>1</td>\n",
       "      <td>255</td>\n",
       "      <td>MKLLKVAAIAAIVFSGSALAGVVPQXXXXXXXXXXXXXXXPNSELN...</td>\n",
       "      <td>1</td>\n",
       "      <td>85</td>\n",
       "      <td>85</td>\n",
       "      <td>151</td>\n",
       "      <td>456</td>\n",
       "      <td>0.186404</td>\n",
       "      <td>0.562914</td>\n",
       "      <td>891.897583</td>\n",
       "    </tr>\n",
       "  </tbody>\n",
       "</table>\n",
       "</div>"
      ],
      "text/plain": [
       "   bitscore                sseqid  pident qstart qend  \\\n",
       "0      61.6  sp|P28307|CSGA_ECOLI   100.0      1  255   \n",
       "\n",
       "                                                sseq sstart send  length  \\\n",
       "0  MKLLKVAAIAAIVFSGSALAGVVPQXXXXXXXXXXXXXXXPNSELN...      1   85      85   \n",
       "\n",
       "   slen  qlen    pmatch  fractionmatch       score  \n",
       "0   151   456  0.186404       0.562914  891.897583  "
      ]
     },
     "execution_count": 79,
     "metadata": {},
     "output_type": "execute_result"
    }
   ],
   "source": [
    "%time\n",
    "seq='''AATGATTTTATTTTGACTGATAGTGACCTGTTCGTTGCAACAAATTGATGAGCAATGCTTTTTTATAATG\n",
    "CCAACTTTGTACAAAAAAGTTGGCACCATGAGGAGCCGGAGTAACTCCGGGGTCCGGCTGGACGGCTACG\n",
    "CTCGACTGGTGCAACAGACCATCCTGTGCCATCAGAATCCAGTGACTGGCTTGCTTCCAGCCAGCTATGA\n",
    "TCAGAAAGATGCTTGGGTCCGAGATAATGTGTACAGCATCTTGGCTGTGTGGGGTTTGGGCCTGGCCTAT\n",
    "CGGAAGAATGCAGACCGGGATGAGGATAAGGCAAAGGCCTATGAATTGGAGCAGAGTGTAGTGAAGCTGA\n",
    "TGAGAGGACTACTGCACTGCATGATCAGACAGGTGGATAAAGTAGAATCCTTCAAATATAGTCAGAGTAC\n",
    "TAAGGATAGCCTCCATGCAAAGTACAACACCAAAACCTGTGCCACTGTAGTGGGTGATGATCAATGGGGA\n",
    "CACCTGCAGTTGGATGCTACCTCTGTGTACCTGCTCTTCTTAGCCCAAATGACTGCCTCAGGACTCCATA\n",
    "TCATCCACAGCCTAGATGAAGTCAATTTCATACAGAACCTTGTGTTTTACATTGAAGCTGCATATAAAAC\n",
    "TGCTGACTTCGGGATATGGGAACGTGGAGACAAGACCAACCAAGGGATCTCAGAGTTGAATGCCAGTTCA\n",
    "GTTGGAATGGCAAAGGCAGCCCTGGAAGCATTAGATGAACTGGATCTGTTTGGTGTGAAAGGTGGGCCTC\n",
    "AATCAGTTATCCATGTCCTGGCTGATGAAGTACAGCACTGCCAGTCTATCCTAAATTCACTACTGCCCCG\n",
    "TGCTTCACATCAAAGAGTGATGCTAGTCTACTCTCAGTGGTTTCCTTCCCTGCCTTGCAGTAGAGGG'''.lower().replace(\" \",\"\").replace(\"\\n\",\"\")\n",
    "hits=dBLAST(csga)\n",
    "hits"
   ]
  },
  {
   "cell_type": "code",
   "execution_count": 68,
   "metadata": {},
   "outputs": [
    {
     "data": {
      "text/plain": [
       "184"
      ]
     },
     "execution_count": 68,
     "metadata": {},
     "output_type": "execute_result"
    }
   ],
   "source": [
    "len(hits.loc[0]['sseq'])"
   ]
  },
  {
   "cell_type": "code",
   "execution_count": null,
   "metadata": {},
   "outputs": [],
   "source": []
  }
 ],
 "metadata": {
  "kernelspec": {
   "display_name": "Python 3",
   "language": "python",
   "name": "python3"
  },
  "language_info": {
   "codemirror_mode": {
    "name": "ipython",
    "version": 3
   },
   "file_extension": ".py",
   "mimetype": "text/x-python",
   "name": "python",
   "nbconvert_exporter": "python",
   "pygments_lexer": "ipython3",
   "version": "3.7.4-final"
  },
  "toc": {
   "base_numbering": 1,
   "nav_menu": {},
   "number_sections": true,
   "sideBar": true,
   "skip_h1_title": false,
   "title_cell": "Table of Contents",
   "title_sidebar": "Contents",
   "toc_cell": false,
   "toc_position": {},
   "toc_section_display": true,
   "toc_window_display": false
  }
 },
 "nbformat": 4,
 "nbformat_minor": 2
}