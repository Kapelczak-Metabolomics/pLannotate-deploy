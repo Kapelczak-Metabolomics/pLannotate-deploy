{
 "cells": [
  {
   "cell_type": "code",
   "execution_count": 9,
   "metadata": {},
   "outputs": [],
   "source": [
    "import json\n",
    "\n",
    "with open('../data/databases/addgene-plasmids-sequences.json') as json_file:\n",
    "    data = json.load(json_file)"
   ]
  },
  {
   "cell_type": "markdown",
   "metadata": {},
   "source": [
    "grep -o \"https:\\/\\/media\\.addgene\\.org\\/snapgene-media.*\\.gbk\" addgene-plasmids-sequences.json > gbk.txt"
   ]
  },
  {
   "cell_type": "code",
   "execution_count": 2,
   "metadata": {},
   "outputs": [],
   "source": [
    "with open(\"../data/databases/gbk.txt\") as fh:\n",
    "    gbks=fh.read().splitlines()"
   ]
  },
  {
   "cell_type": "code",
   "execution_count": null,
   "metadata": {},
   "outputs": [
    {
     "name": "stdout",
     "output_type": "stream",
     "text": [
      "..........................................................................................................................................................................................................................................................................................................................................................................................................................................................................................................................................................................................................................................................................................................................................................................................................................................................................................................................................................................................................................................................................................................................................................................................................................."
     ]
    }
   ],
   "source": [
    "#~195,000\n",
    "import requests\n",
    "fails=[]\n",
    "for i in range(len(gbks)):\n",
    "    if i%1000:\n",
    "        print(\".\",end=\"\")\n",
    "    try:\n",
    "        r=requests.get(gbks[i], allow_redirects=True).text\n",
    "        path=gbks[i].split(\"/\")[-1]\n",
    "        with open(f'../data/addgene_gbks/{path}', 'w') as fh:\n",
    "            fh.write(r)\n",
    "    except:\n",
    "        fails.append(i)\n"
   ]
  },
  {
   "cell_type": "code",
   "execution_count": 11,
   "metadata": {},
   "outputs": [
    {
     "data": {
      "text/plain": [
       "195426"
      ]
     },
     "execution_count": 11,
     "metadata": {},
     "output_type": "execute_result"
    }
   ],
   "source": [
    "len(gbks)"
   ]
  },
  {
   "cell_type": "code",
   "execution_count": 12,
   "metadata": {},
   "outputs": [
    {
     "data": {
      "text/plain": [
       "93823"
      ]
     },
     "execution_count": 12,
     "metadata": {},
     "output_type": "execute_result"
    }
   ],
   "source": [
    "len(data['plasmids'])"
   ]
  },
  {
   "cell_type": "code",
   "execution_count": 4,
   "metadata": {},
   "outputs": [
    {
     "data": {
      "text/plain": [
       "dict_keys(['public_addgene_full_sequences', 'public_addgene_partial_sequences', 'public_user_full_sequences', 'public_user_partial_sequences'])"
      ]
     },
     "execution_count": 4,
     "metadata": {},
     "output_type": "execute_result"
    }
   ],
   "source": [
    "data['plasmids'][0]['sequences'].keys()"
   ]
  },
  {
   "cell_type": "code",
   "execution_count": 15,
   "metadata": {},
   "outputs": [
    {
     "data": {
      "text/plain": [
       "[{'genbank_url': 'https://media.addgene.org/snapgene-media/v1.6.2-0-g4b4ed87/sequences/64/15/16415/addgene-plasmid-3-sequence-16415.gbk',\n",
       "  'sequence': 'GGTCGGATTCCCGGGCTGCAGGAATTCGGCACGAGGTTGCCTGCATGAGTGTGTGCTGTGTGTCAGAGTGGATTGGAGTTGAAAAAGCTTGACTGGCGTCATTCGGGAGCTGGATGGCTTGGGACATGTGCAGCCAAGACTCTGTATGGAGTGACATAGAGTGTGCTGCTCTGGTTGGTGAGGACCAGCCTCTTTGCCCAGATCTTCCTGAACTTGACCTTTCTGAACTTGATGTGAATGACTTGGATACAGACAGCTTTCTGGGTGGATTGAAGTGGTGTAGCGACCAATCGGAAATCATATCCAACCAGTACAACAATGAGCCTGCGAACATATTTGAGAAGATAGATGAAGAGAATGAGGCAAACTTGCTAGCGGTCCTCACAGAGACACTGGACAGTCTCCCCGTGGATGAAGACGGATTGCCCTCATTTGATGCACTGACAGATGGAGCCGTGACCACTGACAACGAGGCCAGTCCTTCCTCCATGCCTGACGGCACCCCTCCCCCTCAGGAGGCAGAAGAGCCGTCTCTACTTAAGAAGCTCTTACTGGCACCAGCCAACACTCAGCTCAGCTACAATGAATGCAGCGGTCTTAGCACTCAGAACCATGCAGCAAACCACACCCACAGGATCAGAACAAACCCTGCCATTGTTAAGACCGAGAATTCATGGAGCAATAAAGCGAAGAGCATTTGTCAACAGCAAAAGCCACAAAGACGTCCCTGCTCAGAGCTTCTCAAGTATCTGACCACAAACGATGACCCTCCTCACACCAAACCCACAGAAAACAGGAACAGCAGCAGAGACAAATGTGCTTCCAAAAAGAAGTCCCATACACAACCGCAGTCGCAACATGCTCAAGCCAAACCAACAACTTTATCTCTTCCTCTGACCCCAGAGTCACCAAATGACCCCAAGGGNTCCCCATTTGAGAACNAGACTATTGAGCGAACCTTAAGTGTNNNCTCTCTGGAACTGCAGNCTACTCCTCCCACACTCCTCCTCATAAGCNNCAGANACCCTTTCAGGCTTCGCCAAAGCTGAGCCTCTGCAGACGTG',\n",
       "  'sequence_description': '3_sp6',\n",
       "  'snapgene_url': 'https://media.addgene.org/snapgene-media/v1.6.2-0-g4b4ed87/sequences/64/15/16415/addgene-plasmid-3-sequence-16415.dna'},\n",
       " {'genbank_url': 'https://media.addgene.org/snapgene-media/v1.6.2-0-g4b4ed87/sequences/64/16/16416/addgene-plasmid-3-sequence-16416.gbk',\n",
       "  'sequence': 'NTTAGCCATGCGCGTACGTAACTTGGATCCTCTAGAGCGGCCGCCGACTAGTGAGCTCGTCGAGTTTTTTTTTTTTTTTTTTTAATTTATTTATTTTCCTTTTGTATAGAATACGAACATTTTGAAGTTGTAGGTTTTAAGTGTGTCTTCATGGAAATGCTGCCATTTGAAGGGGTCGCCCTTGTTCGTTCTGTTCAGGTGCCCCCAAGTCCTCACATGTGTACATATGTACTTTCCAAACAAGTACACACACACACATACACACACGCACACCCACACACACACACGCACACACACTGTCACCAAGAGCCTCCAGGGAAAGCAAAGCTGACACCCGTGAATAAACGTGTGCTTACTGGATTATCATTCTGTCTCTTGCCTCTTCAGCAGCTGTGTTCATGTAAACCGTTGTTCTTGTTCTGGTATGGTTGTTGTTGTTATTGTTGTTGTTGTTGTTGTTATTGTTGTTTTGTTTTGTTTTATTTTTGTACAGAGAGTGTAAAGTAGGAGAAATTCCTAAGTATGACTTGCAAGAGTCTTGGGAAAGGACACGCTGTCCCATGAGGTATTGACCATCTCTCTGTCATTCCTCAGCCTGGGAACACGTTACCTGCGCAAGCTTCTCTGAGCTTCCTTCAGTAAACTATCAAAATCCAGAGAGTCATACTTGCTCTTGGTGGAAGCAGGGTCAAAATCGTCTGAGTTGGTATCTAGGTCTGCATAGTTAGACTTGAAAAATTGCTTCCGTCCACAAAAGTACAGCTCGAAGTCAGTTTCGTTCGACCTGCGTAAAGTATATCCATTCTCAAGAGCAGCGAAAGCGTCACAGGTGTAACGGTAGGTGATGAAACCATAGCTGTCTCCATCATCCCGCAGATTTACGGTGCATTCCTCAATTTCACCAAAAACTTCAAAGCGGTCTCTCAATTCTGTCCCCGTTGTGTCAGGTCGGATTTTACAACGTAAATCACACGGCGCTCTTCAATTGCTTTTCGCTTCCGCCTCCCCCCTCGGTTTGGCCCTTTCAAACTCCCGCTTCCCGGGGTCTTTTGCGGATTCATCCCTCTTGGACCCTTTCGGGCCCAAAGGCTTCAAACTGCCGAACCGGGACCTAACGGTGGTAGGGGGACCTTGAAGGTGATTTCACCTAAAAGGGAAAAATGTCCGTGGGTGGCGGGGCCGTAATGGGCTTTGATTCTAACAAAAAACAGGACTTCTAAAAGAAATCTATTGGCGTGGGAACTTGTATTTTTCCCGGCAAATGGGGGTATCGAAACACAACCTTTTTCTAATAAAAATTCTGG',\n",
       "  'sequence_description': '3_t7',\n",
       "  'snapgene_url': 'https://media.addgene.org/snapgene-media/v1.6.2-0-g4b4ed87/sequences/64/16/16416/addgene-plasmid-3-sequence-16416.dna'}]"
      ]
     },
     "execution_count": 15,
     "metadata": {},
     "output_type": "execute_result"
    }
   ],
   "source": [
    "data['plasmids'][0]['sequences']['public_addgene_partial_sequences']"
   ]
  },
  {
   "cell_type": "code",
   "execution_count": 11,
   "metadata": {},
   "outputs": [
    {
     "data": {
      "text/plain": [
       "[(0, 40344),\n",
       " (1, 28137),\n",
       " (2, 19410),\n",
       " (3, 4269),\n",
       " (4, 1190),\n",
       " (5, 323),\n",
       " (6, 82),\n",
       " (7, 38),\n",
       " (8, 15),\n",
       " (9, 7),\n",
       " (10, 6),\n",
       " (11, 2)]"
      ]
     },
     "execution_count": 11,
     "metadata": {},
     "output_type": "execute_result"
    }
   ],
   "source": [
    "from collections import Counter\n",
    "Counter([len(data['plasmids'][i]['sequences']['public_addgene_partial_sequences']) for i in range(len(data['plasmids']))]).most_common()"
   ]
  },
  {
   "cell_type": "code",
   "execution_count": 12,
   "metadata": {},
   "outputs": [
    {
     "data": {
      "text/plain": [
       "[(0, 48114), (1, 45411), (2, 290), (3, 7), (4, 1)]"
      ]
     },
     "execution_count": 12,
     "metadata": {},
     "output_type": "execute_result"
    }
   ],
   "source": [
    "Counter([len(data['plasmids'][i]['sequences']['public_addgene_full_sequences']) for i in range(len(data['plasmids']))]).most_common()"
   ]
  },
  {
   "cell_type": "code",
   "execution_count": 13,
   "metadata": {},
   "outputs": [
    {
     "data": {
      "text/plain": [
       "[(0, 68137), (1, 22881), (2, 2531), (3, 149), (4, 107), (5, 17), (6, 1)]"
      ]
     },
     "execution_count": 13,
     "metadata": {},
     "output_type": "execute_result"
    }
   ],
   "source": [
    "Counter([len(data['plasmids'][i]['sequences']['public_user_partial_sequences']) for i in range(len(data['plasmids']))]).most_common()"
   ]
  },
  {
   "cell_type": "code",
   "execution_count": 14,
   "metadata": {},
   "outputs": [
    {
     "data": {
      "text/plain": [
       "[(0, 60571), (1, 33158), (2, 94)]"
      ]
     },
     "execution_count": 14,
     "metadata": {},
     "output_type": "execute_result"
    }
   ],
   "source": [
    "Counter([len(data['plasmids'][i]['sequences']['public_user_full_sequences']) for i in range(len(data['plasmids']))]).most_common()"
   ]
  },
  {
   "cell_type": "code",
   "execution_count": null,
   "metadata": {},
   "outputs": [],
   "source": []
  },
  {
   "cell_type": "markdown",
   "metadata": {},
   "source": [
    "# combing through gbks"
   ]
  },
  {
   "cell_type": "code",
   "execution_count": 16,
   "metadata": {},
   "outputs": [],
   "source": [
    "import glob\n",
    "from Bio import SeqIO\n",
    "import pandas as pd\n",
    "\n",
    "from Bio import BiopythonParserWarning\n",
    "import warnings\n",
    "with warnings.catch_warnings():\n",
    "    warnings.simplefilter('ignore', BiopythonParserWarning)\n",
    "    breaker=0\n",
    "    l=[]\n",
    "    for file_loc in glob.glob(\"../data/addgene_gbks/*.gbk\"):\n",
    "        if breaker == None:\n",
    "            break\n",
    "        with open(file_loc,'r') as file_handle:\n",
    "            record_dict = SeqIO.to_dict(SeqIO.parse(file_handle, 'gb'))\n",
    "\n",
    "        gbkFile = record_dict[list(record_dict.keys())[0]]\n",
    "\n",
    "        name  = file_loc.split(\"/\")[-1].replace(\".gbk\",\"\")\n",
    "        seq   = str(gbkFile.seq)\n",
    "        description = gbkFile.description\n",
    "        base = {\"name\":name,\"full_seq\":seq,\"description\":description,\"description\":description}\n",
    "        annos = gbkFile.annotations\n",
    "        l.append({**base,**annos})\n",
    "\n",
    "        breaker+=1\n",
    "l=pd.DataFrame(l)"
   ]
  },
  {
   "cell_type": "code",
   "execution_count": 23,
   "metadata": {
    "deletable": false,
    "editable": false,
    "run_control": {
     "frozen": true
    }
   },
   "outputs": [],
   "source": [
    "l.to_csv(\"/Users/mattmcguffie/Desktop/addgene_gbk_metadata.csv\",index=[\"name\"])"
   ]
  },
  {
   "cell_type": "code",
   "execution_count": 44,
   "metadata": {},
   "outputs": [
    {
     "data": {
      "text/html": [
       "<div>\n",
       "<style scoped>\n",
       "    .dataframe tbody tr th:only-of-type {\n",
       "        vertical-align: middle;\n",
       "    }\n",
       "\n",
       "    .dataframe tbody tr th {\n",
       "        vertical-align: top;\n",
       "    }\n",
       "\n",
       "    .dataframe thead th {\n",
       "        text-align: right;\n",
       "    }\n",
       "</style>\n",
       "<table border=\"1\" class=\"dataframe\">\n",
       "  <thead>\n",
       "    <tr style=\"text-align: right;\">\n",
       "      <th></th>\n",
       "      <th>name</th>\n",
       "      <th>full_seq</th>\n",
       "      <th>description</th>\n",
       "      <th>molecule_type</th>\n",
       "      <th>topology</th>\n",
       "      <th>data_file_division</th>\n",
       "      <th>date</th>\n",
       "      <th>accessions</th>\n",
       "      <th>keywords</th>\n",
       "      <th>source</th>\n",
       "      <th>organism</th>\n",
       "      <th>taxonomy</th>\n",
       "      <th>references</th>\n",
       "    </tr>\n",
       "  </thead>\n",
       "  <tbody>\n",
       "    <tr>\n",
       "      <th>0</th>\n",
       "      <td>_11_17_51117_addgene-plasmid-39353-sequence-51117</td>\n",
       "      <td>CGGATCTATATTACCCTGTTATCCCTAGCGGATCTGCCGGTAGAGG...</td>\n",
       "      <td>synthetic linear DNA</td>\n",
       "      <td>ds-DNA</td>\n",
       "      <td>linear</td>\n",
       "      <td>SYN</td>\n",
       "      <td>14-AUG-2018</td>\n",
       "      <td>[.]</td>\n",
       "      <td>[pFA6a-kanMX6-Purg1-GFP]</td>\n",
       "      <td>synthetic DNA construct</td>\n",
       "      <td>synthetic DNA construct</td>\n",
       "      <td>[]</td>\n",
       "      <td>[location: [0:891]\\nauthors: Watt S, Mata J, L...</td>\n",
       "    </tr>\n",
       "    <tr>\n",
       "      <th>1</th>\n",
       "      <td>_13_53_81353_addgene-plasmid-51658-sequence-81353</td>\n",
       "      <td>ATATCGCCGTGGCGGCCGCTCTAGAACTAGTGGATCGATCCCCAAT...</td>\n",
       "      <td>Bacterial cloning vector based on pUK21 (Kan)</td>\n",
       "      <td>ds-DNA</td>\n",
       "      <td>linear</td>\n",
       "      <td>SYN</td>\n",
       "      <td>14-AUG-2018</td>\n",
       "      <td>[.]</td>\n",
       "      <td>[pUK21-deltaBB]</td>\n",
       "      <td>synthetic DNA construct</td>\n",
       "      <td>synthetic DNA construct</td>\n",
       "      <td>[]</td>\n",
       "      <td>[location: [0:896]\\nauthors: Voth WP, Richards...</td>\n",
       "    </tr>\n",
       "    <tr>\n",
       "      <th>2</th>\n",
       "      <td>_27_81_232781_addgene-plasmid-120241-sequence-...</td>\n",
       "      <td>GGGCAGAGCGCACATCGCCCACAGTCCCCGAGAAGTTGGGGGGAGG...</td>\n",
       "      <td>Expresses V5-tagged Itprip in lentiviral vector</td>\n",
       "      <td>ds-DNA</td>\n",
       "      <td>circular</td>\n",
       "      <td>SYN</td>\n",
       "      <td>09-JAN-2019</td>\n",
       "      <td>[.]</td>\n",
       "      <td>[pLV-EF1a-Itprip-V5]</td>\n",
       "      <td>synthetic DNA construct</td>\n",
       "      <td>synthetic DNA construct</td>\n",
       "      <td>[]</td>\n",
       "      <td>[location: [0:7223]\\nauthors: \\ntitle: Gerace ...</td>\n",
       "    </tr>\n",
       "    <tr>\n",
       "      <th>3</th>\n",
       "      <td>_05_12_100512_addgene-plasmid-60521-sequence-1...</td>\n",
       "      <td>GCTTGGCCTGACAGGCCTTCGAATTAGTGAGAAGGAAAGACGCAAC...</td>\n",
       "      <td>SB-transposon with constitutive bi-directional...</td>\n",
       "      <td>ds-DNA</td>\n",
       "      <td>linear</td>\n",
       "      <td>SYN</td>\n",
       "      <td>14-AUG-2018</td>\n",
       "      <td>[.]</td>\n",
       "      <td>[pSBbi-BB]</td>\n",
       "      <td>synthetic DNA construct</td>\n",
       "      <td>synthetic DNA construct</td>\n",
       "      <td>[]</td>\n",
       "      <td>[location: [0:822]\\nauthors: Kowarz E, Loesche...</td>\n",
       "    </tr>\n",
       "    <tr>\n",
       "      <th>4</th>\n",
       "      <td>_02_68_120268_addgene-plasmid-67790-sequence-1...</td>\n",
       "      <td>TTGATGATGGCCATGTTATCCTCCTCGCCCTTGCTCACCATGGCAT...</td>\n",
       "      <td>Expression of MMLV proviral DNA-mCherry. Use t...</td>\n",
       "      <td>ds-DNA</td>\n",
       "      <td>linear</td>\n",
       "      <td>SYN</td>\n",
       "      <td>14-AUG-2018</td>\n",
       "      <td>[.]</td>\n",
       "      <td>[PNCA-mCherry]</td>\n",
       "      <td>synthetic DNA construct</td>\n",
       "      <td>synthetic DNA construct</td>\n",
       "      <td>[]</td>\n",
       "      <td>[location: [0:711]\\nauthors: Schlesinger S, Go...</td>\n",
       "    </tr>\n",
       "  </tbody>\n",
       "</table>\n",
       "</div>"
      ],
      "text/plain": [
       "                                                name  \\\n",
       "0  _11_17_51117_addgene-plasmid-39353-sequence-51117   \n",
       "1  _13_53_81353_addgene-plasmid-51658-sequence-81353   \n",
       "2  _27_81_232781_addgene-plasmid-120241-sequence-...   \n",
       "3  _05_12_100512_addgene-plasmid-60521-sequence-1...   \n",
       "4  _02_68_120268_addgene-plasmid-67790-sequence-1...   \n",
       "\n",
       "                                            full_seq  \\\n",
       "0  CGGATCTATATTACCCTGTTATCCCTAGCGGATCTGCCGGTAGAGG...   \n",
       "1  ATATCGCCGTGGCGGCCGCTCTAGAACTAGTGGATCGATCCCCAAT...   \n",
       "2  GGGCAGAGCGCACATCGCCCACAGTCCCCGAGAAGTTGGGGGGAGG...   \n",
       "3  GCTTGGCCTGACAGGCCTTCGAATTAGTGAGAAGGAAAGACGCAAC...   \n",
       "4  TTGATGATGGCCATGTTATCCTCCTCGCCCTTGCTCACCATGGCAT...   \n",
       "\n",
       "                                         description molecule_type  topology  \\\n",
       "0                               synthetic linear DNA        ds-DNA    linear   \n",
       "1      Bacterial cloning vector based on pUK21 (Kan)        ds-DNA    linear   \n",
       "2    Expresses V5-tagged Itprip in lentiviral vector        ds-DNA  circular   \n",
       "3  SB-transposon with constitutive bi-directional...        ds-DNA    linear   \n",
       "4  Expression of MMLV proviral DNA-mCherry. Use t...        ds-DNA    linear   \n",
       "\n",
       "  data_file_division         date accessions                  keywords  \\\n",
       "0                SYN  14-AUG-2018        [.]  [pFA6a-kanMX6-Purg1-GFP]   \n",
       "1                SYN  14-AUG-2018        [.]           [pUK21-deltaBB]   \n",
       "2                SYN  09-JAN-2019        [.]      [pLV-EF1a-Itprip-V5]   \n",
       "3                SYN  14-AUG-2018        [.]                [pSBbi-BB]   \n",
       "4                SYN  14-AUG-2018        [.]            [PNCA-mCherry]   \n",
       "\n",
       "                    source                 organism taxonomy  \\\n",
       "0  synthetic DNA construct  synthetic DNA construct       []   \n",
       "1  synthetic DNA construct  synthetic DNA construct       []   \n",
       "2  synthetic DNA construct  synthetic DNA construct       []   \n",
       "3  synthetic DNA construct  synthetic DNA construct       []   \n",
       "4  synthetic DNA construct  synthetic DNA construct       []   \n",
       "\n",
       "                                          references  \n",
       "0  [location: [0:891]\\nauthors: Watt S, Mata J, L...  \n",
       "1  [location: [0:896]\\nauthors: Voth WP, Richards...  \n",
       "2  [location: [0:7223]\\nauthors: \\ntitle: Gerace ...  \n",
       "3  [location: [0:822]\\nauthors: Kowarz E, Loesche...  \n",
       "4  [location: [0:711]\\nauthors: Schlesinger S, Go...  "
      ]
     },
     "execution_count": 44,
     "metadata": {},
     "output_type": "execute_result"
    }
   ],
   "source": [
    "l.head()"
   ]
  },
  {
   "cell_type": "code",
   "execution_count": null,
   "metadata": {},
   "outputs": [],
   "source": []
  },
  {
   "cell_type": "code",
   "execution_count": null,
   "metadata": {},
   "outputs": [],
   "source": []
  },
  {
   "cell_type": "code",
   "execution_count": 62,
   "metadata": {},
   "outputs": [
    {
     "name": "stdout",
     "output_type": "stream",
     "text": [
      "ID: .\n",
      "Name: Exported\n",
      "Description: Expression of MMLV proviral DNA-mCherry. Use together with pCMV-intron and VSV-G to package MMLV reporter virus\n",
      "Number of features: 2\n",
      "/molecule_type=ds-DNA\n",
      "/topology=linear\n",
      "/data_file_division=SYN\n",
      "/date=14-AUG-2018\n",
      "/accessions=['.']\n",
      "/keywords=['PNCA-mCherry']\n",
      "/source=synthetic DNA construct\n",
      "/organism=synthetic DNA construct\n",
      "/taxonomy=[]\n",
      "/references=[Reference(title='Silencing of proviruses in embryonic cells: efficiency, stability and chromatin modifications.', ...), Reference(title='Direct Submission', ...)]\n",
      "Seq('TTGATGATGGCCATGTTATCCTCCTCGCCCTTGCTCACCATGGCATCCATGCAT...TCG', IUPACAmbiguousDNA())\n"
     ]
    }
   ],
   "source": [
    "print(gbkFile)"
   ]
  },
  {
   "cell_type": "code",
   "execution_count": 46,
   "metadata": {},
   "outputs": [
    {
     "name": "stdout",
     "output_type": "stream",
     "text": [
      "type: CDS\n",
      "location: [21:39](-)\n",
      "qualifiers:\n",
      "    Key: codon_start, Value: ['1']\n",
      "    Key: label, Value: ['6xHis']\n",
      "    Key: product, Value: ['6xHis affinity tag']\n",
      "    Key: translation, Value: ['HHHHHH']\n",
      "\n"
     ]
    },
    {
     "data": {
      "text/plain": [
       "{'type': 'CDS',\n",
       " 'seq': 'GTGGTGGTGGTGGTGGTG',\n",
       " 'codon_start': '1',\n",
       " 'product': '6xHis affinity tag',\n",
       " 'label': '6xHis',\n",
       " 'translation': 'HHHHHH'}"
      ]
     },
     "execution_count": 46,
     "metadata": {},
     "output_type": "execute_result"
    }
   ],
   "source": [
    "print(gbkFile.features[1])\n",
    "start = gbkFile.features[1].location.start\n",
    "end   = gbkFile.features[1].location.end\n",
    "seq   = str(gbkFile.seq[start:end])\n",
    "Type  = gbkFile.features[1].type\n",
    "quals = dict(gbkFile.features[1].qualifiers)\n",
    "t={**{\"type\":Type,\"seq\":seq},**quals}\n",
    "\n",
    "for k,v in t.items():\n",
    "    if type(v) == list:\n",
    "        if len(v) != 0:\n",
    "            t[k] = \" | \".join(v)\n",
    "        else:\n",
    "            t[k] = \"\"\n",
    "t"
   ]
  },
  {
   "cell_type": "code",
   "execution_count": 20,
   "metadata": {},
   "outputs": [],
   "source": [
    "import glob\n",
    "from Bio import SeqIO\n",
    "import pandas as pd\n",
    "\n",
    "from Bio import BiopythonParserWarning\n",
    "import warnings\n",
    "with warnings.catch_warnings():\n",
    "    warnings.simplefilter('ignore', BiopythonParserWarning)\n",
    "    breaker=0\n",
    "    fails=[]\n",
    "    l=[]\n",
    "    for file_loc in glob.glob(\"../data/addgene_gbks/*.gbk\"):\n",
    "            if breaker == None:\n",
    "                break\n",
    "            try:\n",
    "                with open(file_loc,'r') as file_handle:\n",
    "                    record_dict = SeqIO.to_dict(SeqIO.parse(file_handle, 'gb'))\n",
    "                gbkFile = record_dict[list(record_dict.keys())[0]]\n",
    "                name  = file_loc.split(\"/\")[-1].replace(\".gbk\",\"\")\n",
    "\n",
    "                for feat in gbkFile.features:\n",
    "                    Type  = feat.type            \n",
    "                    start = feat.location.start\n",
    "                    end   = feat.location.end\n",
    "                    seq   = str(gbkFile.seq[start:end])\n",
    "\n",
    "                    if Type==\"source\" and len(seq)==len(gbkFile):\n",
    "                        continue\n",
    "\n",
    "                    quals = dict(feat.qualifiers)\n",
    "                    featInfo  = {**{\"name\":name,\"type\":Type,\"seq\":seq},**quals}\n",
    "\n",
    "                    for k,v in featInfo.items():\n",
    "                        if type(v) == list:\n",
    "                            if len(v) != 0:\n",
    "                                featInfo[k] = \" | \".join(v)\n",
    "                            else:\n",
    "                                featInfo[k] = \"\"\n",
    "                    l.append(featInfo)\n",
    "            except:\n",
    "                fails.append((file_loc,feat))\n",
    "            #breaker+=1\n",
    "        \n",
    "l=pd.DataFrame(l)\n",
    "l=l[l['type']!=\"primer_bind\"]\n",
    "l['seq_len']=l['seq'].str.len()"
   ]
  },
  {
   "cell_type": "code",
   "execution_count": 21,
   "metadata": {},
   "outputs": [
    {
     "data": {
      "text/plain": [
       "CDS               346403\n",
       "promoter          294061\n",
       "protein_bind      172040\n",
       "rep_origin        147594\n",
       "misc_feature       81460\n",
       "polyA_signal       65714\n",
       "terminator         56523\n",
       "regulatory         40410\n",
       "enhancer           28036\n",
       "LTR                25916\n",
       "intron             16787\n",
       "RBS                13509\n",
       "misc_RNA           13449\n",
       "repeat_region      11998\n",
       "polyA_site          6366\n",
       "ncRNA               1838\n",
       "mobile_element      1278\n",
       "oriT                1231\n",
       "gap                 1004\n",
       "gene                 765\n",
       "misc_recomb          704\n",
       "3'UTR                523\n",
       "5'UTR                504\n",
       "misc_signal          162\n",
       "tRNA                  30\n",
       "mat_peptide           21\n",
       "exon                   4\n",
       "Name: type, dtype: int64"
      ]
     },
     "execution_count": 21,
     "metadata": {},
     "output_type": "execute_result"
    }
   ],
   "source": [
    "l['type'].value_counts()"
   ]
  },
  {
   "cell_type": "code",
   "execution_count": 23,
   "metadata": {
    "deletable": false,
    "editable": false,
    "run_control": {
     "frozen": true
    }
   },
   "outputs": [],
   "source": [
    "l.to_csv(\"/Users/mattmcguffie/Desktop/addgene_features_from_gbk.csv\")"
   ]
  },
  {
   "cell_type": "code",
   "execution_count": 60,
   "metadata": {},
   "outputs": [],
   "source": [
    "l['rev_seq']=l['seq'].apply(Seq).apply(Seq.reverse_complement).apply(str)\n",
    "l['canon_seq']=l['seq'].where(l['seq']<=l['rev_seq'],l['rev_seq'])"
   ]
  },
  {
   "cell_type": "code",
   "execution_count": 63,
   "metadata": {},
   "outputs": [
    {
     "data": {
      "text/html": [
       "<div>\n",
       "<style scoped>\n",
       "    .dataframe tbody tr th:only-of-type {\n",
       "        vertical-align: middle;\n",
       "    }\n",
       "\n",
       "    .dataframe tbody tr th {\n",
       "        vertical-align: top;\n",
       "    }\n",
       "\n",
       "    .dataframe thead th {\n",
       "        text-align: right;\n",
       "    }\n",
       "</style>\n",
       "<table border=\"1\" class=\"dataframe\">\n",
       "  <thead>\n",
       "    <tr style=\"text-align: right;\">\n",
       "      <th></th>\n",
       "      <th>name</th>\n",
       "      <th>type</th>\n",
       "      <th>seq</th>\n",
       "      <th>gene</th>\n",
       "      <th>label</th>\n",
       "      <th>note</th>\n",
       "      <th>regulatory_class</th>\n",
       "      <th>codon_start</th>\n",
       "      <th>product</th>\n",
       "      <th>translation</th>\n",
       "      <th>...</th>\n",
       "      <th>ncRNA_class</th>\n",
       "      <th>estimated_length</th>\n",
       "      <th>db_xref</th>\n",
       "      <th>protein_id</th>\n",
       "      <th>function</th>\n",
       "      <th>allele</th>\n",
       "      <th>seq_len</th>\n",
       "      <th>rev_seq</th>\n",
       "      <th>rev</th>\n",
       "      <th>canon_seq</th>\n",
       "    </tr>\n",
       "  </thead>\n",
       "  <tbody>\n",
       "    <tr>\n",
       "      <th>0</th>\n",
       "      <td>_11_17_51117_addgene-plasmid-39353-sequence-51117</td>\n",
       "      <td>terminator</td>\n",
       "      <td>CCGGTAGAGGTGTGGTCAATAAGAGCGACCTCATACTATACCTGAG...</td>\n",
       "      <td>S. cerevisiae ADH1</td>\n",
       "      <td>ADH1 terminator</td>\n",
       "      <td>transcription terminator for the S. cerevisiae...</td>\n",
       "      <td>NaN</td>\n",
       "      <td>NaN</td>\n",
       "      <td>NaN</td>\n",
       "      <td>NaN</td>\n",
       "      <td>...</td>\n",
       "      <td>NaN</td>\n",
       "      <td>NaN</td>\n",
       "      <td>NaN</td>\n",
       "      <td>NaN</td>\n",
       "      <td>NaN</td>\n",
       "      <td>NaN</td>\n",
       "      <td>188</td>\n",
       "      <td>GCGAATTTCTTATGATTTATGATTTTTATTATTAAATAAGTTATAA...</td>\n",
       "      <td>False</td>\n",
       "      <td>CCGGTAGAGGTGTGGTCAATAAGAGCGACCTCATACTATACCTGAG...</td>\n",
       "    </tr>\n",
       "    <tr>\n",
       "      <th>6</th>\n",
       "      <td>_13_53_81353_addgene-plasmid-51658-sequence-81353</td>\n",
       "      <td>promoter</td>\n",
       "      <td>CCTATAGTGAGTCGTATTA</td>\n",
       "      <td>NaN</td>\n",
       "      <td>T7 promoter</td>\n",
       "      <td>promoter for bacteriophage T7 RNA polymerase</td>\n",
       "      <td>NaN</td>\n",
       "      <td>NaN</td>\n",
       "      <td>NaN</td>\n",
       "      <td>NaN</td>\n",
       "      <td>...</td>\n",
       "      <td>NaN</td>\n",
       "      <td>NaN</td>\n",
       "      <td>NaN</td>\n",
       "      <td>NaN</td>\n",
       "      <td>NaN</td>\n",
       "      <td>NaN</td>\n",
       "      <td>19</td>\n",
       "      <td>TAATACGACTCACTATAGG</td>\n",
       "      <td>False</td>\n",
       "      <td>CCTATAGTGAGTCGTATTA</td>\n",
       "    </tr>\n",
       "    <tr>\n",
       "      <th>15</th>\n",
       "      <td>_27_81_232781_addgene-plasmid-120241-sequence-...</td>\n",
       "      <td>promoter</td>\n",
       "      <td>GGGCAGAGCGCACATCGCCCACAGTCCCCGAGAAGTTGGGGGGAGG...</td>\n",
       "      <td>NaN</td>\n",
       "      <td>EF-1-alpha core promoter</td>\n",
       "      <td>core promoter for human elongation factor EF-1...</td>\n",
       "      <td>NaN</td>\n",
       "      <td>NaN</td>\n",
       "      <td>NaN</td>\n",
       "      <td>NaN</td>\n",
       "      <td>...</td>\n",
       "      <td>NaN</td>\n",
       "      <td>NaN</td>\n",
       "      <td>NaN</td>\n",
       "      <td>NaN</td>\n",
       "      <td>NaN</td>\n",
       "      <td>NaN</td>\n",
       "      <td>212</td>\n",
       "      <td>CTGTGTTCTGGCGGCAAACCCGTTGCGAAAAAGAACGTTCACGGCG...</td>\n",
       "      <td>True</td>\n",
       "      <td>CTGTGTTCTGGCGGCAAACCCGTTGCGAAAAAGAACGTTCACGGCG...</td>\n",
       "    </tr>\n",
       "    <tr>\n",
       "      <th>16</th>\n",
       "      <td>_27_81_232781_addgene-plasmid-120241-sequence-...</td>\n",
       "      <td>intron</td>\n",
       "      <td>GTAAGTGCCGTGTGTGGTTCCCGCGGGCCTGGCCTCTTTACGGGTT...</td>\n",
       "      <td>NaN</td>\n",
       "      <td>EF-1-alpha intron A</td>\n",
       "      <td>intron upstream of the start codon of human EF...</td>\n",
       "      <td>NaN</td>\n",
       "      <td>NaN</td>\n",
       "      <td>NaN</td>\n",
       "      <td>NaN</td>\n",
       "      <td>...</td>\n",
       "      <td>NaN</td>\n",
       "      <td>NaN</td>\n",
       "      <td>NaN</td>\n",
       "      <td>NaN</td>\n",
       "      <td>NaN</td>\n",
       "      <td>NaN</td>\n",
       "      <td>939</td>\n",
       "      <td>CTGAAATGGAAGAAAAAAACTTTGAACCACTGTCTGAGGCTTGAGA...</td>\n",
       "      <td>True</td>\n",
       "      <td>CTGAAATGGAAGAAAAAAACTTTGAACCACTGTCTGAGGCTTGAGA...</td>\n",
       "    </tr>\n",
       "    <tr>\n",
       "      <th>18</th>\n",
       "      <td>_27_81_232781_addgene-plasmid-120241-sequence-...</td>\n",
       "      <td>regulatory</td>\n",
       "      <td>GCCGCCATGG</td>\n",
       "      <td>NaN</td>\n",
       "      <td>NaN</td>\n",
       "      <td>vertebrate consensus sequence for strong initi...</td>\n",
       "      <td>other</td>\n",
       "      <td>NaN</td>\n",
       "      <td>NaN</td>\n",
       "      <td>NaN</td>\n",
       "      <td>...</td>\n",
       "      <td>NaN</td>\n",
       "      <td>NaN</td>\n",
       "      <td>NaN</td>\n",
       "      <td>NaN</td>\n",
       "      <td>NaN</td>\n",
       "      <td>NaN</td>\n",
       "      <td>10</td>\n",
       "      <td>CCATGGCGGC</td>\n",
       "      <td>True</td>\n",
       "      <td>CCATGGCGGC</td>\n",
       "    </tr>\n",
       "    <tr>\n",
       "      <th>...</th>\n",
       "      <td>...</td>\n",
       "      <td>...</td>\n",
       "      <td>...</td>\n",
       "      <td>...</td>\n",
       "      <td>...</td>\n",
       "      <td>...</td>\n",
       "      <td>...</td>\n",
       "      <td>...</td>\n",
       "      <td>...</td>\n",
       "      <td>...</td>\n",
       "      <td>...</td>\n",
       "      <td>...</td>\n",
       "      <td>...</td>\n",
       "      <td>...</td>\n",
       "      <td>...</td>\n",
       "      <td>...</td>\n",
       "      <td>...</td>\n",
       "      <td>...</td>\n",
       "      <td>...</td>\n",
       "      <td>...</td>\n",
       "      <td>...</td>\n",
       "    </tr>\n",
       "    <tr>\n",
       "      <th>2427388</th>\n",
       "      <td>_39_74_213974_addgene-plasmid-113423-sequence-...</td>\n",
       "      <td>enhancer</td>\n",
       "      <td>ATATGCCAAGTACGCCCCCTATTGACGTCAATGACGGTAAATGGCC...</td>\n",
       "      <td>NaN</td>\n",
       "      <td>CMV enhancer</td>\n",
       "      <td>human cytomegalovirus immediate early enhancer</td>\n",
       "      <td>NaN</td>\n",
       "      <td>NaN</td>\n",
       "      <td>NaN</td>\n",
       "      <td>NaN</td>\n",
       "      <td>...</td>\n",
       "      <td>NaN</td>\n",
       "      <td>NaN</td>\n",
       "      <td>NaN</td>\n",
       "      <td>NaN</td>\n",
       "      <td>NaN</td>\n",
       "      <td>NaN</td>\n",
       "      <td>9409</td>\n",
       "      <td>GATACACTTGATGTACTGCCAAGTGGGCAGTTTACCGTAAATACTC...</td>\n",
       "      <td>False</td>\n",
       "      <td>ATATGCCAAGTACGCCCCCTATTGACGTCAATGACGGTAAATGGCC...</td>\n",
       "    </tr>\n",
       "    <tr>\n",
       "      <th>2427561</th>\n",
       "      <td>_73_91_297391_addgene-plasmid-153702-sequence-...</td>\n",
       "      <td>regulatory</td>\n",
       "      <td>CACCATGGGGTACATAAATGTTTTCGCCTTTCCATTCACGATCTAT...</td>\n",
       "      <td>NaN</td>\n",
       "      <td>NaN</td>\n",
       "      <td>vertebrate consensus sequence for strong initi...</td>\n",
       "      <td>other</td>\n",
       "      <td>NaN</td>\n",
       "      <td>NaN</td>\n",
       "      <td>NaN</td>\n",
       "      <td>...</td>\n",
       "      <td>NaN</td>\n",
       "      <td>NaN</td>\n",
       "      <td>NaN</td>\n",
       "      <td>NaN</td>\n",
       "      <td>NaN</td>\n",
       "      <td>NaN</td>\n",
       "      <td>6272</td>\n",
       "      <td>GCGGCCGCTGGCGGGTGTGTCGAGTGGATGGTAGGATCGACAAAGA...</td>\n",
       "      <td>False</td>\n",
       "      <td>CACCATGGGGTACATAAATGTTTTCGCCTTTCCATTCACGATCTAT...</td>\n",
       "    </tr>\n",
       "    <tr>\n",
       "      <th>2427590</th>\n",
       "      <td>_47_51_174751_addgene-plasmid-86931-sequence-1...</td>\n",
       "      <td>CDS</td>\n",
       "      <td>GGGGCACAAGCTGGAGTACAACTTCAACAGCCACAACGTCTATATC...</td>\n",
       "      <td>NaN</td>\n",
       "      <td>Clover</td>\n",
       "      <td>NaN</td>\n",
       "      <td>NaN</td>\n",
       "      <td>1</td>\n",
       "      <td>bright green-yellow fluorescent protein derive...</td>\n",
       "      <td>VSKGEELFTGVVPILVELDGDVNGHKFSVRGEGEGDATNGKLTLKF...</td>\n",
       "      <td>...</td>\n",
       "      <td>NaN</td>\n",
       "      <td>NaN</td>\n",
       "      <td>NaN</td>\n",
       "      <td>NaN</td>\n",
       "      <td>NaN</td>\n",
       "      <td>NaN</td>\n",
       "      <td>6082</td>\n",
       "      <td>AGGATGTTGCCGTCCTCCTTGAAGTCGATGCCCTTCAGCTCGATGC...</td>\n",
       "      <td>True</td>\n",
       "      <td>AGGATGTTGCCGTCCTCCTTGAAGTCGATGCCCTTCAGCTCGATGC...</td>\n",
       "    </tr>\n",
       "    <tr>\n",
       "      <th>2427639</th>\n",
       "      <td>_56_21_295621_addgene-plasmid-152609-sequence-...</td>\n",
       "      <td>regulatory</td>\n",
       "      <td>CACCATGGCCGAAAATGTCACTGGCTTATTTAAGGATTGCAGTAAA...</td>\n",
       "      <td>NaN</td>\n",
       "      <td>NaN</td>\n",
       "      <td>vertebrate consensus sequence for strong initi...</td>\n",
       "      <td>other</td>\n",
       "      <td>NaN</td>\n",
       "      <td>NaN</td>\n",
       "      <td>NaN</td>\n",
       "      <td>...</td>\n",
       "      <td>NaN</td>\n",
       "      <td>NaN</td>\n",
       "      <td>NaN</td>\n",
       "      <td>NaN</td>\n",
       "      <td>NaN</td>\n",
       "      <td>NaN</td>\n",
       "      <td>8528</td>\n",
       "      <td>GCGGCCGCTGGCGGGTGTGTCGAGTGGATGGTAGGATCGACAAAGA...</td>\n",
       "      <td>False</td>\n",
       "      <td>CACCATGGCCGAAAATGTCACTGGCTTATTTAAGGATTGCAGTAAA...</td>\n",
       "    </tr>\n",
       "    <tr>\n",
       "      <th>2427952</th>\n",
       "      <td>_61_37_256137_addgene-plasmid-131123-sequence-...</td>\n",
       "      <td>CDS</td>\n",
       "      <td>AGCTTGGCAGCAACAGGACTAGGATGAGTAGCAGCACGTTCCTTAT...</td>\n",
       "      <td>S. cerevisiae URA3</td>\n",
       "      <td>URA3</td>\n",
       "      <td>yeast auxotrophic marker, counterselectable wi...</td>\n",
       "      <td>NaN</td>\n",
       "      <td>1</td>\n",
       "      <td>orotidine-5'-phosphate decarboxylase, required...</td>\n",
       "      <td>MSKATYKERAATHPSPVAAKLFNIMHEKQTNLCASLDVRTTKELLE...</td>\n",
       "      <td>...</td>\n",
       "      <td>NaN</td>\n",
       "      <td>NaN</td>\n",
       "      <td>NaN</td>\n",
       "      <td>NaN</td>\n",
       "      <td>NaN</td>\n",
       "      <td>NaN</td>\n",
       "      <td>8797</td>\n",
       "      <td>ATTTAATATCATGCACGAAAAGCAAACAAACTTGTGTGCTTCATTG...</td>\n",
       "      <td>False</td>\n",
       "      <td>AGCTTGGCAGCAACAGGACTAGGATGAGTAGCAGCACGTTCCTTAT...</td>\n",
       "    </tr>\n",
       "  </tbody>\n",
       "</table>\n",
       "<p>22987 rows × 24 columns</p>\n",
       "</div>"
      ],
      "text/plain": [
       "                                                      name        type  \\\n",
       "0        _11_17_51117_addgene-plasmid-39353-sequence-51117  terminator   \n",
       "6        _13_53_81353_addgene-plasmid-51658-sequence-81353    promoter   \n",
       "15       _27_81_232781_addgene-plasmid-120241-sequence-...    promoter   \n",
       "16       _27_81_232781_addgene-plasmid-120241-sequence-...      intron   \n",
       "18       _27_81_232781_addgene-plasmid-120241-sequence-...  regulatory   \n",
       "...                                                    ...         ...   \n",
       "2427388  _39_74_213974_addgene-plasmid-113423-sequence-...    enhancer   \n",
       "2427561  _73_91_297391_addgene-plasmid-153702-sequence-...  regulatory   \n",
       "2427590  _47_51_174751_addgene-plasmid-86931-sequence-1...         CDS   \n",
       "2427639  _56_21_295621_addgene-plasmid-152609-sequence-...  regulatory   \n",
       "2427952  _61_37_256137_addgene-plasmid-131123-sequence-...         CDS   \n",
       "\n",
       "                                                       seq  \\\n",
       "0        CCGGTAGAGGTGTGGTCAATAAGAGCGACCTCATACTATACCTGAG...   \n",
       "6                                      CCTATAGTGAGTCGTATTA   \n",
       "15       GGGCAGAGCGCACATCGCCCACAGTCCCCGAGAAGTTGGGGGGAGG...   \n",
       "16       GTAAGTGCCGTGTGTGGTTCCCGCGGGCCTGGCCTCTTTACGGGTT...   \n",
       "18                                              GCCGCCATGG   \n",
       "...                                                    ...   \n",
       "2427388  ATATGCCAAGTACGCCCCCTATTGACGTCAATGACGGTAAATGGCC...   \n",
       "2427561  CACCATGGGGTACATAAATGTTTTCGCCTTTCCATTCACGATCTAT...   \n",
       "2427590  GGGGCACAAGCTGGAGTACAACTTCAACAGCCACAACGTCTATATC...   \n",
       "2427639  CACCATGGCCGAAAATGTCACTGGCTTATTTAAGGATTGCAGTAAA...   \n",
       "2427952  AGCTTGGCAGCAACAGGACTAGGATGAGTAGCAGCACGTTCCTTAT...   \n",
       "\n",
       "                       gene                     label  \\\n",
       "0        S. cerevisiae ADH1           ADH1 terminator   \n",
       "6                       NaN               T7 promoter   \n",
       "15                      NaN  EF-1-alpha core promoter   \n",
       "16                      NaN       EF-1-alpha intron A   \n",
       "18                      NaN                       NaN   \n",
       "...                     ...                       ...   \n",
       "2427388                 NaN              CMV enhancer   \n",
       "2427561                 NaN                       NaN   \n",
       "2427590                 NaN                    Clover   \n",
       "2427639                 NaN                       NaN   \n",
       "2427952  S. cerevisiae URA3                      URA3   \n",
       "\n",
       "                                                      note regulatory_class  \\\n",
       "0        transcription terminator for the S. cerevisiae...              NaN   \n",
       "6             promoter for bacteriophage T7 RNA polymerase              NaN   \n",
       "15       core promoter for human elongation factor EF-1...              NaN   \n",
       "16       intron upstream of the start codon of human EF...              NaN   \n",
       "18       vertebrate consensus sequence for strong initi...            other   \n",
       "...                                                    ...              ...   \n",
       "2427388     human cytomegalovirus immediate early enhancer              NaN   \n",
       "2427561  vertebrate consensus sequence for strong initi...            other   \n",
       "2427590                                                NaN              NaN   \n",
       "2427639  vertebrate consensus sequence for strong initi...            other   \n",
       "2427952  yeast auxotrophic marker, counterselectable wi...              NaN   \n",
       "\n",
       "        codon_start                                            product  \\\n",
       "0               NaN                                                NaN   \n",
       "6               NaN                                                NaN   \n",
       "15              NaN                                                NaN   \n",
       "16              NaN                                                NaN   \n",
       "18              NaN                                                NaN   \n",
       "...             ...                                                ...   \n",
       "2427388         NaN                                                NaN   \n",
       "2427561         NaN                                                NaN   \n",
       "2427590           1  bright green-yellow fluorescent protein derive...   \n",
       "2427639         NaN                                                NaN   \n",
       "2427952           1  orotidine-5'-phosphate decarboxylase, required...   \n",
       "\n",
       "                                               translation  ... ncRNA_class  \\\n",
       "0                                                      NaN  ...         NaN   \n",
       "6                                                      NaN  ...         NaN   \n",
       "15                                                     NaN  ...         NaN   \n",
       "16                                                     NaN  ...         NaN   \n",
       "18                                                     NaN  ...         NaN   \n",
       "...                                                    ...  ...         ...   \n",
       "2427388                                                NaN  ...         NaN   \n",
       "2427561                                                NaN  ...         NaN   \n",
       "2427590  VSKGEELFTGVVPILVELDGDVNGHKFSVRGEGEGDATNGKLTLKF...  ...         NaN   \n",
       "2427639                                                NaN  ...         NaN   \n",
       "2427952  MSKATYKERAATHPSPVAAKLFNIMHEKQTNLCASLDVRTTKELLE...  ...         NaN   \n",
       "\n",
       "        estimated_length db_xref protein_id function allele seq_len  \\\n",
       "0                    NaN     NaN        NaN      NaN    NaN     188   \n",
       "6                    NaN     NaN        NaN      NaN    NaN      19   \n",
       "15                   NaN     NaN        NaN      NaN    NaN     212   \n",
       "16                   NaN     NaN        NaN      NaN    NaN     939   \n",
       "18                   NaN     NaN        NaN      NaN    NaN      10   \n",
       "...                  ...     ...        ...      ...    ...     ...   \n",
       "2427388              NaN     NaN        NaN      NaN    NaN    9409   \n",
       "2427561              NaN     NaN        NaN      NaN    NaN    6272   \n",
       "2427590              NaN     NaN        NaN      NaN    NaN    6082   \n",
       "2427639              NaN     NaN        NaN      NaN    NaN    8528   \n",
       "2427952              NaN     NaN        NaN      NaN    NaN    8797   \n",
       "\n",
       "                                                   rev_seq    rev  \\\n",
       "0        GCGAATTTCTTATGATTTATGATTTTTATTATTAAATAAGTTATAA...  False   \n",
       "6                                      TAATACGACTCACTATAGG  False   \n",
       "15       CTGTGTTCTGGCGGCAAACCCGTTGCGAAAAAGAACGTTCACGGCG...   True   \n",
       "16       CTGAAATGGAAGAAAAAAACTTTGAACCACTGTCTGAGGCTTGAGA...   True   \n",
       "18                                              CCATGGCGGC   True   \n",
       "...                                                    ...    ...   \n",
       "2427388  GATACACTTGATGTACTGCCAAGTGGGCAGTTTACCGTAAATACTC...  False   \n",
       "2427561  GCGGCCGCTGGCGGGTGTGTCGAGTGGATGGTAGGATCGACAAAGA...  False   \n",
       "2427590  AGGATGTTGCCGTCCTCCTTGAAGTCGATGCCCTTCAGCTCGATGC...   True   \n",
       "2427639  GCGGCCGCTGGCGGGTGTGTCGAGTGGATGGTAGGATCGACAAAGA...  False   \n",
       "2427952  ATTTAATATCATGCACGAAAAGCAAACAAACTTGTGTGCTTCATTG...  False   \n",
       "\n",
       "                                                 canon_seq  \n",
       "0        CCGGTAGAGGTGTGGTCAATAAGAGCGACCTCATACTATACCTGAG...  \n",
       "6                                      CCTATAGTGAGTCGTATTA  \n",
       "15       CTGTGTTCTGGCGGCAAACCCGTTGCGAAAAAGAACGTTCACGGCG...  \n",
       "16       CTGAAATGGAAGAAAAAAACTTTGAACCACTGTCTGAGGCTTGAGA...  \n",
       "18                                              CCATGGCGGC  \n",
       "...                                                    ...  \n",
       "2427388  ATATGCCAAGTACGCCCCCTATTGACGTCAATGACGGTAAATGGCC...  \n",
       "2427561  CACCATGGGGTACATAAATGTTTTCGCCTTTCCATTCACGATCTAT...  \n",
       "2427590  AGGATGTTGCCGTCCTCCTTGAAGTCGATGCCCTTCAGCTCGATGC...  \n",
       "2427639  CACCATGGCCGAAAATGTCACTGGCTTATTTAAGGATTGCAGTAAA...  \n",
       "2427952  AGCTTGGCAGCAACAGGACTAGGATGAGTAGCAGCACGTTCCTTAT...  \n",
       "\n",
       "[22987 rows x 24 columns]"
      ]
     },
     "execution_count": 63,
     "metadata": {},
     "output_type": "execute_result"
    }
   ],
   "source": [
    "unique=l.drop_duplicates(subset=['canon_seq'])\n",
    "unique"
   ]
  },
  {
   "cell_type": "code",
   "execution_count": 73,
   "metadata": {},
   "outputs": [
    {
     "data": {
      "text/plain": [
       "'_95_39_199539_addgene-plasmid-102726-sequence-199539'"
      ]
     },
     "execution_count": 73,
     "metadata": {},
     "output_type": "execute_result"
    }
   ],
   "source": [
    "unique.sort_values(by='seq_len').iloc[-1]['name']"
   ]
  },
  {
   "cell_type": "code",
   "execution_count": 76,
   "metadata": {},
   "outputs": [
    {
     "name": "stderr",
     "output_type": "stream",
     "text": [
      "/usr/local/lib/python3.7/site-packages/Bio/GenBank/__init__.py:364: BiopythonParserWarning: Attempting to fix invalid location '38523..67' as it looks like incorrect origin wrapping. Please fix input file, this could have unintended behavior.\n",
      "  BiopythonParserWarning,\n"
     ]
    }
   ],
   "source": [
    "with open('../data/addgene_gbks/_95_39_199539_addgene-plasmid-102726-sequence-199539.gbk','r') as file_handle:\n",
    "    record_dict = SeqIO.to_dict(SeqIO.parse(file_handle, 'gb'))\n",
    "gbkFile = record_dict[list(record_dict.keys())[0]]"
   ]
  },
  {
   "cell_type": "code",
   "execution_count": 81,
   "metadata": {},
   "outputs": [
    {
     "name": "stdout",
     "output_type": "stream",
     "text": [
      "type: enhancer\n",
      "location: join{[38522:38759](+), [0:67](+)}\n",
      "qualifiers:\n",
      "    Key: label, Value: ['CMV enhancer']\n",
      "    Key: note, Value: ['human cytomegalovirus immediate early enhancer']\n",
      "\n"
     ]
    }
   ],
   "source": [
    "print(gbkFile.features[-1])"
   ]
  },
  {
   "cell_type": "code",
   "execution_count": null,
   "metadata": {},
   "outputs": [],
   "source": []
  },
  {
   "cell_type": "code",
   "execution_count": null,
   "metadata": {},
   "outputs": [],
   "source": []
  },
  {
   "cell_type": "code",
   "execution_count": null,
   "metadata": {},
   "outputs": [],
   "source": []
  },
  {
   "cell_type": "code",
   "execution_count": 68,
   "metadata": {},
   "outputs": [
    {
     "data": {
      "text/plain": [
       "22987"
      ]
     },
     "execution_count": 68,
     "metadata": {},
     "output_type": "execute_result"
    }
   ],
   "source": [
    "featureList=[SeqRecord(Seq(ele[0]),str(ele[1]),description=\"\") for ele in list(zip(unique['canon_seq'].to_list(),unique.index.to_list()))]\n",
    "SeqIO.write(featureList,'/Users/mattmcguffie/Desktop/unique_features.fasta', 'fasta')"
   ]
  },
  {
   "cell_type": "code",
   "execution_count": null,
   "metadata": {},
   "outputs": [],
   "source": []
  },
  {
   "cell_type": "code",
   "execution_count": null,
   "metadata": {},
   "outputs": [],
   "source": []
  },
  {
   "cell_type": "code",
   "execution_count": 67,
   "metadata": {},
   "outputs": [
    {
     "data": {
      "text/plain": [
       "1328330"
      ]
     },
     "execution_count": 67,
     "metadata": {},
     "output_type": "execute_result"
    }
   ],
   "source": [
    "from Bio.Seq import Seq\n",
    "from Bio import SeqIO\n",
    "from Bio.SeqRecord import SeqRecord\n",
    "featureList=[SeqRecord(Seq(ele[0]),str(ele[1]),description=\"\") for ele in list(zip(l['seq'].to_list(),l.index.to_list()))]\n",
    "SeqIO.write(featureList,'/Users/mattmcguffie/Desktop/features.fasta', 'fasta')"
   ]
  },
  {
   "cell_type": "code",
   "execution_count": null,
   "metadata": {},
   "outputs": [],
   "source": []
  }
 ],
 "metadata": {
  "kernelspec": {
   "display_name": "Python 3",
   "language": "python",
   "name": "python3"
  },
  "language_info": {
   "codemirror_mode": {
    "name": "ipython",
    "version": 3
   },
   "file_extension": ".py",
   "mimetype": "text/x-python",
   "name": "python",
   "nbconvert_exporter": "python",
   "pygments_lexer": "ipython3",
   "version": "3.7.4"
  },
  "toc": {
   "base_numbering": 1,
   "nav_menu": {},
   "number_sections": true,
   "sideBar": true,
   "skip_h1_title": false,
   "title_cell": "Table of Contents",
   "title_sidebar": "Contents",
   "toc_cell": false,
   "toc_position": {},
   "toc_section_display": true,
   "toc_window_display": false
  }
 },
 "nbformat": 4,
 "nbformat_minor": 2
}
